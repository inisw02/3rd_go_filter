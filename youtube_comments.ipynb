{
  "nbformat": 4,
  "nbformat_minor": 0,
  "metadata": {
    "colab": {
      "provenance": []
    },
    "kernelspec": {
      "name": "python3",
      "display_name": "Python 3"
    },
    "language_info": {
      "name": "python"
    }
  },
  "cells": [
    {
      "cell_type": "code",
      "execution_count": null,
      "metadata": {
        "colab": {
          "base_uri": "https://localhost:8080/"
        },
        "id": "r35KhXN3L9jw",
        "outputId": "cad12466-6092-4042-9bad-c4a72cf996d4"
      },
      "outputs": [
        {
          "output_type": "stream",
          "name": "stdout",
          "text": [
            "Looking in indexes: https://pypi.org/simple, https://us-python.pkg.dev/colab-wheels/public/simple/\n",
            "Requirement already satisfied: google-api-python-client in /usr/local/lib/python3.8/dist-packages (1.12.11)\n",
            "Requirement already satisfied: google-api-core<3dev,>=1.21.0 in /usr/local/lib/python3.8/dist-packages (from google-api-python-client) (2.8.2)\n",
            "Requirement already satisfied: uritemplate<4dev,>=3.0.0 in /usr/local/lib/python3.8/dist-packages (from google-api-python-client) (3.0.1)\n",
            "Requirement already satisfied: six<2dev,>=1.13.0 in /usr/local/lib/python3.8/dist-packages (from google-api-python-client) (1.15.0)\n",
            "Requirement already satisfied: httplib2<1dev,>=0.15.0 in /usr/local/lib/python3.8/dist-packages (from google-api-python-client) (0.17.4)\n",
            "Requirement already satisfied: google-auth<3dev,>=1.16.0 in /usr/local/lib/python3.8/dist-packages (from google-api-python-client) (2.15.0)\n",
            "Requirement already satisfied: google-auth-httplib2>=0.0.3 in /usr/local/lib/python3.8/dist-packages (from google-api-python-client) (0.0.4)\n",
            "Requirement already satisfied: protobuf<5.0.0dev,>=3.15.0 in /usr/local/lib/python3.8/dist-packages (from google-api-core<3dev,>=1.21.0->google-api-python-client) (3.19.6)\n",
            "Requirement already satisfied: googleapis-common-protos<2.0dev,>=1.56.2 in /usr/local/lib/python3.8/dist-packages (from google-api-core<3dev,>=1.21.0->google-api-python-client) (1.57.0)\n",
            "Requirement already satisfied: requests<3.0.0dev,>=2.18.0 in /usr/local/lib/python3.8/dist-packages (from google-api-core<3dev,>=1.21.0->google-api-python-client) (2.23.0)\n",
            "Requirement already satisfied: pyasn1-modules>=0.2.1 in /usr/local/lib/python3.8/dist-packages (from google-auth<3dev,>=1.16.0->google-api-python-client) (0.2.8)\n",
            "Requirement already satisfied: cachetools<6.0,>=2.0.0 in /usr/local/lib/python3.8/dist-packages (from google-auth<3dev,>=1.16.0->google-api-python-client) (5.2.0)\n",
            "Requirement already satisfied: rsa<5,>=3.1.4 in /usr/local/lib/python3.8/dist-packages (from google-auth<3dev,>=1.16.0->google-api-python-client) (4.9)\n",
            "Requirement already satisfied: pyasn1<0.5.0,>=0.4.6 in /usr/local/lib/python3.8/dist-packages (from pyasn1-modules>=0.2.1->google-auth<3dev,>=1.16.0->google-api-python-client) (0.4.8)\n",
            "Requirement already satisfied: certifi>=2017.4.17 in /usr/local/lib/python3.8/dist-packages (from requests<3.0.0dev,>=2.18.0->google-api-core<3dev,>=1.21.0->google-api-python-client) (2022.12.7)\n",
            "Requirement already satisfied: idna<3,>=2.5 in /usr/local/lib/python3.8/dist-packages (from requests<3.0.0dev,>=2.18.0->google-api-core<3dev,>=1.21.0->google-api-python-client) (2.10)\n",
            "Requirement already satisfied: urllib3!=1.25.0,!=1.25.1,<1.26,>=1.21.1 in /usr/local/lib/python3.8/dist-packages (from requests<3.0.0dev,>=2.18.0->google-api-core<3dev,>=1.21.0->google-api-python-client) (1.24.3)\n",
            "Requirement already satisfied: chardet<4,>=3.0.2 in /usr/local/lib/python3.8/dist-packages (from requests<3.0.0dev,>=2.18.0->google-api-core<3dev,>=1.21.0->google-api-python-client) (3.0.4)\n"
          ]
        }
      ],
      "source": [
        "!pip install google-api-python-client"
      ]
    },
    {
      "cell_type": "code",
      "source": [
        "links = \"\"\"\n",
        "https://www.youtube.com/watch?v=Q_MsrEiSU5g\n",
        "https://www.youtube.com/shorts/KjAlxDlNVME\n",
        "https://www.youtube.com/shorts/A8_E4Ma-W6c\n",
        "https://www.youtube.com/shorts/3_ZPbL40kMY\n",
        "https://www.youtube.com/shorts/pPaUQbosqoA\n",
        "https://www.youtube.com/shorts/39iGSE5STAQ\n",
        "https://www.youtube.com/shorts/DTRB9u0S1Rg\n",
        "https://www.youtube.com/watch?v=W7uLhS9qfis\n",
        "https://www.youtube.com/watch?v=1bExPGA867c\n",
        "https://www.youtube.com/watch?v=EpFyLF1s2Ls\n",
        "https://www.youtube.com/watch?v=HHYQL2RPAwE\n",
        "https://www.youtube.com/watch?v=H1lXuhk5_hg\n",
        "https://www.youtube.com/watch?v=OSxjKqeYep4\n",
        "https://www.youtube.com/watch?v=qUwQ1GNq_jM\n",
        "https://www.youtube.com/watch?v=ocigFfdGhR8\n",
        "https://www.youtube.com/watch?v=XEBPrW00YuQ\n",
        "https://www.youtube.com/watch?v=5ne163dnJCc\n",
        "https://www.youtube.com/watch?v=IYHcInQ4SbU\n",
        "https://www.youtube.com/watch?v=0i6UlrWAntA\n",
        "https://www.youtube.com/watch?v=SQyO6g4mxbs\n",
        "https://www.youtube.com/watch?v=8p_uktlrwZY\n",
        "https://www.youtube.com/watch?v=M_zDxC6vYvg\n",
        "https://www.youtube.com/watch?v=81pGHPUEasc\n",
        "https://www.youtube.com/watch?v=CywUomf09s8\n",
        "https://www.youtube.com/watch?v=AnNKPe5e1KQ\n",
        "https://www.youtube.com/watch?v=qdalMGd3YA4\n",
        "https://www.youtube.com/watch?v=b1LDNYIJTok\n",
        "https://www.youtube.com/watch?v=jjgzoLds_XA\n",
        "https://www.youtube.com/watch?v=AVrTy9heZsU\n",
        "https://www.youtube.com/watch?v=Gm11Rfwoo4Y\n",
        "https://www.youtube.com/watch?v=3EYWqbMFCDY\n",
        "https://www.youtube.com/watch?v=wmR86eWTzd8\n",
        "https://www.youtube.com/watch?v=_3Nm39a0_5M\n",
        "https://www.youtube.com/watch?v=rNu45VggvXo\n",
        "https://www.youtube.com/watch?v=3_CcCxHVUhM\n",
        "https://www.youtube.com/watch?v=GBm-6zO-J_c\n",
        "https://www.youtube.com/watch?v=tC2nSfR6MOA\n",
        "https://www.youtube.com/watch?v=DM93dP7O7EE\n",
        "https://www.youtube.com/watch?v=H1RtX_aDtE4\n",
        "https://www.youtube.com/watch?v=TFQdgdiI40U\n",
        "https://www.youtube.com/watch?v=SA9_m3QGu5I\n",
        "https://www.youtube.com/watch?v=rx2Kfsa4L94\n",
        "https://www.youtube.com/watch?v=u-tM2xLPnzU\n",
        "https://www.youtube.com/watch?v=RipL4lExEDI\n",
        "https://www.youtube.com/watch?v=kmPc3KnmBb8\n",
        "https://www.youtube.com/watch?v=fVeMGkO3mxY\n",
        "https://www.youtube.com/watch?v=oAl_LLs7epQ\n",
        "https://www.youtube.com/watch?v=4TP2KpYq-bQ\n",
        "https://www.youtube.com/watch?v=tMNfNd7GDmc\n",
        "https://www.youtube.com/watch?v=Ws0R_yhdYW8\n",
        "https://www.youtube.com/watch?v=3vIUb7zwbjU\n",
        "https://www.youtube.com/watch?v=sIDigmhkonI\n",
        "https://www.youtube.com/watch?v=H1lXuhk5_hg\n",
        "https://www.youtube.com/watch?v=P8U0Fk46dNY\n",
        "https://www.youtube.com/watch?v=bdP2kskuG40\n",
        "https://www.youtube.com/watch?v=yGRGlQMvxlI\n",
        "https://www.youtube.com/watch?v=rpaCoJgRkeY\n",
        "\"\"\""
      ],
      "metadata": {
        "id": "U_FMgd8BMhw3"
      },
      "execution_count": null,
      "outputs": []
    },
    {
      "cell_type": "code",
      "source": [
        "links[1:-1]"
      ],
      "metadata": {
        "colab": {
          "base_uri": "https://localhost:8080/",
          "height": 109
        },
        "id": "T6u0SlfBOIqy",
        "outputId": "04f7394b-e9a8-4793-9b2d-9c7828ea3153"
      },
      "execution_count": null,
      "outputs": [
        {
          "output_type": "execute_result",
          "data": {
            "text/plain": [
              "'https://www.youtube.com/watch?v=Q_MsrEiSU5g\\nhttps://www.youtube.com/shorts/KjAlxDlNVME\\nhttps://www.youtube.com/shorts/A8_E4Ma-W6c\\nhttps://www.youtube.com/shorts/3_ZPbL40kMY\\nhttps://www.youtube.com/shorts/pPaUQbosqoA\\nhttps://www.youtube.com/shorts/39iGSE5STAQ\\nhttps://www.youtube.com/shorts/DTRB9u0S1Rg\\nhttps://www.youtube.com/watch?v=W7uLhS9qfis\\nhttps://www.youtube.com/watch?v=1bExPGA867c\\nhttps://www.youtube.com/watch?v=EpFyLF1s2Ls\\nhttps://www.youtube.com/watch?v=HHYQL2RPAwE\\nhttps://www.youtube.com/watch?v=H1lXuhk5_hg\\nhttps://www.youtube.com/watch?v=OSxjKqeYep4\\nhttps://www.youtube.com/watch?v=qUwQ1GNq_jM\\nhttps://www.youtube.com/watch?v=ocigFfdGhR8\\nhttps://www.youtube.com/watch?v=XEBPrW00YuQ\\nhttps://www.youtube.com/watch?v=5ne163dnJCc\\nhttps://www.youtube.com/watch?v=IYHcInQ4SbU\\nhttps://www.youtube.com/watch?v=0i6UlrWAntA\\nhttps://www.youtube.com/watch?v=SQyO6g4mxbs\\nhttps://www.youtube.com/watch?v=8p_uktlrwZY\\nhttps://www.youtube.com/watch?v=M_zDxC6vYvg\\nhttps://www.youtube.com/watch?v=81pGHPUEasc\\nhttps://www.youtube.com/watch?v=CywUomf09s8\\nhttps://www.youtube.com/watch?v=AnNKPe5e1KQ\\nhttps://www.youtube.com/watch?v=qdalMGd3YA4\\nhttps://www.youtube.com/watch?v=b1LDNYIJTok\\nhttps://www.youtube.com/watch?v=jjgzoLds_XA\\nhttps://www.youtube.com/watch?v=AVrTy9heZsU\\nhttps://www.youtube.com/watch?v=Gm11Rfwoo4Y\\nhttps://www.youtube.com/watch?v=3EYWqbMFCDY\\nhttps://www.youtube.com/watch?v=wmR86eWTzd8\\nhttps://www.youtube.com/watch?v=_3Nm39a0_5M\\nhttps://www.youtube.com/watch?v=rNu45VggvXo\\nhttps://www.youtube.com/watch?v=3_CcCxHVUhM\\nhttps://www.youtube.com/watch?v=GBm-6zO-J_c\\nhttps://www.youtube.com/watch?v=tC2nSfR6MOA\\nhttps://www.youtube.com/watch?v=DM93dP7O7EE\\nhttps://www.youtube.com/watch?v=H1RtX_aDtE4\\nhttps://www.youtube.com/watch?v=TFQdgdiI40U\\nhttps://www.youtube.com/watch?v=SA9_m3QGu5I\\nhttps://www.youtube.com/watch?v=rx2Kfsa4L94\\nhttps://www.youtube.com/watch?v=u-tM2xLPnzU\\nhttps://www.youtube.com/watch?v=RipL4lExEDI\\nhttps://www.youtube.com/watch?v=kmPc3KnmBb8\\nhttps://www.youtube.com/watch?v=fVeMGkO3mxY\\nhttps://www.youtube.com/watch?v=oAl_LLs7epQ\\nhttps://www.youtube.com/watch?v=4TP2KpYq-bQ\\nhttps://www.youtube.com/watch?v=tMNfNd7GDmc\\nhttps://www.youtube.com/watch?v=Ws0R_yhdYW8\\nhttps://www.youtube.com/watch?v=3vIUb7zwbjU\\nhttps://www.youtube.com/watch?v=sIDigmhkonI\\nhttps://www.youtube.com/watch?v=H1lXuhk5_hg\\nhttps://www.youtube.com/watch?v=P8U0Fk46dNY\\nhttps://www.youtube.com/watch?v=bdP2kskuG40\\nhttps://www.youtube.com/watch?v=yGRGlQMvxlI\\nhttps://www.youtube.com/watch?v=rpaCoJgRkeY'"
            ],
            "application/vnd.google.colaboratory.intrinsic+json": {
              "type": "string"
            }
          },
          "metadata": {},
          "execution_count": 8
        }
      ]
    },
    {
      "cell_type": "code",
      "source": [
        "video_ids = list()\n",
        "\n",
        "for link in links[1:-1].split():\n",
        "  if '=' in link:\n",
        "    id_ = link.split('=')[-1]\n",
        "  else:\n",
        "    id_ = link.split('/')[-1]\n",
        "  video_ids.append(id_)\n"
      ],
      "metadata": {
        "id": "iwim60liOB19"
      },
      "execution_count": null,
      "outputs": []
    },
    {
      "cell_type": "code",
      "source": [
        "video_ids"
      ],
      "metadata": {
        "colab": {
          "base_uri": "https://localhost:8080/"
        },
        "id": "l3cjCqchOSyX",
        "outputId": "50b27705-0fb4-4d00-885a-eb359a124d15"
      },
      "execution_count": null,
      "outputs": [
        {
          "output_type": "execute_result",
          "data": {
            "text/plain": [
              "['Q_MsrEiSU5g',\n",
              " 'KjAlxDlNVME',\n",
              " 'A8_E4Ma-W6c',\n",
              " '3_ZPbL40kMY',\n",
              " 'pPaUQbosqoA',\n",
              " '39iGSE5STAQ',\n",
              " 'DTRB9u0S1Rg',\n",
              " 'W7uLhS9qfis',\n",
              " '1bExPGA867c',\n",
              " 'EpFyLF1s2Ls',\n",
              " 'HHYQL2RPAwE',\n",
              " 'H1lXuhk5_hg',\n",
              " 'OSxjKqeYep4',\n",
              " 'qUwQ1GNq_jM',\n",
              " 'ocigFfdGhR8',\n",
              " 'XEBPrW00YuQ',\n",
              " '5ne163dnJCc',\n",
              " 'IYHcInQ4SbU',\n",
              " '0i6UlrWAntA',\n",
              " 'SQyO6g4mxbs',\n",
              " '8p_uktlrwZY',\n",
              " 'M_zDxC6vYvg',\n",
              " '81pGHPUEasc',\n",
              " 'CywUomf09s8',\n",
              " 'AnNKPe5e1KQ',\n",
              " 'qdalMGd3YA4',\n",
              " 'b1LDNYIJTok',\n",
              " 'jjgzoLds_XA',\n",
              " 'AVrTy9heZsU',\n",
              " 'Gm11Rfwoo4Y',\n",
              " '3EYWqbMFCDY',\n",
              " 'wmR86eWTzd8',\n",
              " '_3Nm39a0_5M',\n",
              " 'rNu45VggvXo',\n",
              " '3_CcCxHVUhM',\n",
              " 'GBm-6zO-J_c',\n",
              " 'tC2nSfR6MOA',\n",
              " 'DM93dP7O7EE',\n",
              " 'H1RtX_aDtE4',\n",
              " 'TFQdgdiI40U',\n",
              " 'SA9_m3QGu5I',\n",
              " 'rx2Kfsa4L94',\n",
              " 'u-tM2xLPnzU',\n",
              " 'RipL4lExEDI',\n",
              " 'kmPc3KnmBb8',\n",
              " 'fVeMGkO3mxY',\n",
              " 'oAl_LLs7epQ',\n",
              " '4TP2KpYq-bQ',\n",
              " 'tMNfNd7GDmc',\n",
              " 'Ws0R_yhdYW8',\n",
              " '3vIUb7zwbjU',\n",
              " 'sIDigmhkonI',\n",
              " 'H1lXuhk5_hg',\n",
              " 'P8U0Fk46dNY',\n",
              " 'bdP2kskuG40',\n",
              " 'yGRGlQMvxlI',\n",
              " 'rpaCoJgRkeY']"
            ]
          },
          "metadata": {},
          "execution_count": 13
        }
      ]
    },
    {
      "cell_type": "code",
      "source": [
        "import pandas\n",
        "from googleapiclient.discovery import build\n",
        " \n",
        "def get_comments(api_key, video_id):\n",
        "  api_key = api_key\n",
        "  video_id = video_id\n",
        "  \n",
        "  comments = list()\n",
        "  api_obj = build('youtube', 'v3', developerKey=api_key)\n",
        "  response = api_obj.commentThreads().list(part='snippet,replies', videoId=video_id, maxResults=100).execute()\n",
        "  \n",
        "  while response:\n",
        "      for item in response['items']:\n",
        "          comment = item['snippet']['topLevelComment']['snippet']\n",
        "          comments.append(comment['textDisplay'])\n",
        "  \n",
        "          if item['snippet']['totalReplyCount'] > 0:\n",
        "              for reply_item in item['replies']['comments']:\n",
        "                  reply = reply_item['snippet']\n",
        "                  comments.append(reply['textDisplay'])\n",
        "  \n",
        "      if 'nextPageToken' in response:\n",
        "          response = api_obj.commentThreads().list(part='snippet,replies', videoId=video_id, pageToken=response['nextPageToken'], maxResults=100).execute()\n",
        "      else:\n",
        "          break\n",
        "  \n",
        "  return comments"
      ],
      "metadata": {
        "id": "c1EnONdGMBLx"
      },
      "execution_count": null,
      "outputs": []
    },
    {
      "cell_type": "code",
      "source": [
        "api_key = \n",
        "comments = list()\n",
        "for video_id in video_ids:\n",
        "  comment = get_comments(api_key, video_id)\n",
        "  comments.extend(comment)"
      ],
      "metadata": {
        "id": "N2klSt45OsnS"
      },
      "execution_count": null,
      "outputs": []
    },
    {
      "cell_type": "code",
      "source": [
        "print(len(comments))\n",
        "comments_ = list(set(comments))\n",
        "print(len(comments_))"
      ],
      "metadata": {
        "colab": {
          "base_uri": "https://localhost:8080/"
        },
        "id": "mwL6tx-hPJOe",
        "outputId": "aa366411-1599-4b23-a7b2-13c8631fb313"
      },
      "execution_count": null,
      "outputs": [
        {
          "output_type": "stream",
          "name": "stdout",
          "text": [
            "104956\n",
            "97332\n"
          ]
        }
      ]
    },
    {
      "cell_type": "code",
      "source": [
        "from tqdm.notebook import tqdm"
      ],
      "metadata": {
        "id": "5l_tRtkYRLsN"
      },
      "execution_count": null,
      "outputs": []
    },
    {
      "cell_type": "code",
      "source": [
        "import pandas as pd"
      ],
      "metadata": {
        "id": "6O6eoylhPf2y"
      },
      "execution_count": null,
      "outputs": []
    },
    {
      "cell_type": "code",
      "source": [
        "# cleaning \n",
        "df = pd.DataFrame(comments_, columns=['text'])\n",
        "df.text = df.text.str.replace(r'<.+>', '')\n",
        "df.text = df.text.str.replace(r'&quot;', '')"
      ],
      "metadata": {
        "colab": {
          "base_uri": "https://localhost:8080/"
        },
        "id": "vRnyzJjDRWo1",
        "outputId": "fddd1867-b201-4e4e-a6f8-d805044d7391"
      },
      "execution_count": null,
      "outputs": [
        {
          "output_type": "stream",
          "name": "stderr",
          "text": [
            "<ipython-input-32-fab4da018b84>:3: FutureWarning: The default value of regex will change from True to False in a future version.\n",
            "  df.text = df.text.str.replace(r'<.+>', '')\n"
          ]
        }
      ]
    },
    {
      "cell_type": "code",
      "source": [
        "df.reset_index(drop=True, inplace=True)"
      ],
      "metadata": {
        "id": "qUQTJLbzTBAC"
      },
      "execution_count": null,
      "outputs": []
    },
    {
      "cell_type": "code",
      "source": [
        "df.to_csv('/content/drive/Shareddrives/SW2_0916/3ck/dataset/yt_commens.csv', index=False)"
      ],
      "metadata": {
        "id": "HiSbBHtoPhGf"
      },
      "execution_count": null,
      "outputs": []
    },
    {
      "cell_type": "code",
      "source": [],
      "metadata": {
        "id": "vW7DNYDyS10c"
      },
      "execution_count": null,
      "outputs": []
    }
  ]
}