{
  "nbformat": 4,
  "nbformat_minor": 0,
  "metadata": {
    "colab": {
      "provenance": []
    },
    "kernelspec": {
      "name": "python3",
      "display_name": "Python 3"
    },
    "language_info": {
      "name": "python"
    },
    "widgets": {
      "application/vnd.jupyter.widget-state+json": {
        "e364c5ab273448018f5c9afda11cf81e": {
          "model_module": "@jupyter-widgets/controls",
          "model_name": "HBoxModel",
          "model_module_version": "1.5.0",
          "state": {
            "_dom_classes": [],
            "_model_module": "@jupyter-widgets/controls",
            "_model_module_version": "1.5.0",
            "_model_name": "HBoxModel",
            "_view_count": null,
            "_view_module": "@jupyter-widgets/controls",
            "_view_module_version": "1.5.0",
            "_view_name": "HBoxView",
            "box_style": "",
            "children": [
              "IPY_MODEL_c1a3c8a04c124a079351f7308c46751b",
              "IPY_MODEL_37bb100d4aff41a89eedb4c353bd7c55",
              "IPY_MODEL_306a7efc548644d19e907fa6708fc021"
            ],
            "layout": "IPY_MODEL_c8421be7da544502a656ca2d28b21018"
          }
        },
        "c1a3c8a04c124a079351f7308c46751b": {
          "model_module": "@jupyter-widgets/controls",
          "model_name": "HTMLModel",
          "model_module_version": "1.5.0",
          "state": {
            "_dom_classes": [],
            "_model_module": "@jupyter-widgets/controls",
            "_model_module_version": "1.5.0",
            "_model_name": "HTMLModel",
            "_view_count": null,
            "_view_module": "@jupyter-widgets/controls",
            "_view_module_version": "1.5.0",
            "_view_name": "HTMLView",
            "description": "",
            "description_tooltip": null,
            "layout": "IPY_MODEL_4438bb449b80450881994e481f8104a9",
            "placeholder": "​",
            "style": "IPY_MODEL_d95e88a87a1243a3b9253d48d9d832bb",
            "value": "100%"
          }
        },
        "37bb100d4aff41a89eedb4c353bd7c55": {
          "model_module": "@jupyter-widgets/controls",
          "model_name": "FloatProgressModel",
          "model_module_version": "1.5.0",
          "state": {
            "_dom_classes": [],
            "_model_module": "@jupyter-widgets/controls",
            "_model_module_version": "1.5.0",
            "_model_name": "FloatProgressModel",
            "_view_count": null,
            "_view_module": "@jupyter-widgets/controls",
            "_view_module_version": "1.5.0",
            "_view_name": "ProgressView",
            "bar_style": "success",
            "description": "",
            "description_tooltip": null,
            "layout": "IPY_MODEL_5b671b12bfbe4be0831dd448239d5b47",
            "max": 408369,
            "min": 0,
            "orientation": "horizontal",
            "style": "IPY_MODEL_be9957e93fb046d7b021c10ece5a373d",
            "value": 408369
          }
        },
        "306a7efc548644d19e907fa6708fc021": {
          "model_module": "@jupyter-widgets/controls",
          "model_name": "HTMLModel",
          "model_module_version": "1.5.0",
          "state": {
            "_dom_classes": [],
            "_model_module": "@jupyter-widgets/controls",
            "_model_module_version": "1.5.0",
            "_model_name": "HTMLModel",
            "_view_count": null,
            "_view_module": "@jupyter-widgets/controls",
            "_view_module_version": "1.5.0",
            "_view_name": "HTMLView",
            "description": "",
            "description_tooltip": null,
            "layout": "IPY_MODEL_59231b62514a472c8f996da314605d84",
            "placeholder": "​",
            "style": "IPY_MODEL_5a3744a5000647f4827eb71fca7aa6eb",
            "value": " 408369/408369 [00:53&lt;00:00, 8426.77it/s]"
          }
        },
        "c8421be7da544502a656ca2d28b21018": {
          "model_module": "@jupyter-widgets/base",
          "model_name": "LayoutModel",
          "model_module_version": "1.2.0",
          "state": {
            "_model_module": "@jupyter-widgets/base",
            "_model_module_version": "1.2.0",
            "_model_name": "LayoutModel",
            "_view_count": null,
            "_view_module": "@jupyter-widgets/base",
            "_view_module_version": "1.2.0",
            "_view_name": "LayoutView",
            "align_content": null,
            "align_items": null,
            "align_self": null,
            "border": null,
            "bottom": null,
            "display": null,
            "flex": null,
            "flex_flow": null,
            "grid_area": null,
            "grid_auto_columns": null,
            "grid_auto_flow": null,
            "grid_auto_rows": null,
            "grid_column": null,
            "grid_gap": null,
            "grid_row": null,
            "grid_template_areas": null,
            "grid_template_columns": null,
            "grid_template_rows": null,
            "height": null,
            "justify_content": null,
            "justify_items": null,
            "left": null,
            "margin": null,
            "max_height": null,
            "max_width": null,
            "min_height": null,
            "min_width": null,
            "object_fit": null,
            "object_position": null,
            "order": null,
            "overflow": null,
            "overflow_x": null,
            "overflow_y": null,
            "padding": null,
            "right": null,
            "top": null,
            "visibility": null,
            "width": null
          }
        },
        "4438bb449b80450881994e481f8104a9": {
          "model_module": "@jupyter-widgets/base",
          "model_name": "LayoutModel",
          "model_module_version": "1.2.0",
          "state": {
            "_model_module": "@jupyter-widgets/base",
            "_model_module_version": "1.2.0",
            "_model_name": "LayoutModel",
            "_view_count": null,
            "_view_module": "@jupyter-widgets/base",
            "_view_module_version": "1.2.0",
            "_view_name": "LayoutView",
            "align_content": null,
            "align_items": null,
            "align_self": null,
            "border": null,
            "bottom": null,
            "display": null,
            "flex": null,
            "flex_flow": null,
            "grid_area": null,
            "grid_auto_columns": null,
            "grid_auto_flow": null,
            "grid_auto_rows": null,
            "grid_column": null,
            "grid_gap": null,
            "grid_row": null,
            "grid_template_areas": null,
            "grid_template_columns": null,
            "grid_template_rows": null,
            "height": null,
            "justify_content": null,
            "justify_items": null,
            "left": null,
            "margin": null,
            "max_height": null,
            "max_width": null,
            "min_height": null,
            "min_width": null,
            "object_fit": null,
            "object_position": null,
            "order": null,
            "overflow": null,
            "overflow_x": null,
            "overflow_y": null,
            "padding": null,
            "right": null,
            "top": null,
            "visibility": null,
            "width": null
          }
        },
        "d95e88a87a1243a3b9253d48d9d832bb": {
          "model_module": "@jupyter-widgets/controls",
          "model_name": "DescriptionStyleModel",
          "model_module_version": "1.5.0",
          "state": {
            "_model_module": "@jupyter-widgets/controls",
            "_model_module_version": "1.5.0",
            "_model_name": "DescriptionStyleModel",
            "_view_count": null,
            "_view_module": "@jupyter-widgets/base",
            "_view_module_version": "1.2.0",
            "_view_name": "StyleView",
            "description_width": ""
          }
        },
        "5b671b12bfbe4be0831dd448239d5b47": {
          "model_module": "@jupyter-widgets/base",
          "model_name": "LayoutModel",
          "model_module_version": "1.2.0",
          "state": {
            "_model_module": "@jupyter-widgets/base",
            "_model_module_version": "1.2.0",
            "_model_name": "LayoutModel",
            "_view_count": null,
            "_view_module": "@jupyter-widgets/base",
            "_view_module_version": "1.2.0",
            "_view_name": "LayoutView",
            "align_content": null,
            "align_items": null,
            "align_self": null,
            "border": null,
            "bottom": null,
            "display": null,
            "flex": null,
            "flex_flow": null,
            "grid_area": null,
            "grid_auto_columns": null,
            "grid_auto_flow": null,
            "grid_auto_rows": null,
            "grid_column": null,
            "grid_gap": null,
            "grid_row": null,
            "grid_template_areas": null,
            "grid_template_columns": null,
            "grid_template_rows": null,
            "height": null,
            "justify_content": null,
            "justify_items": null,
            "left": null,
            "margin": null,
            "max_height": null,
            "max_width": null,
            "min_height": null,
            "min_width": null,
            "object_fit": null,
            "object_position": null,
            "order": null,
            "overflow": null,
            "overflow_x": null,
            "overflow_y": null,
            "padding": null,
            "right": null,
            "top": null,
            "visibility": null,
            "width": null
          }
        },
        "be9957e93fb046d7b021c10ece5a373d": {
          "model_module": "@jupyter-widgets/controls",
          "model_name": "ProgressStyleModel",
          "model_module_version": "1.5.0",
          "state": {
            "_model_module": "@jupyter-widgets/controls",
            "_model_module_version": "1.5.0",
            "_model_name": "ProgressStyleModel",
            "_view_count": null,
            "_view_module": "@jupyter-widgets/base",
            "_view_module_version": "1.2.0",
            "_view_name": "StyleView",
            "bar_color": null,
            "description_width": ""
          }
        },
        "59231b62514a472c8f996da314605d84": {
          "model_module": "@jupyter-widgets/base",
          "model_name": "LayoutModel",
          "model_module_version": "1.2.0",
          "state": {
            "_model_module": "@jupyter-widgets/base",
            "_model_module_version": "1.2.0",
            "_model_name": "LayoutModel",
            "_view_count": null,
            "_view_module": "@jupyter-widgets/base",
            "_view_module_version": "1.2.0",
            "_view_name": "LayoutView",
            "align_content": null,
            "align_items": null,
            "align_self": null,
            "border": null,
            "bottom": null,
            "display": null,
            "flex": null,
            "flex_flow": null,
            "grid_area": null,
            "grid_auto_columns": null,
            "grid_auto_flow": null,
            "grid_auto_rows": null,
            "grid_column": null,
            "grid_gap": null,
            "grid_row": null,
            "grid_template_areas": null,
            "grid_template_columns": null,
            "grid_template_rows": null,
            "height": null,
            "justify_content": null,
            "justify_items": null,
            "left": null,
            "margin": null,
            "max_height": null,
            "max_width": null,
            "min_height": null,
            "min_width": null,
            "object_fit": null,
            "object_position": null,
            "order": null,
            "overflow": null,
            "overflow_x": null,
            "overflow_y": null,
            "padding": null,
            "right": null,
            "top": null,
            "visibility": null,
            "width": null
          }
        },
        "5a3744a5000647f4827eb71fca7aa6eb": {
          "model_module": "@jupyter-widgets/controls",
          "model_name": "DescriptionStyleModel",
          "model_module_version": "1.5.0",
          "state": {
            "_model_module": "@jupyter-widgets/controls",
            "_model_module_version": "1.5.0",
            "_model_name": "DescriptionStyleModel",
            "_view_count": null,
            "_view_module": "@jupyter-widgets/base",
            "_view_module_version": "1.2.0",
            "_view_name": "StyleView",
            "description_width": ""
          }
        },
        "03e865192191451eb86abc136aa2db12": {
          "model_module": "@jupyter-widgets/controls",
          "model_name": "HBoxModel",
          "model_module_version": "1.5.0",
          "state": {
            "_dom_classes": [],
            "_model_module": "@jupyter-widgets/controls",
            "_model_module_version": "1.5.0",
            "_model_name": "HBoxModel",
            "_view_count": null,
            "_view_module": "@jupyter-widgets/controls",
            "_view_module_version": "1.5.0",
            "_view_name": "HBoxView",
            "box_style": "",
            "children": [
              "IPY_MODEL_9afef4c53a5d4e3c992df7f712ae17e6",
              "IPY_MODEL_a8331d365d014f07b5c4ee3056074c48",
              "IPY_MODEL_127031aec9d24deda3ed89ee9cdae089"
            ],
            "layout": "IPY_MODEL_f98f561970f0412a872bfc96517026c9"
          }
        },
        "9afef4c53a5d4e3c992df7f712ae17e6": {
          "model_module": "@jupyter-widgets/controls",
          "model_name": "HTMLModel",
          "model_module_version": "1.5.0",
          "state": {
            "_dom_classes": [],
            "_model_module": "@jupyter-widgets/controls",
            "_model_module_version": "1.5.0",
            "_model_name": "HTMLModel",
            "_view_count": null,
            "_view_module": "@jupyter-widgets/controls",
            "_view_module_version": "1.5.0",
            "_view_name": "HTMLView",
            "description": "",
            "description_tooltip": null,
            "layout": "IPY_MODEL_e6eafb4833564ce392f89c5369acef8b",
            "placeholder": "​",
            "style": "IPY_MODEL_f7385278734547a2b58e87e2b1750d4b",
            "value": "100%"
          }
        },
        "a8331d365d014f07b5c4ee3056074c48": {
          "model_module": "@jupyter-widgets/controls",
          "model_name": "FloatProgressModel",
          "model_module_version": "1.5.0",
          "state": {
            "_dom_classes": [],
            "_model_module": "@jupyter-widgets/controls",
            "_model_module_version": "1.5.0",
            "_model_name": "FloatProgressModel",
            "_view_count": null,
            "_view_module": "@jupyter-widgets/controls",
            "_view_module_version": "1.5.0",
            "_view_name": "ProgressView",
            "bar_style": "success",
            "description": "",
            "description_tooltip": null,
            "layout": "IPY_MODEL_9df20fb35ee24eaab04262f54d8feada",
            "max": 225077,
            "min": 0,
            "orientation": "horizontal",
            "style": "IPY_MODEL_bb67504cb2554f33abfef2acd3bfbc85",
            "value": 225077
          }
        },
        "127031aec9d24deda3ed89ee9cdae089": {
          "model_module": "@jupyter-widgets/controls",
          "model_name": "HTMLModel",
          "model_module_version": "1.5.0",
          "state": {
            "_dom_classes": [],
            "_model_module": "@jupyter-widgets/controls",
            "_model_module_version": "1.5.0",
            "_model_name": "HTMLModel",
            "_view_count": null,
            "_view_module": "@jupyter-widgets/controls",
            "_view_module_version": "1.5.0",
            "_view_name": "HTMLView",
            "description": "",
            "description_tooltip": null,
            "layout": "IPY_MODEL_02fbd9d86dc4406fbcd6aeb653b2dc45",
            "placeholder": "​",
            "style": "IPY_MODEL_74500856d4e547659c925b3516edfcd4",
            "value": " 225077/225077 [00:28&lt;00:00, 8190.96it/s]"
          }
        },
        "f98f561970f0412a872bfc96517026c9": {
          "model_module": "@jupyter-widgets/base",
          "model_name": "LayoutModel",
          "model_module_version": "1.2.0",
          "state": {
            "_model_module": "@jupyter-widgets/base",
            "_model_module_version": "1.2.0",
            "_model_name": "LayoutModel",
            "_view_count": null,
            "_view_module": "@jupyter-widgets/base",
            "_view_module_version": "1.2.0",
            "_view_name": "LayoutView",
            "align_content": null,
            "align_items": null,
            "align_self": null,
            "border": null,
            "bottom": null,
            "display": null,
            "flex": null,
            "flex_flow": null,
            "grid_area": null,
            "grid_auto_columns": null,
            "grid_auto_flow": null,
            "grid_auto_rows": null,
            "grid_column": null,
            "grid_gap": null,
            "grid_row": null,
            "grid_template_areas": null,
            "grid_template_columns": null,
            "grid_template_rows": null,
            "height": null,
            "justify_content": null,
            "justify_items": null,
            "left": null,
            "margin": null,
            "max_height": null,
            "max_width": null,
            "min_height": null,
            "min_width": null,
            "object_fit": null,
            "object_position": null,
            "order": null,
            "overflow": null,
            "overflow_x": null,
            "overflow_y": null,
            "padding": null,
            "right": null,
            "top": null,
            "visibility": null,
            "width": null
          }
        },
        "e6eafb4833564ce392f89c5369acef8b": {
          "model_module": "@jupyter-widgets/base",
          "model_name": "LayoutModel",
          "model_module_version": "1.2.0",
          "state": {
            "_model_module": "@jupyter-widgets/base",
            "_model_module_version": "1.2.0",
            "_model_name": "LayoutModel",
            "_view_count": null,
            "_view_module": "@jupyter-widgets/base",
            "_view_module_version": "1.2.0",
            "_view_name": "LayoutView",
            "align_content": null,
            "align_items": null,
            "align_self": null,
            "border": null,
            "bottom": null,
            "display": null,
            "flex": null,
            "flex_flow": null,
            "grid_area": null,
            "grid_auto_columns": null,
            "grid_auto_flow": null,
            "grid_auto_rows": null,
            "grid_column": null,
            "grid_gap": null,
            "grid_row": null,
            "grid_template_areas": null,
            "grid_template_columns": null,
            "grid_template_rows": null,
            "height": null,
            "justify_content": null,
            "justify_items": null,
            "left": null,
            "margin": null,
            "max_height": null,
            "max_width": null,
            "min_height": null,
            "min_width": null,
            "object_fit": null,
            "object_position": null,
            "order": null,
            "overflow": null,
            "overflow_x": null,
            "overflow_y": null,
            "padding": null,
            "right": null,
            "top": null,
            "visibility": null,
            "width": null
          }
        },
        "f7385278734547a2b58e87e2b1750d4b": {
          "model_module": "@jupyter-widgets/controls",
          "model_name": "DescriptionStyleModel",
          "model_module_version": "1.5.0",
          "state": {
            "_model_module": "@jupyter-widgets/controls",
            "_model_module_version": "1.5.0",
            "_model_name": "DescriptionStyleModel",
            "_view_count": null,
            "_view_module": "@jupyter-widgets/base",
            "_view_module_version": "1.2.0",
            "_view_name": "StyleView",
            "description_width": ""
          }
        },
        "9df20fb35ee24eaab04262f54d8feada": {
          "model_module": "@jupyter-widgets/base",
          "model_name": "LayoutModel",
          "model_module_version": "1.2.0",
          "state": {
            "_model_module": "@jupyter-widgets/base",
            "_model_module_version": "1.2.0",
            "_model_name": "LayoutModel",
            "_view_count": null,
            "_view_module": "@jupyter-widgets/base",
            "_view_module_version": "1.2.0",
            "_view_name": "LayoutView",
            "align_content": null,
            "align_items": null,
            "align_self": null,
            "border": null,
            "bottom": null,
            "display": null,
            "flex": null,
            "flex_flow": null,
            "grid_area": null,
            "grid_auto_columns": null,
            "grid_auto_flow": null,
            "grid_auto_rows": null,
            "grid_column": null,
            "grid_gap": null,
            "grid_row": null,
            "grid_template_areas": null,
            "grid_template_columns": null,
            "grid_template_rows": null,
            "height": null,
            "justify_content": null,
            "justify_items": null,
            "left": null,
            "margin": null,
            "max_height": null,
            "max_width": null,
            "min_height": null,
            "min_width": null,
            "object_fit": null,
            "object_position": null,
            "order": null,
            "overflow": null,
            "overflow_x": null,
            "overflow_y": null,
            "padding": null,
            "right": null,
            "top": null,
            "visibility": null,
            "width": null
          }
        },
        "bb67504cb2554f33abfef2acd3bfbc85": {
          "model_module": "@jupyter-widgets/controls",
          "model_name": "ProgressStyleModel",
          "model_module_version": "1.5.0",
          "state": {
            "_model_module": "@jupyter-widgets/controls",
            "_model_module_version": "1.5.0",
            "_model_name": "ProgressStyleModel",
            "_view_count": null,
            "_view_module": "@jupyter-widgets/base",
            "_view_module_version": "1.2.0",
            "_view_name": "StyleView",
            "bar_color": null,
            "description_width": ""
          }
        },
        "02fbd9d86dc4406fbcd6aeb653b2dc45": {
          "model_module": "@jupyter-widgets/base",
          "model_name": "LayoutModel",
          "model_module_version": "1.2.0",
          "state": {
            "_model_module": "@jupyter-widgets/base",
            "_model_module_version": "1.2.0",
            "_model_name": "LayoutModel",
            "_view_count": null,
            "_view_module": "@jupyter-widgets/base",
            "_view_module_version": "1.2.0",
            "_view_name": "LayoutView",
            "align_content": null,
            "align_items": null,
            "align_self": null,
            "border": null,
            "bottom": null,
            "display": null,
            "flex": null,
            "flex_flow": null,
            "grid_area": null,
            "grid_auto_columns": null,
            "grid_auto_flow": null,
            "grid_auto_rows": null,
            "grid_column": null,
            "grid_gap": null,
            "grid_row": null,
            "grid_template_areas": null,
            "grid_template_columns": null,
            "grid_template_rows": null,
            "height": null,
            "justify_content": null,
            "justify_items": null,
            "left": null,
            "margin": null,
            "max_height": null,
            "max_width": null,
            "min_height": null,
            "min_width": null,
            "object_fit": null,
            "object_position": null,
            "order": null,
            "overflow": null,
            "overflow_x": null,
            "overflow_y": null,
            "padding": null,
            "right": null,
            "top": null,
            "visibility": null,
            "width": null
          }
        },
        "74500856d4e547659c925b3516edfcd4": {
          "model_module": "@jupyter-widgets/controls",
          "model_name": "DescriptionStyleModel",
          "model_module_version": "1.5.0",
          "state": {
            "_model_module": "@jupyter-widgets/controls",
            "_model_module_version": "1.5.0",
            "_model_name": "DescriptionStyleModel",
            "_view_count": null,
            "_view_module": "@jupyter-widgets/base",
            "_view_module_version": "1.2.0",
            "_view_name": "StyleView",
            "description_width": ""
          }
        },
        "b094c9bbee404fe096ebf6439a3dd71b": {
          "model_module": "@jupyter-widgets/controls",
          "model_name": "HBoxModel",
          "model_module_version": "1.5.0",
          "state": {
            "_dom_classes": [],
            "_model_module": "@jupyter-widgets/controls",
            "_model_module_version": "1.5.0",
            "_model_name": "HBoxModel",
            "_view_count": null,
            "_view_module": "@jupyter-widgets/controls",
            "_view_module_version": "1.5.0",
            "_view_name": "HBoxView",
            "box_style": "",
            "children": [
              "IPY_MODEL_c75384c8364b4c25af6651ae7e0b117b",
              "IPY_MODEL_ba75a7a24f0f4b49adb6bd40356c0086",
              "IPY_MODEL_35b3650ee4594f4582ec15e857de2498"
            ],
            "layout": "IPY_MODEL_0a1b588dc27f40a7bb32d033754ab2e8"
          }
        },
        "c75384c8364b4c25af6651ae7e0b117b": {
          "model_module": "@jupyter-widgets/controls",
          "model_name": "HTMLModel",
          "model_module_version": "1.5.0",
          "state": {
            "_dom_classes": [],
            "_model_module": "@jupyter-widgets/controls",
            "_model_module_version": "1.5.0",
            "_model_name": "HTMLModel",
            "_view_count": null,
            "_view_module": "@jupyter-widgets/controls",
            "_view_module_version": "1.5.0",
            "_view_name": "HTMLView",
            "description": "",
            "description_tooltip": null,
            "layout": "IPY_MODEL_5c996dd835a94f93883296c44a9541cd",
            "placeholder": "​",
            "style": "IPY_MODEL_1afa685ec6844ac9a33358928727643e",
            "value": "100%"
          }
        },
        "ba75a7a24f0f4b49adb6bd40356c0086": {
          "model_module": "@jupyter-widgets/controls",
          "model_name": "FloatProgressModel",
          "model_module_version": "1.5.0",
          "state": {
            "_dom_classes": [],
            "_model_module": "@jupyter-widgets/controls",
            "_model_module_version": "1.5.0",
            "_model_name": "FloatProgressModel",
            "_view_count": null,
            "_view_module": "@jupyter-widgets/controls",
            "_view_module_version": "1.5.0",
            "_view_name": "ProgressView",
            "bar_style": "success",
            "description": "",
            "description_tooltip": null,
            "layout": "IPY_MODEL_3c795237525749e9ad490614858478db",
            "max": 183292,
            "min": 0,
            "orientation": "horizontal",
            "style": "IPY_MODEL_1aeacf6fc36f41ada1f48e98974fd97d",
            "value": 183292
          }
        },
        "35b3650ee4594f4582ec15e857de2498": {
          "model_module": "@jupyter-widgets/controls",
          "model_name": "HTMLModel",
          "model_module_version": "1.5.0",
          "state": {
            "_dom_classes": [],
            "_model_module": "@jupyter-widgets/controls",
            "_model_module_version": "1.5.0",
            "_model_name": "HTMLModel",
            "_view_count": null,
            "_view_module": "@jupyter-widgets/controls",
            "_view_module_version": "1.5.0",
            "_view_name": "HTMLView",
            "description": "",
            "description_tooltip": null,
            "layout": "IPY_MODEL_cf680b8d70ea4eeba05fb3b30f50b64b",
            "placeholder": "​",
            "style": "IPY_MODEL_b6131cdbc22243c6afcdda5177716e6f",
            "value": " 183292/183292 [00:25&lt;00:00, 7786.16it/s]"
          }
        },
        "0a1b588dc27f40a7bb32d033754ab2e8": {
          "model_module": "@jupyter-widgets/base",
          "model_name": "LayoutModel",
          "model_module_version": "1.2.0",
          "state": {
            "_model_module": "@jupyter-widgets/base",
            "_model_module_version": "1.2.0",
            "_model_name": "LayoutModel",
            "_view_count": null,
            "_view_module": "@jupyter-widgets/base",
            "_view_module_version": "1.2.0",
            "_view_name": "LayoutView",
            "align_content": null,
            "align_items": null,
            "align_self": null,
            "border": null,
            "bottom": null,
            "display": null,
            "flex": null,
            "flex_flow": null,
            "grid_area": null,
            "grid_auto_columns": null,
            "grid_auto_flow": null,
            "grid_auto_rows": null,
            "grid_column": null,
            "grid_gap": null,
            "grid_row": null,
            "grid_template_areas": null,
            "grid_template_columns": null,
            "grid_template_rows": null,
            "height": null,
            "justify_content": null,
            "justify_items": null,
            "left": null,
            "margin": null,
            "max_height": null,
            "max_width": null,
            "min_height": null,
            "min_width": null,
            "object_fit": null,
            "object_position": null,
            "order": null,
            "overflow": null,
            "overflow_x": null,
            "overflow_y": null,
            "padding": null,
            "right": null,
            "top": null,
            "visibility": null,
            "width": null
          }
        },
        "5c996dd835a94f93883296c44a9541cd": {
          "model_module": "@jupyter-widgets/base",
          "model_name": "LayoutModel",
          "model_module_version": "1.2.0",
          "state": {
            "_model_module": "@jupyter-widgets/base",
            "_model_module_version": "1.2.0",
            "_model_name": "LayoutModel",
            "_view_count": null,
            "_view_module": "@jupyter-widgets/base",
            "_view_module_version": "1.2.0",
            "_view_name": "LayoutView",
            "align_content": null,
            "align_items": null,
            "align_self": null,
            "border": null,
            "bottom": null,
            "display": null,
            "flex": null,
            "flex_flow": null,
            "grid_area": null,
            "grid_auto_columns": null,
            "grid_auto_flow": null,
            "grid_auto_rows": null,
            "grid_column": null,
            "grid_gap": null,
            "grid_row": null,
            "grid_template_areas": null,
            "grid_template_columns": null,
            "grid_template_rows": null,
            "height": null,
            "justify_content": null,
            "justify_items": null,
            "left": null,
            "margin": null,
            "max_height": null,
            "max_width": null,
            "min_height": null,
            "min_width": null,
            "object_fit": null,
            "object_position": null,
            "order": null,
            "overflow": null,
            "overflow_x": null,
            "overflow_y": null,
            "padding": null,
            "right": null,
            "top": null,
            "visibility": null,
            "width": null
          }
        },
        "1afa685ec6844ac9a33358928727643e": {
          "model_module": "@jupyter-widgets/controls",
          "model_name": "DescriptionStyleModel",
          "model_module_version": "1.5.0",
          "state": {
            "_model_module": "@jupyter-widgets/controls",
            "_model_module_version": "1.5.0",
            "_model_name": "DescriptionStyleModel",
            "_view_count": null,
            "_view_module": "@jupyter-widgets/base",
            "_view_module_version": "1.2.0",
            "_view_name": "StyleView",
            "description_width": ""
          }
        },
        "3c795237525749e9ad490614858478db": {
          "model_module": "@jupyter-widgets/base",
          "model_name": "LayoutModel",
          "model_module_version": "1.2.0",
          "state": {
            "_model_module": "@jupyter-widgets/base",
            "_model_module_version": "1.2.0",
            "_model_name": "LayoutModel",
            "_view_count": null,
            "_view_module": "@jupyter-widgets/base",
            "_view_module_version": "1.2.0",
            "_view_name": "LayoutView",
            "align_content": null,
            "align_items": null,
            "align_self": null,
            "border": null,
            "bottom": null,
            "display": null,
            "flex": null,
            "flex_flow": null,
            "grid_area": null,
            "grid_auto_columns": null,
            "grid_auto_flow": null,
            "grid_auto_rows": null,
            "grid_column": null,
            "grid_gap": null,
            "grid_row": null,
            "grid_template_areas": null,
            "grid_template_columns": null,
            "grid_template_rows": null,
            "height": null,
            "justify_content": null,
            "justify_items": null,
            "left": null,
            "margin": null,
            "max_height": null,
            "max_width": null,
            "min_height": null,
            "min_width": null,
            "object_fit": null,
            "object_position": null,
            "order": null,
            "overflow": null,
            "overflow_x": null,
            "overflow_y": null,
            "padding": null,
            "right": null,
            "top": null,
            "visibility": null,
            "width": null
          }
        },
        "1aeacf6fc36f41ada1f48e98974fd97d": {
          "model_module": "@jupyter-widgets/controls",
          "model_name": "ProgressStyleModel",
          "model_module_version": "1.5.0",
          "state": {
            "_model_module": "@jupyter-widgets/controls",
            "_model_module_version": "1.5.0",
            "_model_name": "ProgressStyleModel",
            "_view_count": null,
            "_view_module": "@jupyter-widgets/base",
            "_view_module_version": "1.2.0",
            "_view_name": "StyleView",
            "bar_color": null,
            "description_width": ""
          }
        },
        "cf680b8d70ea4eeba05fb3b30f50b64b": {
          "model_module": "@jupyter-widgets/base",
          "model_name": "LayoutModel",
          "model_module_version": "1.2.0",
          "state": {
            "_model_module": "@jupyter-widgets/base",
            "_model_module_version": "1.2.0",
            "_model_name": "LayoutModel",
            "_view_count": null,
            "_view_module": "@jupyter-widgets/base",
            "_view_module_version": "1.2.0",
            "_view_name": "LayoutView",
            "align_content": null,
            "align_items": null,
            "align_self": null,
            "border": null,
            "bottom": null,
            "display": null,
            "flex": null,
            "flex_flow": null,
            "grid_area": null,
            "grid_auto_columns": null,
            "grid_auto_flow": null,
            "grid_auto_rows": null,
            "grid_column": null,
            "grid_gap": null,
            "grid_row": null,
            "grid_template_areas": null,
            "grid_template_columns": null,
            "grid_template_rows": null,
            "height": null,
            "justify_content": null,
            "justify_items": null,
            "left": null,
            "margin": null,
            "max_height": null,
            "max_width": null,
            "min_height": null,
            "min_width": null,
            "object_fit": null,
            "object_position": null,
            "order": null,
            "overflow": null,
            "overflow_x": null,
            "overflow_y": null,
            "padding": null,
            "right": null,
            "top": null,
            "visibility": null,
            "width": null
          }
        },
        "b6131cdbc22243c6afcdda5177716e6f": {
          "model_module": "@jupyter-widgets/controls",
          "model_name": "DescriptionStyleModel",
          "model_module_version": "1.5.0",
          "state": {
            "_model_module": "@jupyter-widgets/controls",
            "_model_module_version": "1.5.0",
            "_model_name": "DescriptionStyleModel",
            "_view_count": null,
            "_view_module": "@jupyter-widgets/base",
            "_view_module_version": "1.2.0",
            "_view_name": "StyleView",
            "description_width": ""
          }
        },
        "eebdbd6576d94a5ca6e565503faca294": {
          "model_module": "@jupyter-widgets/controls",
          "model_name": "HBoxModel",
          "model_module_version": "1.5.0",
          "state": {
            "_dom_classes": [],
            "_model_module": "@jupyter-widgets/controls",
            "_model_module_version": "1.5.0",
            "_model_name": "HBoxModel",
            "_view_count": null,
            "_view_module": "@jupyter-widgets/controls",
            "_view_module_version": "1.5.0",
            "_view_name": "HBoxView",
            "box_style": "",
            "children": [
              "IPY_MODEL_97e13b8958cf4b05813da80e45705cde",
              "IPY_MODEL_8d78d9c6f98a448bb732b47a3107ec62",
              "IPY_MODEL_912e826659074d959546a000c22f01f3"
            ],
            "layout": "IPY_MODEL_752419439d154c80a7f5df17a3516d95"
          }
        },
        "97e13b8958cf4b05813da80e45705cde": {
          "model_module": "@jupyter-widgets/controls",
          "model_name": "HTMLModel",
          "model_module_version": "1.5.0",
          "state": {
            "_dom_classes": [],
            "_model_module": "@jupyter-widgets/controls",
            "_model_module_version": "1.5.0",
            "_model_name": "HTMLModel",
            "_view_count": null,
            "_view_module": "@jupyter-widgets/controls",
            "_view_module_version": "1.5.0",
            "_view_name": "HTMLView",
            "description": "",
            "description_tooltip": null,
            "layout": "IPY_MODEL_9f1dca10fc99480a9d50bdfe4a7996bc",
            "placeholder": "​",
            "style": "IPY_MODEL_75e4b8629c1e4e8bbbfceb60e4709ce7",
            "value": "100%"
          }
        },
        "8d78d9c6f98a448bb732b47a3107ec62": {
          "model_module": "@jupyter-widgets/controls",
          "model_name": "FloatProgressModel",
          "model_module_version": "1.5.0",
          "state": {
            "_dom_classes": [],
            "_model_module": "@jupyter-widgets/controls",
            "_model_module_version": "1.5.0",
            "_model_name": "FloatProgressModel",
            "_view_count": null,
            "_view_module": "@jupyter-widgets/controls",
            "_view_module_version": "1.5.0",
            "_view_name": "ProgressView",
            "bar_style": "success",
            "description": "",
            "description_tooltip": null,
            "layout": "IPY_MODEL_b12f675ca81846f7b3f9a21c2258effd",
            "max": 408369,
            "min": 0,
            "orientation": "horizontal",
            "style": "IPY_MODEL_29c6d1fc2c76435793396d848775dc6a",
            "value": 408369
          }
        },
        "912e826659074d959546a000c22f01f3": {
          "model_module": "@jupyter-widgets/controls",
          "model_name": "HTMLModel",
          "model_module_version": "1.5.0",
          "state": {
            "_dom_classes": [],
            "_model_module": "@jupyter-widgets/controls",
            "_model_module_version": "1.5.0",
            "_model_name": "HTMLModel",
            "_view_count": null,
            "_view_module": "@jupyter-widgets/controls",
            "_view_module_version": "1.5.0",
            "_view_name": "HTMLView",
            "description": "",
            "description_tooltip": null,
            "layout": "IPY_MODEL_7c523b63c8774df8ae4529f874a01d3a",
            "placeholder": "​",
            "style": "IPY_MODEL_3736830120614da681e2eea92576ceff",
            "value": " 408369/408369 [35:56&lt;00:00, 131.94it/s]"
          }
        },
        "752419439d154c80a7f5df17a3516d95": {
          "model_module": "@jupyter-widgets/base",
          "model_name": "LayoutModel",
          "model_module_version": "1.2.0",
          "state": {
            "_model_module": "@jupyter-widgets/base",
            "_model_module_version": "1.2.0",
            "_model_name": "LayoutModel",
            "_view_count": null,
            "_view_module": "@jupyter-widgets/base",
            "_view_module_version": "1.2.0",
            "_view_name": "LayoutView",
            "align_content": null,
            "align_items": null,
            "align_self": null,
            "border": null,
            "bottom": null,
            "display": null,
            "flex": null,
            "flex_flow": null,
            "grid_area": null,
            "grid_auto_columns": null,
            "grid_auto_flow": null,
            "grid_auto_rows": null,
            "grid_column": null,
            "grid_gap": null,
            "grid_row": null,
            "grid_template_areas": null,
            "grid_template_columns": null,
            "grid_template_rows": null,
            "height": null,
            "justify_content": null,
            "justify_items": null,
            "left": null,
            "margin": null,
            "max_height": null,
            "max_width": null,
            "min_height": null,
            "min_width": null,
            "object_fit": null,
            "object_position": null,
            "order": null,
            "overflow": null,
            "overflow_x": null,
            "overflow_y": null,
            "padding": null,
            "right": null,
            "top": null,
            "visibility": null,
            "width": null
          }
        },
        "9f1dca10fc99480a9d50bdfe4a7996bc": {
          "model_module": "@jupyter-widgets/base",
          "model_name": "LayoutModel",
          "model_module_version": "1.2.0",
          "state": {
            "_model_module": "@jupyter-widgets/base",
            "_model_module_version": "1.2.0",
            "_model_name": "LayoutModel",
            "_view_count": null,
            "_view_module": "@jupyter-widgets/base",
            "_view_module_version": "1.2.0",
            "_view_name": "LayoutView",
            "align_content": null,
            "align_items": null,
            "align_self": null,
            "border": null,
            "bottom": null,
            "display": null,
            "flex": null,
            "flex_flow": null,
            "grid_area": null,
            "grid_auto_columns": null,
            "grid_auto_flow": null,
            "grid_auto_rows": null,
            "grid_column": null,
            "grid_gap": null,
            "grid_row": null,
            "grid_template_areas": null,
            "grid_template_columns": null,
            "grid_template_rows": null,
            "height": null,
            "justify_content": null,
            "justify_items": null,
            "left": null,
            "margin": null,
            "max_height": null,
            "max_width": null,
            "min_height": null,
            "min_width": null,
            "object_fit": null,
            "object_position": null,
            "order": null,
            "overflow": null,
            "overflow_x": null,
            "overflow_y": null,
            "padding": null,
            "right": null,
            "top": null,
            "visibility": null,
            "width": null
          }
        },
        "75e4b8629c1e4e8bbbfceb60e4709ce7": {
          "model_module": "@jupyter-widgets/controls",
          "model_name": "DescriptionStyleModel",
          "model_module_version": "1.5.0",
          "state": {
            "_model_module": "@jupyter-widgets/controls",
            "_model_module_version": "1.5.0",
            "_model_name": "DescriptionStyleModel",
            "_view_count": null,
            "_view_module": "@jupyter-widgets/base",
            "_view_module_version": "1.2.0",
            "_view_name": "StyleView",
            "description_width": ""
          }
        },
        "b12f675ca81846f7b3f9a21c2258effd": {
          "model_module": "@jupyter-widgets/base",
          "model_name": "LayoutModel",
          "model_module_version": "1.2.0",
          "state": {
            "_model_module": "@jupyter-widgets/base",
            "_model_module_version": "1.2.0",
            "_model_name": "LayoutModel",
            "_view_count": null,
            "_view_module": "@jupyter-widgets/base",
            "_view_module_version": "1.2.0",
            "_view_name": "LayoutView",
            "align_content": null,
            "align_items": null,
            "align_self": null,
            "border": null,
            "bottom": null,
            "display": null,
            "flex": null,
            "flex_flow": null,
            "grid_area": null,
            "grid_auto_columns": null,
            "grid_auto_flow": null,
            "grid_auto_rows": null,
            "grid_column": null,
            "grid_gap": null,
            "grid_row": null,
            "grid_template_areas": null,
            "grid_template_columns": null,
            "grid_template_rows": null,
            "height": null,
            "justify_content": null,
            "justify_items": null,
            "left": null,
            "margin": null,
            "max_height": null,
            "max_width": null,
            "min_height": null,
            "min_width": null,
            "object_fit": null,
            "object_position": null,
            "order": null,
            "overflow": null,
            "overflow_x": null,
            "overflow_y": null,
            "padding": null,
            "right": null,
            "top": null,
            "visibility": null,
            "width": null
          }
        },
        "29c6d1fc2c76435793396d848775dc6a": {
          "model_module": "@jupyter-widgets/controls",
          "model_name": "ProgressStyleModel",
          "model_module_version": "1.5.0",
          "state": {
            "_model_module": "@jupyter-widgets/controls",
            "_model_module_version": "1.5.0",
            "_model_name": "ProgressStyleModel",
            "_view_count": null,
            "_view_module": "@jupyter-widgets/base",
            "_view_module_version": "1.2.0",
            "_view_name": "StyleView",
            "bar_color": null,
            "description_width": ""
          }
        },
        "7c523b63c8774df8ae4529f874a01d3a": {
          "model_module": "@jupyter-widgets/base",
          "model_name": "LayoutModel",
          "model_module_version": "1.2.0",
          "state": {
            "_model_module": "@jupyter-widgets/base",
            "_model_module_version": "1.2.0",
            "_model_name": "LayoutModel",
            "_view_count": null,
            "_view_module": "@jupyter-widgets/base",
            "_view_module_version": "1.2.0",
            "_view_name": "LayoutView",
            "align_content": null,
            "align_items": null,
            "align_self": null,
            "border": null,
            "bottom": null,
            "display": null,
            "flex": null,
            "flex_flow": null,
            "grid_area": null,
            "grid_auto_columns": null,
            "grid_auto_flow": null,
            "grid_auto_rows": null,
            "grid_column": null,
            "grid_gap": null,
            "grid_row": null,
            "grid_template_areas": null,
            "grid_template_columns": null,
            "grid_template_rows": null,
            "height": null,
            "justify_content": null,
            "justify_items": null,
            "left": null,
            "margin": null,
            "max_height": null,
            "max_width": null,
            "min_height": null,
            "min_width": null,
            "object_fit": null,
            "object_position": null,
            "order": null,
            "overflow": null,
            "overflow_x": null,
            "overflow_y": null,
            "padding": null,
            "right": null,
            "top": null,
            "visibility": null,
            "width": null
          }
        },
        "3736830120614da681e2eea92576ceff": {
          "model_module": "@jupyter-widgets/controls",
          "model_name": "DescriptionStyleModel",
          "model_module_version": "1.5.0",
          "state": {
            "_model_module": "@jupyter-widgets/controls",
            "_model_module_version": "1.5.0",
            "_model_name": "DescriptionStyleModel",
            "_view_count": null,
            "_view_module": "@jupyter-widgets/base",
            "_view_module_version": "1.2.0",
            "_view_name": "StyleView",
            "description_width": ""
          }
        },
        "a1f38e999de342b0b27ed945fbf1eb06": {
          "model_module": "@jupyter-widgets/controls",
          "model_name": "HBoxModel",
          "model_module_version": "1.5.0",
          "state": {
            "_dom_classes": [],
            "_model_module": "@jupyter-widgets/controls",
            "_model_module_version": "1.5.0",
            "_model_name": "HBoxModel",
            "_view_count": null,
            "_view_module": "@jupyter-widgets/controls",
            "_view_module_version": "1.5.0",
            "_view_name": "HBoxView",
            "box_style": "",
            "children": [
              "IPY_MODEL_eed63a5990a446a0a446a171c7eeb665",
              "IPY_MODEL_77ccc3fb638444199808ce46d2b790b8",
              "IPY_MODEL_168808078b4741a2b655b9219cfe7775"
            ],
            "layout": "IPY_MODEL_d31a0bf3c003434c8682723c9ef9e7f0"
          }
        },
        "eed63a5990a446a0a446a171c7eeb665": {
          "model_module": "@jupyter-widgets/controls",
          "model_name": "HTMLModel",
          "model_module_version": "1.5.0",
          "state": {
            "_dom_classes": [],
            "_model_module": "@jupyter-widgets/controls",
            "_model_module_version": "1.5.0",
            "_model_name": "HTMLModel",
            "_view_count": null,
            "_view_module": "@jupyter-widgets/controls",
            "_view_module_version": "1.5.0",
            "_view_name": "HTMLView",
            "description": "",
            "description_tooltip": null,
            "layout": "IPY_MODEL_03494f1d753a4669a32c3ea682518547",
            "placeholder": "​",
            "style": "IPY_MODEL_556f341eadd740b0ad5002327143f17c",
            "value": "100%"
          }
        },
        "77ccc3fb638444199808ce46d2b790b8": {
          "model_module": "@jupyter-widgets/controls",
          "model_name": "FloatProgressModel",
          "model_module_version": "1.5.0",
          "state": {
            "_dom_classes": [],
            "_model_module": "@jupyter-widgets/controls",
            "_model_module_version": "1.5.0",
            "_model_name": "FloatProgressModel",
            "_view_count": null,
            "_view_module": "@jupyter-widgets/controls",
            "_view_module_version": "1.5.0",
            "_view_name": "ProgressView",
            "bar_style": "success",
            "description": "",
            "description_tooltip": null,
            "layout": "IPY_MODEL_61947311e07b477b92977af4d508f363",
            "max": 408369,
            "min": 0,
            "orientation": "horizontal",
            "style": "IPY_MODEL_de1eb73272d949e6b473ea702d3bb61d",
            "value": 408369
          }
        },
        "168808078b4741a2b655b9219cfe7775": {
          "model_module": "@jupyter-widgets/controls",
          "model_name": "HTMLModel",
          "model_module_version": "1.5.0",
          "state": {
            "_dom_classes": [],
            "_model_module": "@jupyter-widgets/controls",
            "_model_module_version": "1.5.0",
            "_model_name": "HTMLModel",
            "_view_count": null,
            "_view_module": "@jupyter-widgets/controls",
            "_view_module_version": "1.5.0",
            "_view_name": "HTMLView",
            "description": "",
            "description_tooltip": null,
            "layout": "IPY_MODEL_10148b700bea4ed79feb39b0a0187568",
            "placeholder": "​",
            "style": "IPY_MODEL_6a17bcef33f24bd881d4080a60b086ff",
            "value": " 408369/408369 [59:07&lt;00:00, 101.42it/s]"
          }
        },
        "d31a0bf3c003434c8682723c9ef9e7f0": {
          "model_module": "@jupyter-widgets/base",
          "model_name": "LayoutModel",
          "model_module_version": "1.2.0",
          "state": {
            "_model_module": "@jupyter-widgets/base",
            "_model_module_version": "1.2.0",
            "_model_name": "LayoutModel",
            "_view_count": null,
            "_view_module": "@jupyter-widgets/base",
            "_view_module_version": "1.2.0",
            "_view_name": "LayoutView",
            "align_content": null,
            "align_items": null,
            "align_self": null,
            "border": null,
            "bottom": null,
            "display": null,
            "flex": null,
            "flex_flow": null,
            "grid_area": null,
            "grid_auto_columns": null,
            "grid_auto_flow": null,
            "grid_auto_rows": null,
            "grid_column": null,
            "grid_gap": null,
            "grid_row": null,
            "grid_template_areas": null,
            "grid_template_columns": null,
            "grid_template_rows": null,
            "height": null,
            "justify_content": null,
            "justify_items": null,
            "left": null,
            "margin": null,
            "max_height": null,
            "max_width": null,
            "min_height": null,
            "min_width": null,
            "object_fit": null,
            "object_position": null,
            "order": null,
            "overflow": null,
            "overflow_x": null,
            "overflow_y": null,
            "padding": null,
            "right": null,
            "top": null,
            "visibility": null,
            "width": null
          }
        },
        "03494f1d753a4669a32c3ea682518547": {
          "model_module": "@jupyter-widgets/base",
          "model_name": "LayoutModel",
          "model_module_version": "1.2.0",
          "state": {
            "_model_module": "@jupyter-widgets/base",
            "_model_module_version": "1.2.0",
            "_model_name": "LayoutModel",
            "_view_count": null,
            "_view_module": "@jupyter-widgets/base",
            "_view_module_version": "1.2.0",
            "_view_name": "LayoutView",
            "align_content": null,
            "align_items": null,
            "align_self": null,
            "border": null,
            "bottom": null,
            "display": null,
            "flex": null,
            "flex_flow": null,
            "grid_area": null,
            "grid_auto_columns": null,
            "grid_auto_flow": null,
            "grid_auto_rows": null,
            "grid_column": null,
            "grid_gap": null,
            "grid_row": null,
            "grid_template_areas": null,
            "grid_template_columns": null,
            "grid_template_rows": null,
            "height": null,
            "justify_content": null,
            "justify_items": null,
            "left": null,
            "margin": null,
            "max_height": null,
            "max_width": null,
            "min_height": null,
            "min_width": null,
            "object_fit": null,
            "object_position": null,
            "order": null,
            "overflow": null,
            "overflow_x": null,
            "overflow_y": null,
            "padding": null,
            "right": null,
            "top": null,
            "visibility": null,
            "width": null
          }
        },
        "556f341eadd740b0ad5002327143f17c": {
          "model_module": "@jupyter-widgets/controls",
          "model_name": "DescriptionStyleModel",
          "model_module_version": "1.5.0",
          "state": {
            "_model_module": "@jupyter-widgets/controls",
            "_model_module_version": "1.5.0",
            "_model_name": "DescriptionStyleModel",
            "_view_count": null,
            "_view_module": "@jupyter-widgets/base",
            "_view_module_version": "1.2.0",
            "_view_name": "StyleView",
            "description_width": ""
          }
        },
        "61947311e07b477b92977af4d508f363": {
          "model_module": "@jupyter-widgets/base",
          "model_name": "LayoutModel",
          "model_module_version": "1.2.0",
          "state": {
            "_model_module": "@jupyter-widgets/base",
            "_model_module_version": "1.2.0",
            "_model_name": "LayoutModel",
            "_view_count": null,
            "_view_module": "@jupyter-widgets/base",
            "_view_module_version": "1.2.0",
            "_view_name": "LayoutView",
            "align_content": null,
            "align_items": null,
            "align_self": null,
            "border": null,
            "bottom": null,
            "display": null,
            "flex": null,
            "flex_flow": null,
            "grid_area": null,
            "grid_auto_columns": null,
            "grid_auto_flow": null,
            "grid_auto_rows": null,
            "grid_column": null,
            "grid_gap": null,
            "grid_row": null,
            "grid_template_areas": null,
            "grid_template_columns": null,
            "grid_template_rows": null,
            "height": null,
            "justify_content": null,
            "justify_items": null,
            "left": null,
            "margin": null,
            "max_height": null,
            "max_width": null,
            "min_height": null,
            "min_width": null,
            "object_fit": null,
            "object_position": null,
            "order": null,
            "overflow": null,
            "overflow_x": null,
            "overflow_y": null,
            "padding": null,
            "right": null,
            "top": null,
            "visibility": null,
            "width": null
          }
        },
        "de1eb73272d949e6b473ea702d3bb61d": {
          "model_module": "@jupyter-widgets/controls",
          "model_name": "ProgressStyleModel",
          "model_module_version": "1.5.0",
          "state": {
            "_model_module": "@jupyter-widgets/controls",
            "_model_module_version": "1.5.0",
            "_model_name": "ProgressStyleModel",
            "_view_count": null,
            "_view_module": "@jupyter-widgets/base",
            "_view_module_version": "1.2.0",
            "_view_name": "StyleView",
            "bar_color": null,
            "description_width": ""
          }
        },
        "10148b700bea4ed79feb39b0a0187568": {
          "model_module": "@jupyter-widgets/base",
          "model_name": "LayoutModel",
          "model_module_version": "1.2.0",
          "state": {
            "_model_module": "@jupyter-widgets/base",
            "_model_module_version": "1.2.0",
            "_model_name": "LayoutModel",
            "_view_count": null,
            "_view_module": "@jupyter-widgets/base",
            "_view_module_version": "1.2.0",
            "_view_name": "LayoutView",
            "align_content": null,
            "align_items": null,
            "align_self": null,
            "border": null,
            "bottom": null,
            "display": null,
            "flex": null,
            "flex_flow": null,
            "grid_area": null,
            "grid_auto_columns": null,
            "grid_auto_flow": null,
            "grid_auto_rows": null,
            "grid_column": null,
            "grid_gap": null,
            "grid_row": null,
            "grid_template_areas": null,
            "grid_template_columns": null,
            "grid_template_rows": null,
            "height": null,
            "justify_content": null,
            "justify_items": null,
            "left": null,
            "margin": null,
            "max_height": null,
            "max_width": null,
            "min_height": null,
            "min_width": null,
            "object_fit": null,
            "object_position": null,
            "order": null,
            "overflow": null,
            "overflow_x": null,
            "overflow_y": null,
            "padding": null,
            "right": null,
            "top": null,
            "visibility": null,
            "width": null
          }
        },
        "6a17bcef33f24bd881d4080a60b086ff": {
          "model_module": "@jupyter-widgets/controls",
          "model_name": "DescriptionStyleModel",
          "model_module_version": "1.5.0",
          "state": {
            "_model_module": "@jupyter-widgets/controls",
            "_model_module_version": "1.5.0",
            "_model_name": "DescriptionStyleModel",
            "_view_count": null,
            "_view_module": "@jupyter-widgets/base",
            "_view_module_version": "1.2.0",
            "_view_name": "StyleView",
            "description_width": ""
          }
        },
        "3fa90121151f47cab7bf821e706d68e8": {
          "model_module": "@jupyter-widgets/controls",
          "model_name": "HBoxModel",
          "model_module_version": "1.5.0",
          "state": {
            "_dom_classes": [],
            "_model_module": "@jupyter-widgets/controls",
            "_model_module_version": "1.5.0",
            "_model_name": "HBoxModel",
            "_view_count": null,
            "_view_module": "@jupyter-widgets/controls",
            "_view_module_version": "1.5.0",
            "_view_name": "HBoxView",
            "box_style": "",
            "children": [
              "IPY_MODEL_a39a9569caa24f1997f0c8e73e5dabd3",
              "IPY_MODEL_4d69e029e3574a339efebd46f276bc03",
              "IPY_MODEL_449af451ae2b4bb49d158c99b93f3e37"
            ],
            "layout": "IPY_MODEL_199428fe5bb14d6ab88530d639d3bb45"
          }
        },
        "a39a9569caa24f1997f0c8e73e5dabd3": {
          "model_module": "@jupyter-widgets/controls",
          "model_name": "HTMLModel",
          "model_module_version": "1.5.0",
          "state": {
            "_dom_classes": [],
            "_model_module": "@jupyter-widgets/controls",
            "_model_module_version": "1.5.0",
            "_model_name": "HTMLModel",
            "_view_count": null,
            "_view_module": "@jupyter-widgets/controls",
            "_view_module_version": "1.5.0",
            "_view_name": "HTMLView",
            "description": "",
            "description_tooltip": null,
            "layout": "IPY_MODEL_e6a1056cba4245ab87b95b448c54b54b",
            "placeholder": "​",
            "style": "IPY_MODEL_061a9429015349bc8af37345d6d447a8",
            "value": "100%"
          }
        },
        "4d69e029e3574a339efebd46f276bc03": {
          "model_module": "@jupyter-widgets/controls",
          "model_name": "FloatProgressModel",
          "model_module_version": "1.5.0",
          "state": {
            "_dom_classes": [],
            "_model_module": "@jupyter-widgets/controls",
            "_model_module_version": "1.5.0",
            "_model_name": "FloatProgressModel",
            "_view_count": null,
            "_view_module": "@jupyter-widgets/controls",
            "_view_module_version": "1.5.0",
            "_view_name": "ProgressView",
            "bar_style": "success",
            "description": "",
            "description_tooltip": null,
            "layout": "IPY_MODEL_bccc5992fbb64509b0be1c8a4b4a59c1",
            "max": 408369,
            "min": 0,
            "orientation": "horizontal",
            "style": "IPY_MODEL_5ab1fcfd6d564fac84d10c371595ec19",
            "value": 408369
          }
        },
        "449af451ae2b4bb49d158c99b93f3e37": {
          "model_module": "@jupyter-widgets/controls",
          "model_name": "HTMLModel",
          "model_module_version": "1.5.0",
          "state": {
            "_dom_classes": [],
            "_model_module": "@jupyter-widgets/controls",
            "_model_module_version": "1.5.0",
            "_model_name": "HTMLModel",
            "_view_count": null,
            "_view_module": "@jupyter-widgets/controls",
            "_view_module_version": "1.5.0",
            "_view_name": "HTMLView",
            "description": "",
            "description_tooltip": null,
            "layout": "IPY_MODEL_28696ebb22024987b8884a993003d01c",
            "placeholder": "​",
            "style": "IPY_MODEL_36bbbe4e382b431eb5a274bf72d81e32",
            "value": " 408369/408369 [28:14&lt;00:00, 223.64it/s]"
          }
        },
        "199428fe5bb14d6ab88530d639d3bb45": {
          "model_module": "@jupyter-widgets/base",
          "model_name": "LayoutModel",
          "model_module_version": "1.2.0",
          "state": {
            "_model_module": "@jupyter-widgets/base",
            "_model_module_version": "1.2.0",
            "_model_name": "LayoutModel",
            "_view_count": null,
            "_view_module": "@jupyter-widgets/base",
            "_view_module_version": "1.2.0",
            "_view_name": "LayoutView",
            "align_content": null,
            "align_items": null,
            "align_self": null,
            "border": null,
            "bottom": null,
            "display": null,
            "flex": null,
            "flex_flow": null,
            "grid_area": null,
            "grid_auto_columns": null,
            "grid_auto_flow": null,
            "grid_auto_rows": null,
            "grid_column": null,
            "grid_gap": null,
            "grid_row": null,
            "grid_template_areas": null,
            "grid_template_columns": null,
            "grid_template_rows": null,
            "height": null,
            "justify_content": null,
            "justify_items": null,
            "left": null,
            "margin": null,
            "max_height": null,
            "max_width": null,
            "min_height": null,
            "min_width": null,
            "object_fit": null,
            "object_position": null,
            "order": null,
            "overflow": null,
            "overflow_x": null,
            "overflow_y": null,
            "padding": null,
            "right": null,
            "top": null,
            "visibility": null,
            "width": null
          }
        },
        "e6a1056cba4245ab87b95b448c54b54b": {
          "model_module": "@jupyter-widgets/base",
          "model_name": "LayoutModel",
          "model_module_version": "1.2.0",
          "state": {
            "_model_module": "@jupyter-widgets/base",
            "_model_module_version": "1.2.0",
            "_model_name": "LayoutModel",
            "_view_count": null,
            "_view_module": "@jupyter-widgets/base",
            "_view_module_version": "1.2.0",
            "_view_name": "LayoutView",
            "align_content": null,
            "align_items": null,
            "align_self": null,
            "border": null,
            "bottom": null,
            "display": null,
            "flex": null,
            "flex_flow": null,
            "grid_area": null,
            "grid_auto_columns": null,
            "grid_auto_flow": null,
            "grid_auto_rows": null,
            "grid_column": null,
            "grid_gap": null,
            "grid_row": null,
            "grid_template_areas": null,
            "grid_template_columns": null,
            "grid_template_rows": null,
            "height": null,
            "justify_content": null,
            "justify_items": null,
            "left": null,
            "margin": null,
            "max_height": null,
            "max_width": null,
            "min_height": null,
            "min_width": null,
            "object_fit": null,
            "object_position": null,
            "order": null,
            "overflow": null,
            "overflow_x": null,
            "overflow_y": null,
            "padding": null,
            "right": null,
            "top": null,
            "visibility": null,
            "width": null
          }
        },
        "061a9429015349bc8af37345d6d447a8": {
          "model_module": "@jupyter-widgets/controls",
          "model_name": "DescriptionStyleModel",
          "model_module_version": "1.5.0",
          "state": {
            "_model_module": "@jupyter-widgets/controls",
            "_model_module_version": "1.5.0",
            "_model_name": "DescriptionStyleModel",
            "_view_count": null,
            "_view_module": "@jupyter-widgets/base",
            "_view_module_version": "1.2.0",
            "_view_name": "StyleView",
            "description_width": ""
          }
        },
        "bccc5992fbb64509b0be1c8a4b4a59c1": {
          "model_module": "@jupyter-widgets/base",
          "model_name": "LayoutModel",
          "model_module_version": "1.2.0",
          "state": {
            "_model_module": "@jupyter-widgets/base",
            "_model_module_version": "1.2.0",
            "_model_name": "LayoutModel",
            "_view_count": null,
            "_view_module": "@jupyter-widgets/base",
            "_view_module_version": "1.2.0",
            "_view_name": "LayoutView",
            "align_content": null,
            "align_items": null,
            "align_self": null,
            "border": null,
            "bottom": null,
            "display": null,
            "flex": null,
            "flex_flow": null,
            "grid_area": null,
            "grid_auto_columns": null,
            "grid_auto_flow": null,
            "grid_auto_rows": null,
            "grid_column": null,
            "grid_gap": null,
            "grid_row": null,
            "grid_template_areas": null,
            "grid_template_columns": null,
            "grid_template_rows": null,
            "height": null,
            "justify_content": null,
            "justify_items": null,
            "left": null,
            "margin": null,
            "max_height": null,
            "max_width": null,
            "min_height": null,
            "min_width": null,
            "object_fit": null,
            "object_position": null,
            "order": null,
            "overflow": null,
            "overflow_x": null,
            "overflow_y": null,
            "padding": null,
            "right": null,
            "top": null,
            "visibility": null,
            "width": null
          }
        },
        "5ab1fcfd6d564fac84d10c371595ec19": {
          "model_module": "@jupyter-widgets/controls",
          "model_name": "ProgressStyleModel",
          "model_module_version": "1.5.0",
          "state": {
            "_model_module": "@jupyter-widgets/controls",
            "_model_module_version": "1.5.0",
            "_model_name": "ProgressStyleModel",
            "_view_count": null,
            "_view_module": "@jupyter-widgets/base",
            "_view_module_version": "1.2.0",
            "_view_name": "StyleView",
            "bar_color": null,
            "description_width": ""
          }
        },
        "28696ebb22024987b8884a993003d01c": {
          "model_module": "@jupyter-widgets/base",
          "model_name": "LayoutModel",
          "model_module_version": "1.2.0",
          "state": {
            "_model_module": "@jupyter-widgets/base",
            "_model_module_version": "1.2.0",
            "_model_name": "LayoutModel",
            "_view_count": null,
            "_view_module": "@jupyter-widgets/base",
            "_view_module_version": "1.2.0",
            "_view_name": "LayoutView",
            "align_content": null,
            "align_items": null,
            "align_self": null,
            "border": null,
            "bottom": null,
            "display": null,
            "flex": null,
            "flex_flow": null,
            "grid_area": null,
            "grid_auto_columns": null,
            "grid_auto_flow": null,
            "grid_auto_rows": null,
            "grid_column": null,
            "grid_gap": null,
            "grid_row": null,
            "grid_template_areas": null,
            "grid_template_columns": null,
            "grid_template_rows": null,
            "height": null,
            "justify_content": null,
            "justify_items": null,
            "left": null,
            "margin": null,
            "max_height": null,
            "max_width": null,
            "min_height": null,
            "min_width": null,
            "object_fit": null,
            "object_position": null,
            "order": null,
            "overflow": null,
            "overflow_x": null,
            "overflow_y": null,
            "padding": null,
            "right": null,
            "top": null,
            "visibility": null,
            "width": null
          }
        },
        "36bbbe4e382b431eb5a274bf72d81e32": {
          "model_module": "@jupyter-widgets/controls",
          "model_name": "DescriptionStyleModel",
          "model_module_version": "1.5.0",
          "state": {
            "_model_module": "@jupyter-widgets/controls",
            "_model_module_version": "1.5.0",
            "_model_name": "DescriptionStyleModel",
            "_view_count": null,
            "_view_module": "@jupyter-widgets/base",
            "_view_module_version": "1.2.0",
            "_view_name": "StyleView",
            "description_width": ""
          }
        },
        "4d2d96c70f7c48e181eccbe29b0e5ad5": {
          "model_module": "@jupyter-widgets/controls",
          "model_name": "HBoxModel",
          "model_module_version": "1.5.0",
          "state": {
            "_dom_classes": [],
            "_model_module": "@jupyter-widgets/controls",
            "_model_module_version": "1.5.0",
            "_model_name": "HBoxModel",
            "_view_count": null,
            "_view_module": "@jupyter-widgets/controls",
            "_view_module_version": "1.5.0",
            "_view_name": "HBoxView",
            "box_style": "",
            "children": [
              "IPY_MODEL_58566d8645af40fb96538abc3d09f7e8",
              "IPY_MODEL_60aa08886ca644ae82c6b0dc551e2f52",
              "IPY_MODEL_b2e3d7a2306e4e8cbe5654f448933bd1"
            ],
            "layout": "IPY_MODEL_612cc7c8cc054a39a8b6a3bf72369cbf"
          }
        },
        "58566d8645af40fb96538abc3d09f7e8": {
          "model_module": "@jupyter-widgets/controls",
          "model_name": "HTMLModel",
          "model_module_version": "1.5.0",
          "state": {
            "_dom_classes": [],
            "_model_module": "@jupyter-widgets/controls",
            "_model_module_version": "1.5.0",
            "_model_name": "HTMLModel",
            "_view_count": null,
            "_view_module": "@jupyter-widgets/controls",
            "_view_module_version": "1.5.0",
            "_view_name": "HTMLView",
            "description": "",
            "description_tooltip": null,
            "layout": "IPY_MODEL_10b30d1d91e446b6b2a3ed3cd3c87fe1",
            "placeholder": "​",
            "style": "IPY_MODEL_49671c4bcff348df93c7cd6857c30bea",
            "value": "100%"
          }
        },
        "60aa08886ca644ae82c6b0dc551e2f52": {
          "model_module": "@jupyter-widgets/controls",
          "model_name": "FloatProgressModel",
          "model_module_version": "1.5.0",
          "state": {
            "_dom_classes": [],
            "_model_module": "@jupyter-widgets/controls",
            "_model_module_version": "1.5.0",
            "_model_name": "FloatProgressModel",
            "_view_count": null,
            "_view_module": "@jupyter-widgets/controls",
            "_view_module_version": "1.5.0",
            "_view_name": "ProgressView",
            "bar_style": "success",
            "description": "",
            "description_tooltip": null,
            "layout": "IPY_MODEL_39806043964b409da59e8a3be7b970ce",
            "max": 8,
            "min": 0,
            "orientation": "horizontal",
            "style": "IPY_MODEL_a92ea9a0af2f4cd2a5038db1d6bf0e33",
            "value": 8
          }
        },
        "b2e3d7a2306e4e8cbe5654f448933bd1": {
          "model_module": "@jupyter-widgets/controls",
          "model_name": "HTMLModel",
          "model_module_version": "1.5.0",
          "state": {
            "_dom_classes": [],
            "_model_module": "@jupyter-widgets/controls",
            "_model_module_version": "1.5.0",
            "_model_name": "HTMLModel",
            "_view_count": null,
            "_view_module": "@jupyter-widgets/controls",
            "_view_module_version": "1.5.0",
            "_view_name": "HTMLView",
            "description": "",
            "description_tooltip": null,
            "layout": "IPY_MODEL_d1e2b41ee13040b8b48623e5ad1315a6",
            "placeholder": "​",
            "style": "IPY_MODEL_3652c39201dd460b9e30f47d2cd606d4",
            "value": " 8/8 [00:03&lt;00:00,  3.10it/s]"
          }
        },
        "612cc7c8cc054a39a8b6a3bf72369cbf": {
          "model_module": "@jupyter-widgets/base",
          "model_name": "LayoutModel",
          "model_module_version": "1.2.0",
          "state": {
            "_model_module": "@jupyter-widgets/base",
            "_model_module_version": "1.2.0",
            "_model_name": "LayoutModel",
            "_view_count": null,
            "_view_module": "@jupyter-widgets/base",
            "_view_module_version": "1.2.0",
            "_view_name": "LayoutView",
            "align_content": null,
            "align_items": null,
            "align_self": null,
            "border": null,
            "bottom": null,
            "display": null,
            "flex": null,
            "flex_flow": null,
            "grid_area": null,
            "grid_auto_columns": null,
            "grid_auto_flow": null,
            "grid_auto_rows": null,
            "grid_column": null,
            "grid_gap": null,
            "grid_row": null,
            "grid_template_areas": null,
            "grid_template_columns": null,
            "grid_template_rows": null,
            "height": null,
            "justify_content": null,
            "justify_items": null,
            "left": null,
            "margin": null,
            "max_height": null,
            "max_width": null,
            "min_height": null,
            "min_width": null,
            "object_fit": null,
            "object_position": null,
            "order": null,
            "overflow": null,
            "overflow_x": null,
            "overflow_y": null,
            "padding": null,
            "right": null,
            "top": null,
            "visibility": null,
            "width": null
          }
        },
        "10b30d1d91e446b6b2a3ed3cd3c87fe1": {
          "model_module": "@jupyter-widgets/base",
          "model_name": "LayoutModel",
          "model_module_version": "1.2.0",
          "state": {
            "_model_module": "@jupyter-widgets/base",
            "_model_module_version": "1.2.0",
            "_model_name": "LayoutModel",
            "_view_count": null,
            "_view_module": "@jupyter-widgets/base",
            "_view_module_version": "1.2.0",
            "_view_name": "LayoutView",
            "align_content": null,
            "align_items": null,
            "align_self": null,
            "border": null,
            "bottom": null,
            "display": null,
            "flex": null,
            "flex_flow": null,
            "grid_area": null,
            "grid_auto_columns": null,
            "grid_auto_flow": null,
            "grid_auto_rows": null,
            "grid_column": null,
            "grid_gap": null,
            "grid_row": null,
            "grid_template_areas": null,
            "grid_template_columns": null,
            "grid_template_rows": null,
            "height": null,
            "justify_content": null,
            "justify_items": null,
            "left": null,
            "margin": null,
            "max_height": null,
            "max_width": null,
            "min_height": null,
            "min_width": null,
            "object_fit": null,
            "object_position": null,
            "order": null,
            "overflow": null,
            "overflow_x": null,
            "overflow_y": null,
            "padding": null,
            "right": null,
            "top": null,
            "visibility": null,
            "width": null
          }
        },
        "49671c4bcff348df93c7cd6857c30bea": {
          "model_module": "@jupyter-widgets/controls",
          "model_name": "DescriptionStyleModel",
          "model_module_version": "1.5.0",
          "state": {
            "_model_module": "@jupyter-widgets/controls",
            "_model_module_version": "1.5.0",
            "_model_name": "DescriptionStyleModel",
            "_view_count": null,
            "_view_module": "@jupyter-widgets/base",
            "_view_module_version": "1.2.0",
            "_view_name": "StyleView",
            "description_width": ""
          }
        },
        "39806043964b409da59e8a3be7b970ce": {
          "model_module": "@jupyter-widgets/base",
          "model_name": "LayoutModel",
          "model_module_version": "1.2.0",
          "state": {
            "_model_module": "@jupyter-widgets/base",
            "_model_module_version": "1.2.0",
            "_model_name": "LayoutModel",
            "_view_count": null,
            "_view_module": "@jupyter-widgets/base",
            "_view_module_version": "1.2.0",
            "_view_name": "LayoutView",
            "align_content": null,
            "align_items": null,
            "align_self": null,
            "border": null,
            "bottom": null,
            "display": null,
            "flex": null,
            "flex_flow": null,
            "grid_area": null,
            "grid_auto_columns": null,
            "grid_auto_flow": null,
            "grid_auto_rows": null,
            "grid_column": null,
            "grid_gap": null,
            "grid_row": null,
            "grid_template_areas": null,
            "grid_template_columns": null,
            "grid_template_rows": null,
            "height": null,
            "justify_content": null,
            "justify_items": null,
            "left": null,
            "margin": null,
            "max_height": null,
            "max_width": null,
            "min_height": null,
            "min_width": null,
            "object_fit": null,
            "object_position": null,
            "order": null,
            "overflow": null,
            "overflow_x": null,
            "overflow_y": null,
            "padding": null,
            "right": null,
            "top": null,
            "visibility": null,
            "width": null
          }
        },
        "a92ea9a0af2f4cd2a5038db1d6bf0e33": {
          "model_module": "@jupyter-widgets/controls",
          "model_name": "ProgressStyleModel",
          "model_module_version": "1.5.0",
          "state": {
            "_model_module": "@jupyter-widgets/controls",
            "_model_module_version": "1.5.0",
            "_model_name": "ProgressStyleModel",
            "_view_count": null,
            "_view_module": "@jupyter-widgets/base",
            "_view_module_version": "1.2.0",
            "_view_name": "StyleView",
            "bar_color": null,
            "description_width": ""
          }
        },
        "d1e2b41ee13040b8b48623e5ad1315a6": {
          "model_module": "@jupyter-widgets/base",
          "model_name": "LayoutModel",
          "model_module_version": "1.2.0",
          "state": {
            "_model_module": "@jupyter-widgets/base",
            "_model_module_version": "1.2.0",
            "_model_name": "LayoutModel",
            "_view_count": null,
            "_view_module": "@jupyter-widgets/base",
            "_view_module_version": "1.2.0",
            "_view_name": "LayoutView",
            "align_content": null,
            "align_items": null,
            "align_self": null,
            "border": null,
            "bottom": null,
            "display": null,
            "flex": null,
            "flex_flow": null,
            "grid_area": null,
            "grid_auto_columns": null,
            "grid_auto_flow": null,
            "grid_auto_rows": null,
            "grid_column": null,
            "grid_gap": null,
            "grid_row": null,
            "grid_template_areas": null,
            "grid_template_columns": null,
            "grid_template_rows": null,
            "height": null,
            "justify_content": null,
            "justify_items": null,
            "left": null,
            "margin": null,
            "max_height": null,
            "max_width": null,
            "min_height": null,
            "min_width": null,
            "object_fit": null,
            "object_position": null,
            "order": null,
            "overflow": null,
            "overflow_x": null,
            "overflow_y": null,
            "padding": null,
            "right": null,
            "top": null,
            "visibility": null,
            "width": null
          }
        },
        "3652c39201dd460b9e30f47d2cd606d4": {
          "model_module": "@jupyter-widgets/controls",
          "model_name": "DescriptionStyleModel",
          "model_module_version": "1.5.0",
          "state": {
            "_model_module": "@jupyter-widgets/controls",
            "_model_module_version": "1.5.0",
            "_model_name": "DescriptionStyleModel",
            "_view_count": null,
            "_view_module": "@jupyter-widgets/base",
            "_view_module_version": "1.2.0",
            "_view_name": "StyleView",
            "description_width": ""
          }
        }
      }
    }
  },
  "cells": [
    {
      "cell_type": "code",
      "source": [
        "from google.colab import drive\n",
        "drive.mount('/content/drive')"
      ],
      "metadata": {
        "colab": {
          "base_uri": "https://localhost:8080/"
        },
        "id": "gtCLzHtSVKw8",
        "outputId": "7d8b45ed-6fb9-4299-8780-554e6304f6f5"
      },
      "execution_count": null,
      "outputs": [
        {
          "output_type": "stream",
          "name": "stdout",
          "text": [
            "Mounted at /content/drive\n"
          ]
        }
      ]
    },
    {
      "cell_type": "code",
      "execution_count": null,
      "metadata": {
        "colab": {
          "base_uri": "https://localhost:8080/"
        },
        "id": "BS_6Re7WaNHW",
        "outputId": "fab87d87-94f7-41b1-8128-ce4b153aa4c8"
      },
      "outputs": [
        {
          "output_type": "stream",
          "name": "stdout",
          "text": [
            "Archive:  /content/drive/MyDrive/datasets/data.zip\n",
            "   creating: 1.Training/\n",
            "   creating: 1.Training/라벨링데이터/\n",
            "   creating: 1.Training/라벨링데이터/aihub/\n",
            "  inflating: 1.Training/라벨링데이터/aihub/TL1_aihub.zip  \n",
            "   creating: 1.Training/원천데이터/\n",
            "  inflating: 1.Training/원천데이터/TS1.zip  \n",
            "   creating: 2.Validation/\n",
            "   creating: 2.Validation/라벨링데이터/\n",
            "   creating: 2.Validation/라벨링데이터/aihub/\n",
            "  inflating: 2.Validation/라벨링데이터/aihub/VL1_aihub.zip  \n",
            "   creating: 2.Validation/원천데이터/\n",
            "  inflating: 2.Validation/원천데이터/VS1.zip  \n"
          ]
        }
      ],
      "source": [
        "!unzip /content/drive/MyDrive/datasets/data.zip"
      ]
    },
    {
      "cell_type": "code",
      "source": [
        "!unzip /content/1.Training/라벨링데이터/aihub/TL1_aihub.zip"
      ],
      "metadata": {
        "colab": {
          "base_uri": "https://localhost:8080/"
        },
        "id": "l1iunREibXWZ",
        "outputId": "74a2074a-b678-43d5-c29a-9a04fd693ffc"
      },
      "execution_count": null,
      "outputs": [
        {
          "output_type": "stream",
          "name": "stdout",
          "text": [
            "Archive:  /content/1.Training/라벨링데이터/aihub/TL1_aihub.zip\n",
            "   creating: talksets-train-1/\n",
            "  inflating: talksets-train-1/talksets-train-1_aihub.json  \n",
            "   creating: talksets-train-2/\n",
            "  inflating: talksets-train-2/talksets-train-2.json  \n",
            "   creating: talksets-train-3/\n",
            "  inflating: talksets-train-3/talksets-train-3.json  \n",
            "   creating: talksets-train-4/\n",
            "  inflating: talksets-train-4/talksets-train-4.json  \n",
            "   creating: talksets-train-5/\n",
            "  inflating: talksets-train-5/talksets-train-5.json  \n"
          ]
        }
      ]
    },
    {
      "cell_type": "code",
      "source": [
        "!unzip /content/1.Training/원천데이터/TS1.zip"
      ],
      "metadata": {
        "colab": {
          "base_uri": "https://localhost:8080/"
        },
        "id": "NRtGx7Sjbe-y",
        "outputId": "e4066760-5acb-4ced-fd6d-0135fa0b3207"
      },
      "execution_count": null,
      "outputs": [
        {
          "output_type": "stream",
          "name": "stdout",
          "text": [
            "Archive:  /content/1.Training/원천데이터/TS1.zip\n",
            "  inflating: talksets-train-1/talksets-train-1.txt  \n",
            "  inflating: talksets-train-2/talksets-train-2.txt  \n",
            "  inflating: talksets-train-3/talksets-train-3.txt  \n",
            "  inflating: talksets-train-4/talksets-train-4.txt  \n",
            "  inflating: talksets-train-5/talksets-train-5.txt  \n"
          ]
        }
      ]
    },
    {
      "cell_type": "code",
      "source": [
        "!unzip /content/2.Validation/라벨링데이터/aihub/VL1_aihub.zip"
      ],
      "metadata": {
        "colab": {
          "base_uri": "https://localhost:8080/"
        },
        "id": "ssucCjv5bhtl",
        "outputId": "dbc7a3db-bece-4ccc-e71d-c9534ed72671"
      },
      "execution_count": null,
      "outputs": [
        {
          "output_type": "stream",
          "name": "stdout",
          "text": [
            "Archive:  /content/2.Validation/라벨링데이터/aihub/VL1_aihub.zip\n",
            "   creating: talksets-train-6/\n",
            "  inflating: talksets-train-6/talksets-train-6.json  \n"
          ]
        }
      ]
    },
    {
      "cell_type": "code",
      "source": [
        "!unzip /content/2.Validation/원천데이터/VS1.zip"
      ],
      "metadata": {
        "colab": {
          "base_uri": "https://localhost:8080/"
        },
        "id": "R285Ak76bkXU",
        "outputId": "81dbf850-a48d-4ac7-dd29-0639d65b6971"
      },
      "execution_count": null,
      "outputs": [
        {
          "output_type": "stream",
          "name": "stdout",
          "text": [
            "Archive:  /content/2.Validation/원천데이터/VS1.zip\n",
            "  inflating: talksets-train-6.txt    \n"
          ]
        }
      ]
    },
    {
      "cell_type": "code",
      "source": [
        "with open('/content/talksets-train-1/talksets-train-1.txt', 'r') as f:\n",
        "  for line in f.readlines():\n",
        "    print(line)\n",
        "    break"
      ],
      "metadata": {
        "colab": {
          "base_uri": "https://localhost:8080/"
        },
        "id": "A5TqGvf7bmIY",
        "outputId": "963f212d-84d0-404d-c5f8-61af950ab930"
      },
      "execution_count": null,
      "outputs": [
        {
          "output_type": "stream",
          "name": "stdout",
          "text": [
            "{부랴부랴 왔는데 아무도 안왔네. 시간개념들이 없네|맞아. 사람들이 진짜 개념이없다|저렇게는 살지 말아야지|그러게 게으르고 멍청한 사람들은 맞아야해}\n",
            "\n"
          ]
        }
      ]
    },
    {
      "cell_type": "code",
      "source": [
        "import json\n",
        "with open('/content/talksets-train-1/talksets-train-1_aihub.json', 'r') as f:\n",
        "  j = json.load(f)"
      ],
      "metadata": {
        "id": "gaD60Wp_b9n6"
      },
      "execution_count": null,
      "outputs": []
    },
    {
      "cell_type": "code",
      "source": [
        "# 19689개의 대화\n",
        "len(j)"
      ],
      "metadata": {
        "colab": {
          "base_uri": "https://localhost:8080/"
        },
        "id": "olevrmj9ccgn",
        "outputId": "52b2d77c-e913-4958-aa27-cf10b0e3beb9"
      },
      "execution_count": null,
      "outputs": [
        {
          "output_type": "execute_result",
          "data": {
            "text/plain": [
              "19689"
            ]
          },
          "metadata": {},
          "execution_count": 13
        }
      ]
    },
    {
      "cell_type": "code",
      "source": [
        "# 첫 번째 대화 안에 4개의 문장\n",
        "len(j[0]['sentences'])"
      ],
      "metadata": {
        "colab": {
          "base_uri": "https://localhost:8080/"
        },
        "id": "wbR7ll-CdDMv",
        "outputId": "cdfcd285-1a29-4251-ac94-374c36a4c6cc"
      },
      "execution_count": null,
      "outputs": [
        {
          "output_type": "execute_result",
          "data": {
            "text/plain": [
              "4"
            ]
          },
          "metadata": {},
          "execution_count": 14
        }
      ]
    },
    {
      "cell_type": "code",
      "source": [
        "# 첫 번째 대화, 첫 번째 문장\n",
        "j[0]['sentences'][0]"
      ],
      "metadata": {
        "colab": {
          "base_uri": "https://localhost:8080/"
        },
        "id": "7qXtSIMGdTWf",
        "outputId": "e3e49721-6acd-46cb-b2bf-aca28c9aa720"
      },
      "execution_count": null,
      "outputs": [
        {
          "output_type": "execute_result",
          "data": {
            "text/plain": [
              "{'id': '615281b0aab10bca18a468e2-1',\n",
              " 'speaker': 1,\n",
              " 'origin_text': '부랴부랴 왔는데 아무도 안왔네. 시간개념들이 없네',\n",
              " 'text': '부랴부랴 왔는데 아무도 안왔네. 시간개념들이 없네',\n",
              " 'types': ['CENSURE'],\n",
              " 'is_immoral': True,\n",
              " 'intensity': 2.0,\n",
              " 'intensity_sum': 10,\n",
              " 'votes': [{'intensity': 'IRRITABLE', 'voter': {'gender': 'MALE', 'age': 20}},\n",
              "  {'intensity': 'IRRITABLE', 'voter': {'gender': 'MALE', 'age': 40}},\n",
              "  {'intensity': 'IRRITABLE', 'voter': {'gender': 'MALE', 'age': 60}},\n",
              "  {'intensity': 'IRRITABLE', 'voter': {'gender': 'MALE', 'age': 50}},\n",
              "  {'intensity': 'IRRITABLE', 'voter': {'gender': 'MALE', 'age': 20}}],\n",
              " 'frame_id': 48327,\n",
              " 'mapped_slots': [{'slot': 'V1', 'token': '오다', 'lu_id': 19549},\n",
              "  {'slot': 'N1', 'token': '아무', 'lu_id': 12468},\n",
              "  {'slot': 'V2', 'token': '안오다', 'lu_id': 42059},\n",
              "  {'slot': 'N2', 'token': '시간', 'lu_id': 11939},\n",
              "  {'slot': 'N3', 'token': '개념들', 'lu_id': 20303},\n",
              "  {'slot': 'V3', 'token': '없다', 'lu_id': 19543}]}"
            ]
          },
          "metadata": {},
          "execution_count": 15
        }
      ]
    },
    {
      "cell_type": "code",
      "source": [
        "# 세 번째 대화, 세 번째 문장\n",
        "j[2]['sentences'][2]"
      ],
      "metadata": {
        "colab": {
          "base_uri": "https://localhost:8080/"
        },
        "id": "JOxMIcBSdbGh",
        "outputId": "993657f6-546d-440a-ed3f-3e12df719480"
      },
      "execution_count": null,
      "outputs": [
        {
          "output_type": "execute_result",
          "data": {
            "text/plain": [
              "{'id': '615d33ea78290791e9561d5c-3',\n",
              " 'speaker': 2,\n",
              " 'origin_text': '쉴드가 아니라 국가가 면제해준거야.',\n",
              " 'text': '쉴드가 아니라 국가가 면제해준거야.',\n",
              " 'types': ['IMMORAL_NONE'],\n",
              " 'is_immoral': False,\n",
              " 'intensity': 0,\n",
              " 'intensity_sum': 0,\n",
              " 'votes': None,\n",
              " 'frame_id': 0,\n",
              " 'mapped_slots': []}"
            ]
          },
          "metadata": {},
          "execution_count": 24
        }
      ]
    },
    {
      "cell_type": "code",
      "source": [
        "rows = list()\n",
        "for row in j:\n",
        "  id, sentences = row['id'], row['sentences']\n",
        "  for sentence in sentences:\n",
        "    tmp = list()\n",
        "    id_num, speaker, text, types, boolean, mean, sum =  sentence['id'], sentence['speaker'], sentence['origin_text'], sentence['types'], sentence['is_immoral'], sentence['intensity'], sentence['intensity_sum']\n",
        "    tmp.extend([id_num, speaker, text, types, boolean, mean, sum])\n",
        "    rows.append(tmp)"
      ],
      "metadata": {
        "id": "0XkFOsW1d_HM"
      },
      "execution_count": null,
      "outputs": []
    },
    {
      "cell_type": "code",
      "source": [
        "import pandas as pd"
      ],
      "metadata": {
        "id": "PvQoVsVpV2nS"
      },
      "execution_count": null,
      "outputs": []
    },
    {
      "cell_type": "code",
      "source": [
        "df = pd.DataFrame(rows, columns=['id_num', 'speaker', 'text', 'types', 'boolean', 'mean', 'sum'])"
      ],
      "metadata": {
        "id": "Z50xOAI4JO1A"
      },
      "execution_count": null,
      "outputs": []
    },
    {
      "cell_type": "code",
      "source": [
        "import nltk\n",
        "nltk.download('punkt')"
      ],
      "metadata": {
        "id": "HLJU6l1uPv6m",
        "colab": {
          "base_uri": "https://localhost:8080/"
        },
        "outputId": "607c645b-5995-43c7-fc7f-810b01c8cc87"
      },
      "execution_count": null,
      "outputs": [
        {
          "output_type": "stream",
          "name": "stderr",
          "text": [
            "[nltk_data] Downloading package punkt to /root/nltk_data...\n",
            "[nltk_data]   Unzipping tokenizers/punkt.zip.\n"
          ]
        },
        {
          "output_type": "execute_result",
          "data": {
            "text/plain": [
              "True"
            ]
          },
          "metadata": {},
          "execution_count": 19
        }
      ]
    },
    {
      "cell_type": "code",
      "source": [
        "from nltk.tokenize import word_tokenize"
      ],
      "metadata": {
        "id": "3M_bc6-3P_VJ"
      },
      "execution_count": null,
      "outputs": []
    },
    {
      "cell_type": "code",
      "source": [
        "from tqdm.notebook import tqdm"
      ],
      "metadata": {
        "id": "IWO5ZcJhWJBN"
      },
      "execution_count": null,
      "outputs": []
    },
    {
      "cell_type": "code",
      "source": [
        "bow = dict()\n",
        "for sentence in tqdm(df.text):\n",
        "  for word in word_tokenize(sentence):\n",
        "    if word in bow:\n",
        "      bow[word] += 1\n",
        "    else:\n",
        "      bow[word] = 1"
      ],
      "metadata": {
        "id": "5QGpob6gL1Oz"
      },
      "execution_count": null,
      "outputs": []
    },
    {
      "cell_type": "code",
      "source": [
        "for n in tqdm(range(2, 7)):\n",
        "  with open(f'/content/talksets-train-{n}/talksets-train-{n}.json', 'r') as f:\n",
        "    j = json.load(f)\n",
        "    for row in j:\n",
        "      id, sentences = row['id'], row['sentences']\n",
        "      for sentence in sentences:\n",
        "        tmp = list()\n",
        "        id_num, speaker, text, types, boolean, mean, sum =  sentence['id'], sentence['speaker'], sentence['origin_text'], sentence['types'], sentence['is_immoral'], sentence['intensity'], sentence['intensity_sum']\n",
        "        tmp.extend([id_num, speaker, text, types, boolean, mean, sum])\n",
        "        rows.append(tmp)"
      ],
      "metadata": {
        "id": "2LBQiU6lcNPL"
      },
      "execution_count": null,
      "outputs": []
    },
    {
      "cell_type": "code",
      "source": [
        "len(rows)"
      ],
      "metadata": {
        "colab": {
          "base_uri": "https://localhost:8080/"
        },
        "id": "Ym_ZweAmX_L-",
        "outputId": "47d628f0-6d5d-42e0-b5a4-37469d84d48d"
      },
      "execution_count": null,
      "outputs": [
        {
          "output_type": "execute_result",
          "data": {
            "text/plain": [
              "408369"
            ]
          },
          "metadata": {},
          "execution_count": 29
        }
      ]
    },
    {
      "cell_type": "code",
      "source": [
        "df = pd.DataFrame(rows, columns=['id_num', 'speaker', 'text', 'types', 'boolean', 'mean', 'sum'])"
      ],
      "metadata": {
        "id": "dbpXn-vCYDsd"
      },
      "execution_count": null,
      "outputs": []
    },
    {
      "cell_type": "code",
      "source": [
        "bow = dict()\n",
        "for sentence in tqdm(df.text):\n",
        "  for word in word_tokenize(sentence):\n",
        "    if word in bow:\n",
        "      bow[word] += 1\n",
        "    else:\n",
        "      bow[word] = 1"
      ],
      "metadata": {
        "colab": {
          "base_uri": "https://localhost:8080/",
          "height": 49,
          "referenced_widgets": [
            "e364c5ab273448018f5c9afda11cf81e",
            "c1a3c8a04c124a079351f7308c46751b",
            "37bb100d4aff41a89eedb4c353bd7c55",
            "306a7efc548644d19e907fa6708fc021",
            "c8421be7da544502a656ca2d28b21018",
            "4438bb449b80450881994e481f8104a9",
            "d95e88a87a1243a3b9253d48d9d832bb",
            "5b671b12bfbe4be0831dd448239d5b47",
            "be9957e93fb046d7b021c10ece5a373d",
            "59231b62514a472c8f996da314605d84",
            "5a3744a5000647f4827eb71fca7aa6eb"
          ]
        },
        "id": "rG54nMPTYJy4",
        "outputId": "dd35f18a-d62b-435b-950b-b6f51971e71c"
      },
      "execution_count": null,
      "outputs": [
        {
          "output_type": "display_data",
          "data": {
            "text/plain": [
              "  0%|          | 0/408369 [00:00<?, ?it/s]"
            ],
            "application/vnd.jupyter.widget-view+json": {
              "version_major": 2,
              "version_minor": 0,
              "model_id": "e364c5ab273448018f5c9afda11cf81e"
            }
          },
          "metadata": {}
        }
      ]
    },
    {
      "cell_type": "code",
      "source": [
        "label_dict = {\n",
        "    \"DISCRIMINATION\": \"차별\",\n",
        "    \"HATE\": \"혐오\",\n",
        "    \"CENSURE\": \"비난\",\n",
        "    \"VIOLENCE\": \"폭력\",\n",
        "    \"CRIME\": \"범죄\",\n",
        "    \"SEXUAL\": \"선정\",\n",
        "    \"ABUSE\": \"욕설\",\n",
        "    \"IMMORAL_NONE\" : \"비윤리 문장 아님\"\n",
        "    }"
      ],
      "metadata": {
        "id": "kDlsTUMxZxQd"
      },
      "execution_count": null,
      "outputs": []
    },
    {
      "cell_type": "code",
      "source": [
        "types_dict = dict()\n",
        "for types in df.types:\n",
        "  for typ in types:\n",
        "    if typ in types_dict:\n",
        "      types_dict[typ] += 1\n",
        "    else:\n",
        "      types_dict[typ] = 1"
      ],
      "metadata": {
        "id": "9AC5262raOFC"
      },
      "execution_count": null,
      "outputs": []
    },
    {
      "cell_type": "code",
      "source": [
        "types_dict"
      ],
      "metadata": {
        "colab": {
          "base_uri": "https://localhost:8080/"
        },
        "id": "Hq72HVHUaqUO",
        "outputId": "5923dd06-1e51-49c1-be2f-33ae7b2e6c17"
      },
      "execution_count": null,
      "outputs": [
        {
          "output_type": "execute_result",
          "data": {
            "text/plain": [
              "{'CENSURE': 185186,\n",
              " 'HATE': 60868,\n",
              " 'SEXUAL': 21024,\n",
              " 'IMMORAL_NONE': 183292,\n",
              " 'ABUSE': 18391,\n",
              " 'VIOLENCE': 17468,\n",
              " 'CRIME': 7126,\n",
              " 'DISCRIMINATION': 37324}"
            ]
          },
          "metadata": {},
          "execution_count": 58
        }
      ]
    },
    {
      "cell_type": "code",
      "source": [
        "df.to_csv('/content/drive/MyDrive/datasets/aihub_raws.csv', index=False)"
      ],
      "metadata": {
        "id": "MQCPAbhTblwm"
      },
      "execution_count": null,
      "outputs": []
    },
    {
      "cell_type": "code",
      "source": [
        "df = pd.read_csv('/content/drive/MyDrive/datasets/aihub_raws.csv')"
      ],
      "metadata": {
        "id": "kPPKn6kb_Sre"
      },
      "execution_count": null,
      "outputs": []
    },
    {
      "cell_type": "code",
      "source": [
        "df"
      ],
      "metadata": {
        "colab": {
          "base_uri": "https://localhost:8080/",
          "height": 554
        },
        "id": "GwttdU8I_Pwi",
        "outputId": "6c199178-79a5-484b-ce5b-5cd91a942bb4"
      },
      "execution_count": null,
      "outputs": [
        {
          "output_type": "execute_result",
          "data": {
            "text/plain": [
              "                            id_num  speaker  \\\n",
              "0       615281b0aab10bca18a468e2-1        1   \n",
              "1       615281b0aab10bca18a468e2-2        2   \n",
              "2       615281b0aab10bca18a468e2-3        1   \n",
              "3       615281b0aab10bca18a468e2-4        2   \n",
              "4       615281c2aab10bca18a4b716-1        1   \n",
              "...                            ...      ...   \n",
              "408364  615fc389dcbfe5fa32e7941c-1        1   \n",
              "408365  615fc389dcbfe5fa32e7941c-2        1   \n",
              "408366  615fc389dcbfe5fa32e7941c-3        2   \n",
              "408367  615fc389dcbfe5fa32e7941c-4        2   \n",
              "408368  615fc389dcbfe5fa32e7941c-5        1   \n",
              "\n",
              "                                               text                types  \\\n",
              "0                       부랴부랴 왔는데 아무도 안왔네. 시간개념들이 없네          ['CENSURE']   \n",
              "1                                 맞아. 사람들이 진짜 개념이없다          ['CENSURE']   \n",
              "2                                      저렇게는 살지 말아야지          ['CENSURE']   \n",
              "3                            그러게 게으르고 멍청한 사람들은 맞아야해          ['CENSURE']   \n",
              "4                                 인방 보는 남자는 거르는게 맞다          ['CENSURE']   \n",
              "...                                             ...                  ...   \n",
              "408364                             저 여자는 오늘도 레깅스 입네     ['IMMORAL_NONE']   \n",
              "408365                         남자 아래에 깔려서 당하고 싶은건가?         ['VIOLENCE']   \n",
              "408366                        휴유, 내가 봐준다 뒷태가 끝내주는데!     ['IMMORAL_NONE']   \n",
              "408367          저정도면 놀아달라는 거 아닌가? 저 라인봐봐 만지면 으스러지겠어           ['SEXUAL']   \n",
              "408368  저 언덕 사이에 손을 넣고 주물러주면 그럴걸 ㅋㅋ 본인도 바라고 있지 않을까?  ['CRIME', 'SEXUAL']   \n",
              "\n",
              "        boolean  mean  sum  \n",
              "0          True   2.0   10  \n",
              "1          True   2.0   10  \n",
              "2          True   2.0   10  \n",
              "3          True   2.0   10  \n",
              "4          True   1.0    5  \n",
              "...         ...   ...  ...  \n",
              "408364    False   0.0    0  \n",
              "408365     True   1.8    9  \n",
              "408366    False   0.0    0  \n",
              "408367     True   1.8    9  \n",
              "408368     True   2.6   13  \n",
              "\n",
              "[408369 rows x 7 columns]"
            ],
            "text/html": [
              "\n",
              "  <div id=\"df-31660447-e85d-4a24-8900-733536d518f3\">\n",
              "    <div class=\"colab-df-container\">\n",
              "      <div>\n",
              "<style scoped>\n",
              "    .dataframe tbody tr th:only-of-type {\n",
              "        vertical-align: middle;\n",
              "    }\n",
              "\n",
              "    .dataframe tbody tr th {\n",
              "        vertical-align: top;\n",
              "    }\n",
              "\n",
              "    .dataframe thead th {\n",
              "        text-align: right;\n",
              "    }\n",
              "</style>\n",
              "<table border=\"1\" class=\"dataframe\">\n",
              "  <thead>\n",
              "    <tr style=\"text-align: right;\">\n",
              "      <th></th>\n",
              "      <th>id_num</th>\n",
              "      <th>speaker</th>\n",
              "      <th>text</th>\n",
              "      <th>types</th>\n",
              "      <th>boolean</th>\n",
              "      <th>mean</th>\n",
              "      <th>sum</th>\n",
              "    </tr>\n",
              "  </thead>\n",
              "  <tbody>\n",
              "    <tr>\n",
              "      <th>0</th>\n",
              "      <td>615281b0aab10bca18a468e2-1</td>\n",
              "      <td>1</td>\n",
              "      <td>부랴부랴 왔는데 아무도 안왔네. 시간개념들이 없네</td>\n",
              "      <td>['CENSURE']</td>\n",
              "      <td>True</td>\n",
              "      <td>2.0</td>\n",
              "      <td>10</td>\n",
              "    </tr>\n",
              "    <tr>\n",
              "      <th>1</th>\n",
              "      <td>615281b0aab10bca18a468e2-2</td>\n",
              "      <td>2</td>\n",
              "      <td>맞아. 사람들이 진짜 개념이없다</td>\n",
              "      <td>['CENSURE']</td>\n",
              "      <td>True</td>\n",
              "      <td>2.0</td>\n",
              "      <td>10</td>\n",
              "    </tr>\n",
              "    <tr>\n",
              "      <th>2</th>\n",
              "      <td>615281b0aab10bca18a468e2-3</td>\n",
              "      <td>1</td>\n",
              "      <td>저렇게는 살지 말아야지</td>\n",
              "      <td>['CENSURE']</td>\n",
              "      <td>True</td>\n",
              "      <td>2.0</td>\n",
              "      <td>10</td>\n",
              "    </tr>\n",
              "    <tr>\n",
              "      <th>3</th>\n",
              "      <td>615281b0aab10bca18a468e2-4</td>\n",
              "      <td>2</td>\n",
              "      <td>그러게 게으르고 멍청한 사람들은 맞아야해</td>\n",
              "      <td>['CENSURE']</td>\n",
              "      <td>True</td>\n",
              "      <td>2.0</td>\n",
              "      <td>10</td>\n",
              "    </tr>\n",
              "    <tr>\n",
              "      <th>4</th>\n",
              "      <td>615281c2aab10bca18a4b716-1</td>\n",
              "      <td>1</td>\n",
              "      <td>인방 보는 남자는 거르는게 맞다</td>\n",
              "      <td>['CENSURE']</td>\n",
              "      <td>True</td>\n",
              "      <td>1.0</td>\n",
              "      <td>5</td>\n",
              "    </tr>\n",
              "    <tr>\n",
              "      <th>...</th>\n",
              "      <td>...</td>\n",
              "      <td>...</td>\n",
              "      <td>...</td>\n",
              "      <td>...</td>\n",
              "      <td>...</td>\n",
              "      <td>...</td>\n",
              "      <td>...</td>\n",
              "    </tr>\n",
              "    <tr>\n",
              "      <th>408364</th>\n",
              "      <td>615fc389dcbfe5fa32e7941c-1</td>\n",
              "      <td>1</td>\n",
              "      <td>저 여자는 오늘도 레깅스 입네</td>\n",
              "      <td>['IMMORAL_NONE']</td>\n",
              "      <td>False</td>\n",
              "      <td>0.0</td>\n",
              "      <td>0</td>\n",
              "    </tr>\n",
              "    <tr>\n",
              "      <th>408365</th>\n",
              "      <td>615fc389dcbfe5fa32e7941c-2</td>\n",
              "      <td>1</td>\n",
              "      <td>남자 아래에 깔려서 당하고 싶은건가?</td>\n",
              "      <td>['VIOLENCE']</td>\n",
              "      <td>True</td>\n",
              "      <td>1.8</td>\n",
              "      <td>9</td>\n",
              "    </tr>\n",
              "    <tr>\n",
              "      <th>408366</th>\n",
              "      <td>615fc389dcbfe5fa32e7941c-3</td>\n",
              "      <td>2</td>\n",
              "      <td>휴유, 내가 봐준다 뒷태가 끝내주는데!</td>\n",
              "      <td>['IMMORAL_NONE']</td>\n",
              "      <td>False</td>\n",
              "      <td>0.0</td>\n",
              "      <td>0</td>\n",
              "    </tr>\n",
              "    <tr>\n",
              "      <th>408367</th>\n",
              "      <td>615fc389dcbfe5fa32e7941c-4</td>\n",
              "      <td>2</td>\n",
              "      <td>저정도면 놀아달라는 거 아닌가? 저 라인봐봐 만지면 으스러지겠어</td>\n",
              "      <td>['SEXUAL']</td>\n",
              "      <td>True</td>\n",
              "      <td>1.8</td>\n",
              "      <td>9</td>\n",
              "    </tr>\n",
              "    <tr>\n",
              "      <th>408368</th>\n",
              "      <td>615fc389dcbfe5fa32e7941c-5</td>\n",
              "      <td>1</td>\n",
              "      <td>저 언덕 사이에 손을 넣고 주물러주면 그럴걸 ㅋㅋ 본인도 바라고 있지 않을까?</td>\n",
              "      <td>['CRIME', 'SEXUAL']</td>\n",
              "      <td>True</td>\n",
              "      <td>2.6</td>\n",
              "      <td>13</td>\n",
              "    </tr>\n",
              "  </tbody>\n",
              "</table>\n",
              "<p>408369 rows × 7 columns</p>\n",
              "</div>\n",
              "      <button class=\"colab-df-convert\" onclick=\"convertToInteractive('df-31660447-e85d-4a24-8900-733536d518f3')\"\n",
              "              title=\"Convert this dataframe to an interactive table.\"\n",
              "              style=\"display:none;\">\n",
              "        \n",
              "  <svg xmlns=\"http://www.w3.org/2000/svg\" height=\"24px\"viewBox=\"0 0 24 24\"\n",
              "       width=\"24px\">\n",
              "    <path d=\"M0 0h24v24H0V0z\" fill=\"none\"/>\n",
              "    <path d=\"M18.56 5.44l.94 2.06.94-2.06 2.06-.94-2.06-.94-.94-2.06-.94 2.06-2.06.94zm-11 1L8.5 8.5l.94-2.06 2.06-.94-2.06-.94L8.5 2.5l-.94 2.06-2.06.94zm10 10l.94 2.06.94-2.06 2.06-.94-2.06-.94-.94-2.06-.94 2.06-2.06.94z\"/><path d=\"M17.41 7.96l-1.37-1.37c-.4-.4-.92-.59-1.43-.59-.52 0-1.04.2-1.43.59L10.3 9.45l-7.72 7.72c-.78.78-.78 2.05 0 2.83L4 21.41c.39.39.9.59 1.41.59.51 0 1.02-.2 1.41-.59l7.78-7.78 2.81-2.81c.8-.78.8-2.07 0-2.86zM5.41 20L4 18.59l7.72-7.72 1.47 1.35L5.41 20z\"/>\n",
              "  </svg>\n",
              "      </button>\n",
              "      \n",
              "  <style>\n",
              "    .colab-df-container {\n",
              "      display:flex;\n",
              "      flex-wrap:wrap;\n",
              "      gap: 12px;\n",
              "    }\n",
              "\n",
              "    .colab-df-convert {\n",
              "      background-color: #E8F0FE;\n",
              "      border: none;\n",
              "      border-radius: 50%;\n",
              "      cursor: pointer;\n",
              "      display: none;\n",
              "      fill: #1967D2;\n",
              "      height: 32px;\n",
              "      padding: 0 0 0 0;\n",
              "      width: 32px;\n",
              "    }\n",
              "\n",
              "    .colab-df-convert:hover {\n",
              "      background-color: #E2EBFA;\n",
              "      box-shadow: 0px 1px 2px rgba(60, 64, 67, 0.3), 0px 1px 3px 1px rgba(60, 64, 67, 0.15);\n",
              "      fill: #174EA6;\n",
              "    }\n",
              "\n",
              "    [theme=dark] .colab-df-convert {\n",
              "      background-color: #3B4455;\n",
              "      fill: #D2E3FC;\n",
              "    }\n",
              "\n",
              "    [theme=dark] .colab-df-convert:hover {\n",
              "      background-color: #434B5C;\n",
              "      box-shadow: 0px 1px 3px 1px rgba(0, 0, 0, 0.15);\n",
              "      filter: drop-shadow(0px 1px 2px rgba(0, 0, 0, 0.3));\n",
              "      fill: #FFFFFF;\n",
              "    }\n",
              "  </style>\n",
              "\n",
              "      <script>\n",
              "        const buttonEl =\n",
              "          document.querySelector('#df-31660447-e85d-4a24-8900-733536d518f3 button.colab-df-convert');\n",
              "        buttonEl.style.display =\n",
              "          google.colab.kernel.accessAllowed ? 'block' : 'none';\n",
              "\n",
              "        async function convertToInteractive(key) {\n",
              "          const element = document.querySelector('#df-31660447-e85d-4a24-8900-733536d518f3');\n",
              "          const dataTable =\n",
              "            await google.colab.kernel.invokeFunction('convertToInteractive',\n",
              "                                                     [key], {});\n",
              "          if (!dataTable) return;\n",
              "\n",
              "          const docLinkHtml = 'Like what you see? Visit the ' +\n",
              "            '<a target=\"_blank\" href=https://colab.research.google.com/notebooks/data_table.ipynb>data table notebook</a>'\n",
              "            + ' to learn more about interactive tables.';\n",
              "          element.innerHTML = '';\n",
              "          dataTable['output_type'] = 'display_data';\n",
              "          await google.colab.output.renderOutput(dataTable, element);\n",
              "          const docLink = document.createElement('div');\n",
              "          docLink.innerHTML = docLinkHtml;\n",
              "          element.appendChild(docLink);\n",
              "        }\n",
              "      </script>\n",
              "    </div>\n",
              "  </div>\n",
              "  "
            ]
          },
          "metadata": {},
          "execution_count": 207
        }
      ]
    },
    {
      "cell_type": "code",
      "source": [
        "df2 = df.copy()"
      ],
      "metadata": {
        "id": "pMRkdPHY9vCa"
      },
      "execution_count": null,
      "outputs": []
    },
    {
      "cell_type": "code",
      "source": [
        "bow_0 = dict()\n",
        "for sentence in tqdm(df[df.boolean == True].text):\n",
        "  for word in word_tokenize(sentence):\n",
        "    if word in bow_0:\n",
        "      bow_0[word] += 1\n",
        "    else:\n",
        "      bow_0[word] = 1"
      ],
      "metadata": {
        "colab": {
          "base_uri": "https://localhost:8080/",
          "height": 49,
          "referenced_widgets": [
            "03e865192191451eb86abc136aa2db12",
            "9afef4c53a5d4e3c992df7f712ae17e6",
            "a8331d365d014f07b5c4ee3056074c48",
            "127031aec9d24deda3ed89ee9cdae089",
            "f98f561970f0412a872bfc96517026c9",
            "e6eafb4833564ce392f89c5369acef8b",
            "f7385278734547a2b58e87e2b1750d4b",
            "9df20fb35ee24eaab04262f54d8feada",
            "bb67504cb2554f33abfef2acd3bfbc85",
            "02fbd9d86dc4406fbcd6aeb653b2dc45",
            "74500856d4e547659c925b3516edfcd4"
          ]
        },
        "id": "QljuSwhEareC",
        "outputId": "132fc2c8-d56f-40aa-ac60-882d1d1167a2"
      },
      "execution_count": null,
      "outputs": [
        {
          "output_type": "display_data",
          "data": {
            "text/plain": [
              "  0%|          | 0/225077 [00:00<?, ?it/s]"
            ],
            "application/vnd.jupyter.widget-view+json": {
              "version_major": 2,
              "version_minor": 0,
              "model_id": "03e865192191451eb86abc136aa2db12"
            }
          },
          "metadata": {}
        }
      ]
    },
    {
      "cell_type": "code",
      "source": [
        "bow_1 = dict()\n",
        "for sentence in tqdm(df[df.boolean == False].text):\n",
        "  for word in word_tokenize(sentence):\n",
        "    if word in bow_1:\n",
        "      bow_1[word] += 1\n",
        "    else:\n",
        "      bow_1[word] = 1"
      ],
      "metadata": {
        "colab": {
          "base_uri": "https://localhost:8080/",
          "height": 49,
          "referenced_widgets": [
            "b094c9bbee404fe096ebf6439a3dd71b",
            "c75384c8364b4c25af6651ae7e0b117b",
            "ba75a7a24f0f4b49adb6bd40356c0086",
            "35b3650ee4594f4582ec15e857de2498",
            "0a1b588dc27f40a7bb32d033754ab2e8",
            "5c996dd835a94f93883296c44a9541cd",
            "1afa685ec6844ac9a33358928727643e",
            "3c795237525749e9ad490614858478db",
            "1aeacf6fc36f41ada1f48e98974fd97d",
            "cf680b8d70ea4eeba05fb3b30f50b64b",
            "b6131cdbc22243c6afcdda5177716e6f"
          ]
        },
        "id": "U0OK88mLdNaK",
        "outputId": "c7e053e5-63d4-4230-fd7c-8cae5d94a178"
      },
      "execution_count": null,
      "outputs": [
        {
          "output_type": "display_data",
          "data": {
            "text/plain": [
              "  0%|          | 0/183292 [00:00<?, ?it/s]"
            ],
            "application/vnd.jupyter.widget-view+json": {
              "version_major": 2,
              "version_minor": 0,
              "model_id": "b094c9bbee404fe096ebf6439a3dd71b"
            }
          },
          "metadata": {}
        }
      ]
    },
    {
      "cell_type": "code",
      "source": [
        "!pip install konlpy"
      ],
      "metadata": {
        "colab": {
          "base_uri": "https://localhost:8080/"
        },
        "id": "E8wugFQHburd",
        "outputId": "837810b1-190b-4292-bc7d-7c8a21512a8c"
      },
      "execution_count": null,
      "outputs": [
        {
          "output_type": "stream",
          "name": "stdout",
          "text": [
            "Looking in indexes: https://pypi.org/simple, https://us-python.pkg.dev/colab-wheels/public/simple/\n",
            "Collecting konlpy\n",
            "  Downloading konlpy-0.6.0-py2.py3-none-any.whl (19.4 MB)\n",
            "\u001b[K     |████████████████████████████████| 19.4 MB 1.2 MB/s \n",
            "\u001b[?25hRequirement already satisfied: lxml>=4.1.0 in /usr/local/lib/python3.8/dist-packages (from konlpy) (4.9.1)\n",
            "Requirement already satisfied: numpy>=1.6 in /usr/local/lib/python3.8/dist-packages (from konlpy) (1.21.6)\n",
            "Collecting JPype1>=0.7.0\n",
            "  Downloading JPype1-1.4.1-cp38-cp38-manylinux_2_12_x86_64.manylinux2010_x86_64.whl (465 kB)\n",
            "\u001b[K     |████████████████████████████████| 465 kB 57.8 MB/s \n",
            "\u001b[?25hRequirement already satisfied: packaging in /usr/local/lib/python3.8/dist-packages (from JPype1>=0.7.0->konlpy) (21.3)\n",
            "Requirement already satisfied: pyparsing!=3.0.5,>=2.0.2 in /usr/local/lib/python3.8/dist-packages (from packaging->JPype1>=0.7.0->konlpy) (3.0.9)\n",
            "Installing collected packages: JPype1, konlpy\n",
            "Successfully installed JPype1-1.4.1 konlpy-0.6.0\n"
          ]
        }
      ]
    },
    {
      "cell_type": "code",
      "source": [
        "from konlpy.tag import Okt "
      ],
      "metadata": {
        "id": "_Ta56pKmdIG_"
      },
      "execution_count": null,
      "outputs": []
    },
    {
      "cell_type": "code",
      "source": [
        "okt = Okt()\n",
        "okt_sentence = list()\n",
        "okt_bow = dict()\n",
        "for sentence in tqdm(df.text):\n",
        "  words = okt.morphs(sentence)\n",
        "  okt_sentence.append(words)\n",
        "  for word in words:\n",
        "    if word in okt_bow:\n",
        "      okt_bow[word] += 1\n",
        "    else:\n",
        "      okt_bow[word] = 1"
      ],
      "metadata": {
        "colab": {
          "base_uri": "https://localhost:8080/",
          "height": 49,
          "referenced_widgets": [
            "eebdbd6576d94a5ca6e565503faca294",
            "97e13b8958cf4b05813da80e45705cde",
            "8d78d9c6f98a448bb732b47a3107ec62",
            "912e826659074d959546a000c22f01f3",
            "752419439d154c80a7f5df17a3516d95",
            "9f1dca10fc99480a9d50bdfe4a7996bc",
            "75e4b8629c1e4e8bbbfceb60e4709ce7",
            "b12f675ca81846f7b3f9a21c2258effd",
            "29c6d1fc2c76435793396d848775dc6a",
            "7c523b63c8774df8ae4529f874a01d3a",
            "3736830120614da681e2eea92576ceff"
          ]
        },
        "id": "yvJ_ZwfdeMT1",
        "outputId": "65d88a5b-2c51-488b-f833-4226615e7ad6"
      },
      "execution_count": null,
      "outputs": [
        {
          "output_type": "display_data",
          "data": {
            "text/plain": [
              "  0%|          | 0/408369 [00:00<?, ?it/s]"
            ],
            "application/vnd.jupyter.widget-view+json": {
              "version_major": 2,
              "version_minor": 0,
              "model_id": "eebdbd6576d94a5ca6e565503faca294"
            }
          },
          "metadata": {}
        }
      ]
    },
    {
      "cell_type": "code",
      "source": [
        "df2.text = df2.text.str.replace(r'(#@.+#)', '&&')"
      ],
      "metadata": {
        "colab": {
          "base_uri": "https://localhost:8080/"
        },
        "id": "svcWs43pnUWn",
        "outputId": "cc2d676e-4374-472a-8f09-d114d80d062a"
      },
      "execution_count": null,
      "outputs": [
        {
          "output_type": "stream",
          "name": "stderr",
          "text": [
            "<ipython-input-209-03f551b753cc>:1: FutureWarning: The default value of regex will change from True to False in a future version.\n",
            "  df2.text = df2.text.str.replace(r'(#@.+#)', '&&')\n"
          ]
        }
      ]
    },
    {
      "cell_type": "code",
      "source": [
        "df2.text = df2.text.str.replace(r'(#@#)', '&&')"
      ],
      "metadata": {
        "colab": {
          "base_uri": "https://localhost:8080/"
        },
        "id": "EzJ_01oo-qSI",
        "outputId": "f9f6097d-8a0e-4441-bdf2-d3b22fc822bd"
      },
      "execution_count": null,
      "outputs": [
        {
          "output_type": "stream",
          "name": "stderr",
          "text": [
            "<ipython-input-210-518ffba29959>:1: FutureWarning: The default value of regex will change from True to False in a future version.\n",
            "  df2.text = df2.text.str.replace(r'(#@#)', '&&')\n"
          ]
        }
      ]
    },
    {
      "cell_type": "code",
      "source": [
        "df2[df2.text.str.contains('&&')]"
      ],
      "metadata": {
        "colab": {
          "base_uri": "https://localhost:8080/",
          "height": 520
        },
        "id": "wHJXqvdZntpF",
        "outputId": "17e975ce-f662-4cb5-ee52-9c5a476aa27a"
      },
      "execution_count": null,
      "outputs": [
        {
          "output_type": "execute_result",
          "data": {
            "text/plain": [
              "                            id_num  speaker  \\\n",
              "19      61921b89b1bee6a4bd7bdd1f-1        1   \n",
              "21      61921b89b1bee6a4bd7bdd1f-3        2   \n",
              "29      6184cfae7052869c7ead611e-1        1   \n",
              "35      619e9274ae2e7b89e1c833cb-2        2   \n",
              "36      619e9274ae2e7b89e1c833cb-3        1   \n",
              "...                            ...      ...   \n",
              "408289  615da3a157caed0b90003311-1        1   \n",
              "408301  616c33569cbb21a304366d3e-1        1   \n",
              "408304  616c33569cbb21a304366d3e-4        2   \n",
              "408305  616c33569cbb21a304366d3e-5        1   \n",
              "408355  61715ce29d1c76df12ee2ae8-5        2   \n",
              "\n",
              "                                            text                  types  \\\n",
              "19                               &&이 이제 급하긴 한가보네       ['IMMORAL_NONE']   \n",
              "21           언제는 && 역선택이라더니 이제 도와달라고 양심없고 비열한 인간            ['CENSURE']   \n",
              "29             이번에 && 유뷰트 봤는데, 3차선에서 역주행하는 차가 있데       ['IMMORAL_NONE']   \n",
              "35                             && 까면 틀딱 각이다. ㅋㅋㅋ            ['CENSURE']   \n",
              "36             덜떨어진 것들이나 &&이 좋아하지, 그 어린 게 뭘 알겠냐.            ['CENSURE']   \n",
              "...                                          ...                    ...   \n",
              "408289                      &&한테서 벗어날 의지가 있는 거냐?       ['IMMORAL_NONE']   \n",
              "408301                  &&은 핵 가지고 도대체 몇 년을 우려먹냐.       ['IMMORAL_NONE']   \n",
              "408304  동무~ 갈 땐 가더라도 && 머리에 총알 하나는 박아주고 가면 안되겠니?  ['VIOLENCE', 'CRIME']   \n",
              "408305          ㅋㅋㅋ &&은 이미 총 맞고 정신이 이상해진 거 아니었음?            ['CENSURE']   \n",
              "408355              그럼 네 입술을 칼로 찢어서 &&처럼 만들어줄게^^           ['VIOLENCE']   \n",
              "\n",
              "        boolean  mean  sum  \n",
              "19        False   0.0    0  \n",
              "21         True   1.0    5  \n",
              "29        False   0.0    0  \n",
              "35         True   1.0    5  \n",
              "36         True   1.0    5  \n",
              "...         ...   ...  ...  \n",
              "408289    False   0.0    0  \n",
              "408301    False   0.0    0  \n",
              "408304     True   1.8    9  \n",
              "408305     True   1.6    8  \n",
              "408355     True   1.6    8  \n",
              "\n",
              "[19603 rows x 7 columns]"
            ],
            "text/html": [
              "\n",
              "  <div id=\"df-0cf43615-eda4-44e8-aee9-ff452cd0780f\">\n",
              "    <div class=\"colab-df-container\">\n",
              "      <div>\n",
              "<style scoped>\n",
              "    .dataframe tbody tr th:only-of-type {\n",
              "        vertical-align: middle;\n",
              "    }\n",
              "\n",
              "    .dataframe tbody tr th {\n",
              "        vertical-align: top;\n",
              "    }\n",
              "\n",
              "    .dataframe thead th {\n",
              "        text-align: right;\n",
              "    }\n",
              "</style>\n",
              "<table border=\"1\" class=\"dataframe\">\n",
              "  <thead>\n",
              "    <tr style=\"text-align: right;\">\n",
              "      <th></th>\n",
              "      <th>id_num</th>\n",
              "      <th>speaker</th>\n",
              "      <th>text</th>\n",
              "      <th>types</th>\n",
              "      <th>boolean</th>\n",
              "      <th>mean</th>\n",
              "      <th>sum</th>\n",
              "    </tr>\n",
              "  </thead>\n",
              "  <tbody>\n",
              "    <tr>\n",
              "      <th>19</th>\n",
              "      <td>61921b89b1bee6a4bd7bdd1f-1</td>\n",
              "      <td>1</td>\n",
              "      <td>&amp;&amp;이 이제 급하긴 한가보네</td>\n",
              "      <td>['IMMORAL_NONE']</td>\n",
              "      <td>False</td>\n",
              "      <td>0.0</td>\n",
              "      <td>0</td>\n",
              "    </tr>\n",
              "    <tr>\n",
              "      <th>21</th>\n",
              "      <td>61921b89b1bee6a4bd7bdd1f-3</td>\n",
              "      <td>2</td>\n",
              "      <td>언제는 &amp;&amp; 역선택이라더니 이제 도와달라고 양심없고 비열한 인간</td>\n",
              "      <td>['CENSURE']</td>\n",
              "      <td>True</td>\n",
              "      <td>1.0</td>\n",
              "      <td>5</td>\n",
              "    </tr>\n",
              "    <tr>\n",
              "      <th>29</th>\n",
              "      <td>6184cfae7052869c7ead611e-1</td>\n",
              "      <td>1</td>\n",
              "      <td>이번에 &amp;&amp; 유뷰트 봤는데, 3차선에서 역주행하는 차가 있데</td>\n",
              "      <td>['IMMORAL_NONE']</td>\n",
              "      <td>False</td>\n",
              "      <td>0.0</td>\n",
              "      <td>0</td>\n",
              "    </tr>\n",
              "    <tr>\n",
              "      <th>35</th>\n",
              "      <td>619e9274ae2e7b89e1c833cb-2</td>\n",
              "      <td>2</td>\n",
              "      <td>&amp;&amp; 까면 틀딱 각이다. ㅋㅋㅋ</td>\n",
              "      <td>['CENSURE']</td>\n",
              "      <td>True</td>\n",
              "      <td>1.0</td>\n",
              "      <td>5</td>\n",
              "    </tr>\n",
              "    <tr>\n",
              "      <th>36</th>\n",
              "      <td>619e9274ae2e7b89e1c833cb-3</td>\n",
              "      <td>1</td>\n",
              "      <td>덜떨어진 것들이나 &amp;&amp;이 좋아하지, 그 어린 게 뭘 알겠냐.</td>\n",
              "      <td>['CENSURE']</td>\n",
              "      <td>True</td>\n",
              "      <td>1.0</td>\n",
              "      <td>5</td>\n",
              "    </tr>\n",
              "    <tr>\n",
              "      <th>...</th>\n",
              "      <td>...</td>\n",
              "      <td>...</td>\n",
              "      <td>...</td>\n",
              "      <td>...</td>\n",
              "      <td>...</td>\n",
              "      <td>...</td>\n",
              "      <td>...</td>\n",
              "    </tr>\n",
              "    <tr>\n",
              "      <th>408289</th>\n",
              "      <td>615da3a157caed0b90003311-1</td>\n",
              "      <td>1</td>\n",
              "      <td>&amp;&amp;한테서 벗어날 의지가 있는 거냐?</td>\n",
              "      <td>['IMMORAL_NONE']</td>\n",
              "      <td>False</td>\n",
              "      <td>0.0</td>\n",
              "      <td>0</td>\n",
              "    </tr>\n",
              "    <tr>\n",
              "      <th>408301</th>\n",
              "      <td>616c33569cbb21a304366d3e-1</td>\n",
              "      <td>1</td>\n",
              "      <td>&amp;&amp;은 핵 가지고 도대체 몇 년을 우려먹냐.</td>\n",
              "      <td>['IMMORAL_NONE']</td>\n",
              "      <td>False</td>\n",
              "      <td>0.0</td>\n",
              "      <td>0</td>\n",
              "    </tr>\n",
              "    <tr>\n",
              "      <th>408304</th>\n",
              "      <td>616c33569cbb21a304366d3e-4</td>\n",
              "      <td>2</td>\n",
              "      <td>동무~ 갈 땐 가더라도 &amp;&amp; 머리에 총알 하나는 박아주고 가면 안되겠니?</td>\n",
              "      <td>['VIOLENCE', 'CRIME']</td>\n",
              "      <td>True</td>\n",
              "      <td>1.8</td>\n",
              "      <td>9</td>\n",
              "    </tr>\n",
              "    <tr>\n",
              "      <th>408305</th>\n",
              "      <td>616c33569cbb21a304366d3e-5</td>\n",
              "      <td>1</td>\n",
              "      <td>ㅋㅋㅋ &amp;&amp;은 이미 총 맞고 정신이 이상해진 거 아니었음?</td>\n",
              "      <td>['CENSURE']</td>\n",
              "      <td>True</td>\n",
              "      <td>1.6</td>\n",
              "      <td>8</td>\n",
              "    </tr>\n",
              "    <tr>\n",
              "      <th>408355</th>\n",
              "      <td>61715ce29d1c76df12ee2ae8-5</td>\n",
              "      <td>2</td>\n",
              "      <td>그럼 네 입술을 칼로 찢어서 &amp;&amp;처럼 만들어줄게^^</td>\n",
              "      <td>['VIOLENCE']</td>\n",
              "      <td>True</td>\n",
              "      <td>1.6</td>\n",
              "      <td>8</td>\n",
              "    </tr>\n",
              "  </tbody>\n",
              "</table>\n",
              "<p>19603 rows × 7 columns</p>\n",
              "</div>\n",
              "      <button class=\"colab-df-convert\" onclick=\"convertToInteractive('df-0cf43615-eda4-44e8-aee9-ff452cd0780f')\"\n",
              "              title=\"Convert this dataframe to an interactive table.\"\n",
              "              style=\"display:none;\">\n",
              "        \n",
              "  <svg xmlns=\"http://www.w3.org/2000/svg\" height=\"24px\"viewBox=\"0 0 24 24\"\n",
              "       width=\"24px\">\n",
              "    <path d=\"M0 0h24v24H0V0z\" fill=\"none\"/>\n",
              "    <path d=\"M18.56 5.44l.94 2.06.94-2.06 2.06-.94-2.06-.94-.94-2.06-.94 2.06-2.06.94zm-11 1L8.5 8.5l.94-2.06 2.06-.94-2.06-.94L8.5 2.5l-.94 2.06-2.06.94zm10 10l.94 2.06.94-2.06 2.06-.94-2.06-.94-.94-2.06-.94 2.06-2.06.94z\"/><path d=\"M17.41 7.96l-1.37-1.37c-.4-.4-.92-.59-1.43-.59-.52 0-1.04.2-1.43.59L10.3 9.45l-7.72 7.72c-.78.78-.78 2.05 0 2.83L4 21.41c.39.39.9.59 1.41.59.51 0 1.02-.2 1.41-.59l7.78-7.78 2.81-2.81c.8-.78.8-2.07 0-2.86zM5.41 20L4 18.59l7.72-7.72 1.47 1.35L5.41 20z\"/>\n",
              "  </svg>\n",
              "      </button>\n",
              "      \n",
              "  <style>\n",
              "    .colab-df-container {\n",
              "      display:flex;\n",
              "      flex-wrap:wrap;\n",
              "      gap: 12px;\n",
              "    }\n",
              "\n",
              "    .colab-df-convert {\n",
              "      background-color: #E8F0FE;\n",
              "      border: none;\n",
              "      border-radius: 50%;\n",
              "      cursor: pointer;\n",
              "      display: none;\n",
              "      fill: #1967D2;\n",
              "      height: 32px;\n",
              "      padding: 0 0 0 0;\n",
              "      width: 32px;\n",
              "    }\n",
              "\n",
              "    .colab-df-convert:hover {\n",
              "      background-color: #E2EBFA;\n",
              "      box-shadow: 0px 1px 2px rgba(60, 64, 67, 0.3), 0px 1px 3px 1px rgba(60, 64, 67, 0.15);\n",
              "      fill: #174EA6;\n",
              "    }\n",
              "\n",
              "    [theme=dark] .colab-df-convert {\n",
              "      background-color: #3B4455;\n",
              "      fill: #D2E3FC;\n",
              "    }\n",
              "\n",
              "    [theme=dark] .colab-df-convert:hover {\n",
              "      background-color: #434B5C;\n",
              "      box-shadow: 0px 1px 3px 1px rgba(0, 0, 0, 0.15);\n",
              "      filter: drop-shadow(0px 1px 2px rgba(0, 0, 0, 0.3));\n",
              "      fill: #FFFFFF;\n",
              "    }\n",
              "  </style>\n",
              "\n",
              "      <script>\n",
              "        const buttonEl =\n",
              "          document.querySelector('#df-0cf43615-eda4-44e8-aee9-ff452cd0780f button.colab-df-convert');\n",
              "        buttonEl.style.display =\n",
              "          google.colab.kernel.accessAllowed ? 'block' : 'none';\n",
              "\n",
              "        async function convertToInteractive(key) {\n",
              "          const element = document.querySelector('#df-0cf43615-eda4-44e8-aee9-ff452cd0780f');\n",
              "          const dataTable =\n",
              "            await google.colab.kernel.invokeFunction('convertToInteractive',\n",
              "                                                     [key], {});\n",
              "          if (!dataTable) return;\n",
              "\n",
              "          const docLinkHtml = 'Like what you see? Visit the ' +\n",
              "            '<a target=\"_blank\" href=https://colab.research.google.com/notebooks/data_table.ipynb>data table notebook</a>'\n",
              "            + ' to learn more about interactive tables.';\n",
              "          element.innerHTML = '';\n",
              "          dataTable['output_type'] = 'display_data';\n",
              "          await google.colab.output.renderOutput(dataTable, element);\n",
              "          const docLink = document.createElement('div');\n",
              "          docLink.innerHTML = docLinkHtml;\n",
              "          element.appendChild(docLink);\n",
              "        }\n",
              "      </script>\n",
              "    </div>\n",
              "  </div>\n",
              "  "
            ]
          },
          "metadata": {},
          "execution_count": 214
        }
      ]
    },
    {
      "cell_type": "code",
      "source": [
        "okt_sentence2 = list()\n",
        "for text in tqdm(df2.text):\n",
        "  okt_sentence2.append(okt.morphs(text))"
      ],
      "metadata": {
        "colab": {
          "base_uri": "https://localhost:8080/",
          "height": 49,
          "referenced_widgets": [
            "a1f38e999de342b0b27ed945fbf1eb06",
            "eed63a5990a446a0a446a171c7eeb665",
            "77ccc3fb638444199808ce46d2b790b8",
            "168808078b4741a2b655b9219cfe7775",
            "d31a0bf3c003434c8682723c9ef9e7f0",
            "03494f1d753a4669a32c3ea682518547",
            "556f341eadd740b0ad5002327143f17c",
            "61947311e07b477b92977af4d508f363",
            "de1eb73272d949e6b473ea702d3bb61d",
            "10148b700bea4ed79feb39b0a0187568",
            "6a17bcef33f24bd881d4080a60b086ff"
          ]
        },
        "id": "_tC4I4A3oDXA",
        "outputId": "6649efbc-bc50-4a2d-a2da-d5d350e099c1"
      },
      "execution_count": null,
      "outputs": [
        {
          "output_type": "display_data",
          "data": {
            "text/plain": [
              "  0%|          | 0/408369 [00:00<?, ?it/s]"
            ],
            "application/vnd.jupyter.widget-view+json": {
              "version_major": 2,
              "version_minor": 0,
              "model_id": "a1f38e999de342b0b27ed945fbf1eb06"
            }
          },
          "metadata": {}
        }
      ]
    },
    {
      "cell_type": "code",
      "source": [
        "df2['okt_text'] = okt_sentence2"
      ],
      "metadata": {
        "id": "ilnht6dhn58n"
      },
      "execution_count": null,
      "outputs": []
    },
    {
      "cell_type": "code",
      "source": [
        "import ast\n",
        "df2.okt_text = df2.okt_text.map(ast.literal_eval)\n",
        "df2.types = df2.types.map(ast.literal_eval)"
      ],
      "metadata": {
        "id": "xTGw1ipGjjTb"
      },
      "execution_count": null,
      "outputs": []
    },
    {
      "cell_type": "code",
      "source": [
        "df2 = df2[['id_num', 'speaker', 'text', 'okt_text', 'types', 'mean', 'sum', 'boolean']]"
      ],
      "metadata": {
        "id": "wuBz2a3yN6Ko"
      },
      "execution_count": null,
      "outputs": []
    },
    {
      "cell_type": "code",
      "source": [
        "df2"
      ],
      "metadata": {
        "colab": {
          "base_uri": "https://localhost:8080/",
          "height": 658
        },
        "id": "vzZwr82ZOEAl",
        "outputId": "7137db55-161e-4c5e-89ff-1652993ae4c0"
      },
      "execution_count": null,
      "outputs": [
        {
          "output_type": "execute_result",
          "data": {
            "text/plain": [
              "                            id_num  speaker  \\\n",
              "0       615281b0aab10bca18a468e2-1        1   \n",
              "1       615281b0aab10bca18a468e2-2        2   \n",
              "2       615281b0aab10bca18a468e2-3        1   \n",
              "3       615281b0aab10bca18a468e2-4        2   \n",
              "4       615281c2aab10bca18a4b716-1        1   \n",
              "...                            ...      ...   \n",
              "408364  615fc389dcbfe5fa32e7941c-1        1   \n",
              "408365  615fc389dcbfe5fa32e7941c-2        1   \n",
              "408366  615fc389dcbfe5fa32e7941c-3        2   \n",
              "408367  615fc389dcbfe5fa32e7941c-4        2   \n",
              "408368  615fc389dcbfe5fa32e7941c-5        1   \n",
              "\n",
              "                                               text  \\\n",
              "0                       부랴부랴 왔는데 아무도 안왔네. 시간개념들이 없네   \n",
              "1                                 맞아. 사람들이 진짜 개념이없다   \n",
              "2                                      저렇게는 살지 말아야지   \n",
              "3                            그러게 게으르고 멍청한 사람들은 맞아야해   \n",
              "4                                 인방 보는 남자는 거르는게 맞다   \n",
              "...                                             ...   \n",
              "408364                             저 여자는 오늘도 레깅스 입네   \n",
              "408365                         남자 아래에 깔려서 당하고 싶은건가?   \n",
              "408366                        휴유, 내가 봐준다 뒷태가 끝내주는데!   \n",
              "408367          저정도면 놀아달라는 거 아닌가? 저 라인봐봐 만지면 으스러지겠어   \n",
              "408368  저 언덕 사이에 손을 넣고 주물러주면 그럴걸 ㅋㅋ 본인도 바라고 있지 않을까?   \n",
              "\n",
              "                                                 okt_text            types  \\\n",
              "0          [부랴부랴, 왔는데, 아무, 도, 안, 왔네, ., 시간, 개념, 들, 이, 없네]        [CENSURE]   \n",
              "1                        [맞아, ., 사람, 들, 이, 진짜, 개념, 이, 없다]        [CENSURE]   \n",
              "2                                      [저렇게는, 살, 지, 말아야지]        [CENSURE]   \n",
              "3                        [그러게, 게으르고, 멍청한, 사람, 들, 은, 맞아야해]        [CENSURE]   \n",
              "4                             [인방, 보는, 남자, 는, 거르는, 게, 맞다]        [CENSURE]   \n",
              "...                                                   ...              ...   \n",
              "408364                         [저, 여자, 는, 오늘, 도, 레깅스, 입네]   [IMMORAL_NONE]   \n",
              "408365                   [남자, 아래, 에, 깔려서, 당하고, 싶은, 건가, ?]       [VIOLENCE]   \n",
              "408366          [휴, 유, ,, 내, 가, 봐, 준다, 뒷, 태, 가, 끝내주는데, !]   [IMMORAL_NONE]   \n",
              "408367  [저, 정도, 면, 놀아, 달라, 는, 거, 아닌가, ?, 저, 라인, 봐, 봐, ...         [SEXUAL]   \n",
              "408368  [저, 언덕, 사이, 에, 손, 을, 넣고, 주물러주면, 그럴, 걸, ㅋㅋ, 본인,...  [CRIME, SEXUAL]   \n",
              "\n",
              "        mean  sum  boolean  \n",
              "0        2.0   10     True  \n",
              "1        2.0   10     True  \n",
              "2        2.0   10     True  \n",
              "3        2.0   10     True  \n",
              "4        1.0    5     True  \n",
              "...      ...  ...      ...  \n",
              "408364   0.0    0    False  \n",
              "408365   1.8    9     True  \n",
              "408366   0.0    0    False  \n",
              "408367   1.8    9     True  \n",
              "408368   2.6   13     True  \n",
              "\n",
              "[408369 rows x 8 columns]"
            ],
            "text/html": [
              "\n",
              "  <div id=\"df-6d249023-b3e4-439e-9731-202223a58c38\">\n",
              "    <div class=\"colab-df-container\">\n",
              "      <div>\n",
              "<style scoped>\n",
              "    .dataframe tbody tr th:only-of-type {\n",
              "        vertical-align: middle;\n",
              "    }\n",
              "\n",
              "    .dataframe tbody tr th {\n",
              "        vertical-align: top;\n",
              "    }\n",
              "\n",
              "    .dataframe thead th {\n",
              "        text-align: right;\n",
              "    }\n",
              "</style>\n",
              "<table border=\"1\" class=\"dataframe\">\n",
              "  <thead>\n",
              "    <tr style=\"text-align: right;\">\n",
              "      <th></th>\n",
              "      <th>id_num</th>\n",
              "      <th>speaker</th>\n",
              "      <th>text</th>\n",
              "      <th>okt_text</th>\n",
              "      <th>types</th>\n",
              "      <th>mean</th>\n",
              "      <th>sum</th>\n",
              "      <th>boolean</th>\n",
              "    </tr>\n",
              "  </thead>\n",
              "  <tbody>\n",
              "    <tr>\n",
              "      <th>0</th>\n",
              "      <td>615281b0aab10bca18a468e2-1</td>\n",
              "      <td>1</td>\n",
              "      <td>부랴부랴 왔는데 아무도 안왔네. 시간개념들이 없네</td>\n",
              "      <td>[부랴부랴, 왔는데, 아무, 도, 안, 왔네, ., 시간, 개념, 들, 이, 없네]</td>\n",
              "      <td>[CENSURE]</td>\n",
              "      <td>2.0</td>\n",
              "      <td>10</td>\n",
              "      <td>True</td>\n",
              "    </tr>\n",
              "    <tr>\n",
              "      <th>1</th>\n",
              "      <td>615281b0aab10bca18a468e2-2</td>\n",
              "      <td>2</td>\n",
              "      <td>맞아. 사람들이 진짜 개념이없다</td>\n",
              "      <td>[맞아, ., 사람, 들, 이, 진짜, 개념, 이, 없다]</td>\n",
              "      <td>[CENSURE]</td>\n",
              "      <td>2.0</td>\n",
              "      <td>10</td>\n",
              "      <td>True</td>\n",
              "    </tr>\n",
              "    <tr>\n",
              "      <th>2</th>\n",
              "      <td>615281b0aab10bca18a468e2-3</td>\n",
              "      <td>1</td>\n",
              "      <td>저렇게는 살지 말아야지</td>\n",
              "      <td>[저렇게는, 살, 지, 말아야지]</td>\n",
              "      <td>[CENSURE]</td>\n",
              "      <td>2.0</td>\n",
              "      <td>10</td>\n",
              "      <td>True</td>\n",
              "    </tr>\n",
              "    <tr>\n",
              "      <th>3</th>\n",
              "      <td>615281b0aab10bca18a468e2-4</td>\n",
              "      <td>2</td>\n",
              "      <td>그러게 게으르고 멍청한 사람들은 맞아야해</td>\n",
              "      <td>[그러게, 게으르고, 멍청한, 사람, 들, 은, 맞아야해]</td>\n",
              "      <td>[CENSURE]</td>\n",
              "      <td>2.0</td>\n",
              "      <td>10</td>\n",
              "      <td>True</td>\n",
              "    </tr>\n",
              "    <tr>\n",
              "      <th>4</th>\n",
              "      <td>615281c2aab10bca18a4b716-1</td>\n",
              "      <td>1</td>\n",
              "      <td>인방 보는 남자는 거르는게 맞다</td>\n",
              "      <td>[인방, 보는, 남자, 는, 거르는, 게, 맞다]</td>\n",
              "      <td>[CENSURE]</td>\n",
              "      <td>1.0</td>\n",
              "      <td>5</td>\n",
              "      <td>True</td>\n",
              "    </tr>\n",
              "    <tr>\n",
              "      <th>...</th>\n",
              "      <td>...</td>\n",
              "      <td>...</td>\n",
              "      <td>...</td>\n",
              "      <td>...</td>\n",
              "      <td>...</td>\n",
              "      <td>...</td>\n",
              "      <td>...</td>\n",
              "      <td>...</td>\n",
              "    </tr>\n",
              "    <tr>\n",
              "      <th>408364</th>\n",
              "      <td>615fc389dcbfe5fa32e7941c-1</td>\n",
              "      <td>1</td>\n",
              "      <td>저 여자는 오늘도 레깅스 입네</td>\n",
              "      <td>[저, 여자, 는, 오늘, 도, 레깅스, 입네]</td>\n",
              "      <td>[IMMORAL_NONE]</td>\n",
              "      <td>0.0</td>\n",
              "      <td>0</td>\n",
              "      <td>False</td>\n",
              "    </tr>\n",
              "    <tr>\n",
              "      <th>408365</th>\n",
              "      <td>615fc389dcbfe5fa32e7941c-2</td>\n",
              "      <td>1</td>\n",
              "      <td>남자 아래에 깔려서 당하고 싶은건가?</td>\n",
              "      <td>[남자, 아래, 에, 깔려서, 당하고, 싶은, 건가, ?]</td>\n",
              "      <td>[VIOLENCE]</td>\n",
              "      <td>1.8</td>\n",
              "      <td>9</td>\n",
              "      <td>True</td>\n",
              "    </tr>\n",
              "    <tr>\n",
              "      <th>408366</th>\n",
              "      <td>615fc389dcbfe5fa32e7941c-3</td>\n",
              "      <td>2</td>\n",
              "      <td>휴유, 내가 봐준다 뒷태가 끝내주는데!</td>\n",
              "      <td>[휴, 유, ,, 내, 가, 봐, 준다, 뒷, 태, 가, 끝내주는데, !]</td>\n",
              "      <td>[IMMORAL_NONE]</td>\n",
              "      <td>0.0</td>\n",
              "      <td>0</td>\n",
              "      <td>False</td>\n",
              "    </tr>\n",
              "    <tr>\n",
              "      <th>408367</th>\n",
              "      <td>615fc389dcbfe5fa32e7941c-4</td>\n",
              "      <td>2</td>\n",
              "      <td>저정도면 놀아달라는 거 아닌가? 저 라인봐봐 만지면 으스러지겠어</td>\n",
              "      <td>[저, 정도, 면, 놀아, 달라, 는, 거, 아닌가, ?, 저, 라인, 봐, 봐, ...</td>\n",
              "      <td>[SEXUAL]</td>\n",
              "      <td>1.8</td>\n",
              "      <td>9</td>\n",
              "      <td>True</td>\n",
              "    </tr>\n",
              "    <tr>\n",
              "      <th>408368</th>\n",
              "      <td>615fc389dcbfe5fa32e7941c-5</td>\n",
              "      <td>1</td>\n",
              "      <td>저 언덕 사이에 손을 넣고 주물러주면 그럴걸 ㅋㅋ 본인도 바라고 있지 않을까?</td>\n",
              "      <td>[저, 언덕, 사이, 에, 손, 을, 넣고, 주물러주면, 그럴, 걸, ㅋㅋ, 본인,...</td>\n",
              "      <td>[CRIME, SEXUAL]</td>\n",
              "      <td>2.6</td>\n",
              "      <td>13</td>\n",
              "      <td>True</td>\n",
              "    </tr>\n",
              "  </tbody>\n",
              "</table>\n",
              "<p>408369 rows × 8 columns</p>\n",
              "</div>\n",
              "      <button class=\"colab-df-convert\" onclick=\"convertToInteractive('df-6d249023-b3e4-439e-9731-202223a58c38')\"\n",
              "              title=\"Convert this dataframe to an interactive table.\"\n",
              "              style=\"display:none;\">\n",
              "        \n",
              "  <svg xmlns=\"http://www.w3.org/2000/svg\" height=\"24px\"viewBox=\"0 0 24 24\"\n",
              "       width=\"24px\">\n",
              "    <path d=\"M0 0h24v24H0V0z\" fill=\"none\"/>\n",
              "    <path d=\"M18.56 5.44l.94 2.06.94-2.06 2.06-.94-2.06-.94-.94-2.06-.94 2.06-2.06.94zm-11 1L8.5 8.5l.94-2.06 2.06-.94-2.06-.94L8.5 2.5l-.94 2.06-2.06.94zm10 10l.94 2.06.94-2.06 2.06-.94-2.06-.94-.94-2.06-.94 2.06-2.06.94z\"/><path d=\"M17.41 7.96l-1.37-1.37c-.4-.4-.92-.59-1.43-.59-.52 0-1.04.2-1.43.59L10.3 9.45l-7.72 7.72c-.78.78-.78 2.05 0 2.83L4 21.41c.39.39.9.59 1.41.59.51 0 1.02-.2 1.41-.59l7.78-7.78 2.81-2.81c.8-.78.8-2.07 0-2.86zM5.41 20L4 18.59l7.72-7.72 1.47 1.35L5.41 20z\"/>\n",
              "  </svg>\n",
              "      </button>\n",
              "      \n",
              "  <style>\n",
              "    .colab-df-container {\n",
              "      display:flex;\n",
              "      flex-wrap:wrap;\n",
              "      gap: 12px;\n",
              "    }\n",
              "\n",
              "    .colab-df-convert {\n",
              "      background-color: #E8F0FE;\n",
              "      border: none;\n",
              "      border-radius: 50%;\n",
              "      cursor: pointer;\n",
              "      display: none;\n",
              "      fill: #1967D2;\n",
              "      height: 32px;\n",
              "      padding: 0 0 0 0;\n",
              "      width: 32px;\n",
              "    }\n",
              "\n",
              "    .colab-df-convert:hover {\n",
              "      background-color: #E2EBFA;\n",
              "      box-shadow: 0px 1px 2px rgba(60, 64, 67, 0.3), 0px 1px 3px 1px rgba(60, 64, 67, 0.15);\n",
              "      fill: #174EA6;\n",
              "    }\n",
              "\n",
              "    [theme=dark] .colab-df-convert {\n",
              "      background-color: #3B4455;\n",
              "      fill: #D2E3FC;\n",
              "    }\n",
              "\n",
              "    [theme=dark] .colab-df-convert:hover {\n",
              "      background-color: #434B5C;\n",
              "      box-shadow: 0px 1px 3px 1px rgba(0, 0, 0, 0.15);\n",
              "      filter: drop-shadow(0px 1px 2px rgba(0, 0, 0, 0.3));\n",
              "      fill: #FFFFFF;\n",
              "    }\n",
              "  </style>\n",
              "\n",
              "      <script>\n",
              "        const buttonEl =\n",
              "          document.querySelector('#df-6d249023-b3e4-439e-9731-202223a58c38 button.colab-df-convert');\n",
              "        buttonEl.style.display =\n",
              "          google.colab.kernel.accessAllowed ? 'block' : 'none';\n",
              "\n",
              "        async function convertToInteractive(key) {\n",
              "          const element = document.querySelector('#df-6d249023-b3e4-439e-9731-202223a58c38');\n",
              "          const dataTable =\n",
              "            await google.colab.kernel.invokeFunction('convertToInteractive',\n",
              "                                                     [key], {});\n",
              "          if (!dataTable) return;\n",
              "\n",
              "          const docLinkHtml = 'Like what you see? Visit the ' +\n",
              "            '<a target=\"_blank\" href=https://colab.research.google.com/notebooks/data_table.ipynb>data table notebook</a>'\n",
              "            + ' to learn more about interactive tables.';\n",
              "          element.innerHTML = '';\n",
              "          dataTable['output_type'] = 'display_data';\n",
              "          await google.colab.output.renderOutput(dataTable, element);\n",
              "          const docLink = document.createElement('div');\n",
              "          docLink.innerHTML = docLinkHtml;\n",
              "          element.appendChild(docLink);\n",
              "        }\n",
              "      </script>\n",
              "    </div>\n",
              "  </div>\n",
              "  "
            ]
          },
          "metadata": {},
          "execution_count": 311
        }
      ]
    },
    {
      "cell_type": "code",
      "source": [
        "df2.to_csv('/content/drive/MyDrive/datasets/aihub_okt.csv', index=False)"
      ],
      "metadata": {
        "id": "TSUjDHgNNx7l"
      },
      "execution_count": null,
      "outputs": []
    },
    {
      "cell_type": "code",
      "source": [
        "df2 = pd.read_csv('/content/drive/MyDrive/datasets/aihub_okt.csv')"
      ],
      "metadata": {
        "id": "_HYRHilfOHZS"
      },
      "execution_count": null,
      "outputs": []
    },
    {
      "cell_type": "code",
      "source": [
        "df2"
      ],
      "metadata": {
        "colab": {
          "base_uri": "https://localhost:8080/",
          "height": 658
        },
        "id": "L1rw_zBROKw2",
        "outputId": "218b3e4a-c9d1-4252-99c3-039ffcb57f32"
      },
      "execution_count": null,
      "outputs": [
        {
          "output_type": "execute_result",
          "data": {
            "text/plain": [
              "                            id_num  speaker  \\\n",
              "0       615281b0aab10bca18a468e2-1        1   \n",
              "1       615281b0aab10bca18a468e2-2        2   \n",
              "2       615281b0aab10bca18a468e2-3        1   \n",
              "3       615281b0aab10bca18a468e2-4        2   \n",
              "4       615281c2aab10bca18a4b716-1        1   \n",
              "...                            ...      ...   \n",
              "408364  615fc389dcbfe5fa32e7941c-1        1   \n",
              "408365  615fc389dcbfe5fa32e7941c-2        1   \n",
              "408366  615fc389dcbfe5fa32e7941c-3        2   \n",
              "408367  615fc389dcbfe5fa32e7941c-4        2   \n",
              "408368  615fc389dcbfe5fa32e7941c-5        1   \n",
              "\n",
              "                                               text  \\\n",
              "0                       부랴부랴 왔는데 아무도 안왔네. 시간개념들이 없네   \n",
              "1                                 맞아. 사람들이 진짜 개념이없다   \n",
              "2                                      저렇게는 살지 말아야지   \n",
              "3                            그러게 게으르고 멍청한 사람들은 맞아야해   \n",
              "4                                 인방 보는 남자는 거르는게 맞다   \n",
              "...                                             ...   \n",
              "408364                             저 여자는 오늘도 레깅스 입네   \n",
              "408365                         남자 아래에 깔려서 당하고 싶은건가?   \n",
              "408366                        휴유, 내가 봐준다 뒷태가 끝내주는데!   \n",
              "408367          저정도면 놀아달라는 거 아닌가? 저 라인봐봐 만지면 으스러지겠어   \n",
              "408368  저 언덕 사이에 손을 넣고 주물러주면 그럴걸 ㅋㅋ 본인도 바라고 있지 않을까?   \n",
              "\n",
              "                                                 okt_text  \\\n",
              "0       ['부랴부랴', '왔는데', '아무', '도', '안', '왔네', '.', '시간...   \n",
              "1       ['맞아', '.', '사람', '들', '이', '진짜', '개념', '이', '...   \n",
              "2                              ['저렇게는', '살', '지', '말아야지']   \n",
              "3          ['그러게', '게으르고', '멍청한', '사람', '들', '은', '맞아야해']   \n",
              "4               ['인방', '보는', '남자', '는', '거르는', '게', '맞다']   \n",
              "...                                                   ...   \n",
              "408364           ['저', '여자', '는', '오늘', '도', '레깅스', '입네']   \n",
              "408365   ['남자', '아래', '에', '깔려서', '당하고', '싶은', '건가', '?']   \n",
              "408366  ['휴', '유', ',', '내', '가', '봐', '준다', '뒷', '태',...   \n",
              "408367  ['저', '정도', '면', '놀아', '달라', '는', '거', '아닌가', ...   \n",
              "408368  ['저', '언덕', '사이', '에', '손', '을', '넣고', '주물러주면'...   \n",
              "\n",
              "                      types  mean  sum  boolean  \n",
              "0               ['CENSURE']   2.0   10     True  \n",
              "1               ['CENSURE']   2.0   10     True  \n",
              "2               ['CENSURE']   2.0   10     True  \n",
              "3               ['CENSURE']   2.0   10     True  \n",
              "4               ['CENSURE']   1.0    5     True  \n",
              "...                     ...   ...  ...      ...  \n",
              "408364     ['IMMORAL_NONE']   0.0    0    False  \n",
              "408365         ['VIOLENCE']   1.8    9     True  \n",
              "408366     ['IMMORAL_NONE']   0.0    0    False  \n",
              "408367           ['SEXUAL']   1.8    9     True  \n",
              "408368  ['CRIME', 'SEXUAL']   2.6   13     True  \n",
              "\n",
              "[408369 rows x 8 columns]"
            ],
            "text/html": [
              "\n",
              "  <div id=\"df-b872e580-5ed8-4bed-baa1-ffa7433f96f3\">\n",
              "    <div class=\"colab-df-container\">\n",
              "      <div>\n",
              "<style scoped>\n",
              "    .dataframe tbody tr th:only-of-type {\n",
              "        vertical-align: middle;\n",
              "    }\n",
              "\n",
              "    .dataframe tbody tr th {\n",
              "        vertical-align: top;\n",
              "    }\n",
              "\n",
              "    .dataframe thead th {\n",
              "        text-align: right;\n",
              "    }\n",
              "</style>\n",
              "<table border=\"1\" class=\"dataframe\">\n",
              "  <thead>\n",
              "    <tr style=\"text-align: right;\">\n",
              "      <th></th>\n",
              "      <th>id_num</th>\n",
              "      <th>speaker</th>\n",
              "      <th>text</th>\n",
              "      <th>okt_text</th>\n",
              "      <th>types</th>\n",
              "      <th>mean</th>\n",
              "      <th>sum</th>\n",
              "      <th>boolean</th>\n",
              "    </tr>\n",
              "  </thead>\n",
              "  <tbody>\n",
              "    <tr>\n",
              "      <th>0</th>\n",
              "      <td>615281b0aab10bca18a468e2-1</td>\n",
              "      <td>1</td>\n",
              "      <td>부랴부랴 왔는데 아무도 안왔네. 시간개념들이 없네</td>\n",
              "      <td>['부랴부랴', '왔는데', '아무', '도', '안', '왔네', '.', '시간...</td>\n",
              "      <td>['CENSURE']</td>\n",
              "      <td>2.0</td>\n",
              "      <td>10</td>\n",
              "      <td>True</td>\n",
              "    </tr>\n",
              "    <tr>\n",
              "      <th>1</th>\n",
              "      <td>615281b0aab10bca18a468e2-2</td>\n",
              "      <td>2</td>\n",
              "      <td>맞아. 사람들이 진짜 개념이없다</td>\n",
              "      <td>['맞아', '.', '사람', '들', '이', '진짜', '개념', '이', '...</td>\n",
              "      <td>['CENSURE']</td>\n",
              "      <td>2.0</td>\n",
              "      <td>10</td>\n",
              "      <td>True</td>\n",
              "    </tr>\n",
              "    <tr>\n",
              "      <th>2</th>\n",
              "      <td>615281b0aab10bca18a468e2-3</td>\n",
              "      <td>1</td>\n",
              "      <td>저렇게는 살지 말아야지</td>\n",
              "      <td>['저렇게는', '살', '지', '말아야지']</td>\n",
              "      <td>['CENSURE']</td>\n",
              "      <td>2.0</td>\n",
              "      <td>10</td>\n",
              "      <td>True</td>\n",
              "    </tr>\n",
              "    <tr>\n",
              "      <th>3</th>\n",
              "      <td>615281b0aab10bca18a468e2-4</td>\n",
              "      <td>2</td>\n",
              "      <td>그러게 게으르고 멍청한 사람들은 맞아야해</td>\n",
              "      <td>['그러게', '게으르고', '멍청한', '사람', '들', '은', '맞아야해']</td>\n",
              "      <td>['CENSURE']</td>\n",
              "      <td>2.0</td>\n",
              "      <td>10</td>\n",
              "      <td>True</td>\n",
              "    </tr>\n",
              "    <tr>\n",
              "      <th>4</th>\n",
              "      <td>615281c2aab10bca18a4b716-1</td>\n",
              "      <td>1</td>\n",
              "      <td>인방 보는 남자는 거르는게 맞다</td>\n",
              "      <td>['인방', '보는', '남자', '는', '거르는', '게', '맞다']</td>\n",
              "      <td>['CENSURE']</td>\n",
              "      <td>1.0</td>\n",
              "      <td>5</td>\n",
              "      <td>True</td>\n",
              "    </tr>\n",
              "    <tr>\n",
              "      <th>...</th>\n",
              "      <td>...</td>\n",
              "      <td>...</td>\n",
              "      <td>...</td>\n",
              "      <td>...</td>\n",
              "      <td>...</td>\n",
              "      <td>...</td>\n",
              "      <td>...</td>\n",
              "      <td>...</td>\n",
              "    </tr>\n",
              "    <tr>\n",
              "      <th>408364</th>\n",
              "      <td>615fc389dcbfe5fa32e7941c-1</td>\n",
              "      <td>1</td>\n",
              "      <td>저 여자는 오늘도 레깅스 입네</td>\n",
              "      <td>['저', '여자', '는', '오늘', '도', '레깅스', '입네']</td>\n",
              "      <td>['IMMORAL_NONE']</td>\n",
              "      <td>0.0</td>\n",
              "      <td>0</td>\n",
              "      <td>False</td>\n",
              "    </tr>\n",
              "    <tr>\n",
              "      <th>408365</th>\n",
              "      <td>615fc389dcbfe5fa32e7941c-2</td>\n",
              "      <td>1</td>\n",
              "      <td>남자 아래에 깔려서 당하고 싶은건가?</td>\n",
              "      <td>['남자', '아래', '에', '깔려서', '당하고', '싶은', '건가', '?']</td>\n",
              "      <td>['VIOLENCE']</td>\n",
              "      <td>1.8</td>\n",
              "      <td>9</td>\n",
              "      <td>True</td>\n",
              "    </tr>\n",
              "    <tr>\n",
              "      <th>408366</th>\n",
              "      <td>615fc389dcbfe5fa32e7941c-3</td>\n",
              "      <td>2</td>\n",
              "      <td>휴유, 내가 봐준다 뒷태가 끝내주는데!</td>\n",
              "      <td>['휴', '유', ',', '내', '가', '봐', '준다', '뒷', '태',...</td>\n",
              "      <td>['IMMORAL_NONE']</td>\n",
              "      <td>0.0</td>\n",
              "      <td>0</td>\n",
              "      <td>False</td>\n",
              "    </tr>\n",
              "    <tr>\n",
              "      <th>408367</th>\n",
              "      <td>615fc389dcbfe5fa32e7941c-4</td>\n",
              "      <td>2</td>\n",
              "      <td>저정도면 놀아달라는 거 아닌가? 저 라인봐봐 만지면 으스러지겠어</td>\n",
              "      <td>['저', '정도', '면', '놀아', '달라', '는', '거', '아닌가', ...</td>\n",
              "      <td>['SEXUAL']</td>\n",
              "      <td>1.8</td>\n",
              "      <td>9</td>\n",
              "      <td>True</td>\n",
              "    </tr>\n",
              "    <tr>\n",
              "      <th>408368</th>\n",
              "      <td>615fc389dcbfe5fa32e7941c-5</td>\n",
              "      <td>1</td>\n",
              "      <td>저 언덕 사이에 손을 넣고 주물러주면 그럴걸 ㅋㅋ 본인도 바라고 있지 않을까?</td>\n",
              "      <td>['저', '언덕', '사이', '에', '손', '을', '넣고', '주물러주면'...</td>\n",
              "      <td>['CRIME', 'SEXUAL']</td>\n",
              "      <td>2.6</td>\n",
              "      <td>13</td>\n",
              "      <td>True</td>\n",
              "    </tr>\n",
              "  </tbody>\n",
              "</table>\n",
              "<p>408369 rows × 8 columns</p>\n",
              "</div>\n",
              "      <button class=\"colab-df-convert\" onclick=\"convertToInteractive('df-b872e580-5ed8-4bed-baa1-ffa7433f96f3')\"\n",
              "              title=\"Convert this dataframe to an interactive table.\"\n",
              "              style=\"display:none;\">\n",
              "        \n",
              "  <svg xmlns=\"http://www.w3.org/2000/svg\" height=\"24px\"viewBox=\"0 0 24 24\"\n",
              "       width=\"24px\">\n",
              "    <path d=\"M0 0h24v24H0V0z\" fill=\"none\"/>\n",
              "    <path d=\"M18.56 5.44l.94 2.06.94-2.06 2.06-.94-2.06-.94-.94-2.06-.94 2.06-2.06.94zm-11 1L8.5 8.5l.94-2.06 2.06-.94-2.06-.94L8.5 2.5l-.94 2.06-2.06.94zm10 10l.94 2.06.94-2.06 2.06-.94-2.06-.94-.94-2.06-.94 2.06-2.06.94z\"/><path d=\"M17.41 7.96l-1.37-1.37c-.4-.4-.92-.59-1.43-.59-.52 0-1.04.2-1.43.59L10.3 9.45l-7.72 7.72c-.78.78-.78 2.05 0 2.83L4 21.41c.39.39.9.59 1.41.59.51 0 1.02-.2 1.41-.59l7.78-7.78 2.81-2.81c.8-.78.8-2.07 0-2.86zM5.41 20L4 18.59l7.72-7.72 1.47 1.35L5.41 20z\"/>\n",
              "  </svg>\n",
              "      </button>\n",
              "      \n",
              "  <style>\n",
              "    .colab-df-container {\n",
              "      display:flex;\n",
              "      flex-wrap:wrap;\n",
              "      gap: 12px;\n",
              "    }\n",
              "\n",
              "    .colab-df-convert {\n",
              "      background-color: #E8F0FE;\n",
              "      border: none;\n",
              "      border-radius: 50%;\n",
              "      cursor: pointer;\n",
              "      display: none;\n",
              "      fill: #1967D2;\n",
              "      height: 32px;\n",
              "      padding: 0 0 0 0;\n",
              "      width: 32px;\n",
              "    }\n",
              "\n",
              "    .colab-df-convert:hover {\n",
              "      background-color: #E2EBFA;\n",
              "      box-shadow: 0px 1px 2px rgba(60, 64, 67, 0.3), 0px 1px 3px 1px rgba(60, 64, 67, 0.15);\n",
              "      fill: #174EA6;\n",
              "    }\n",
              "\n",
              "    [theme=dark] .colab-df-convert {\n",
              "      background-color: #3B4455;\n",
              "      fill: #D2E3FC;\n",
              "    }\n",
              "\n",
              "    [theme=dark] .colab-df-convert:hover {\n",
              "      background-color: #434B5C;\n",
              "      box-shadow: 0px 1px 3px 1px rgba(0, 0, 0, 0.15);\n",
              "      filter: drop-shadow(0px 1px 2px rgba(0, 0, 0, 0.3));\n",
              "      fill: #FFFFFF;\n",
              "    }\n",
              "  </style>\n",
              "\n",
              "      <script>\n",
              "        const buttonEl =\n",
              "          document.querySelector('#df-b872e580-5ed8-4bed-baa1-ffa7433f96f3 button.colab-df-convert');\n",
              "        buttonEl.style.display =\n",
              "          google.colab.kernel.accessAllowed ? 'block' : 'none';\n",
              "\n",
              "        async function convertToInteractive(key) {\n",
              "          const element = document.querySelector('#df-b872e580-5ed8-4bed-baa1-ffa7433f96f3');\n",
              "          const dataTable =\n",
              "            await google.colab.kernel.invokeFunction('convertToInteractive',\n",
              "                                                     [key], {});\n",
              "          if (!dataTable) return;\n",
              "\n",
              "          const docLinkHtml = 'Like what you see? Visit the ' +\n",
              "            '<a target=\"_blank\" href=https://colab.research.google.com/notebooks/data_table.ipynb>data table notebook</a>'\n",
              "            + ' to learn more about interactive tables.';\n",
              "          element.innerHTML = '';\n",
              "          dataTable['output_type'] = 'display_data';\n",
              "          await google.colab.output.renderOutput(dataTable, element);\n",
              "          const docLink = document.createElement('div');\n",
              "          docLink.innerHTML = docLinkHtml;\n",
              "          element.appendChild(docLink);\n",
              "        }\n",
              "      </script>\n",
              "    </div>\n",
              "  </div>\n",
              "  "
            ]
          },
          "metadata": {},
          "execution_count": 226
        }
      ]
    },
    {
      "cell_type": "code",
      "source": [
        "bow = list()\n",
        "duplicated = list()\n",
        "for words in tqdm(df2.okt_text):\n",
        "  for word in words:\n",
        "    if word in bow:\n",
        "      duplicated.append(word)\n",
        "    else:\n",
        "      bow.append(word)\n",
        "duplicated_word = list(set(duplicated))\n",
        "rare_word = list(set(bow) - set(duplicated))"
      ],
      "metadata": {
        "colab": {
          "base_uri": "https://localhost:8080/",
          "height": 49,
          "referenced_widgets": [
            "3fa90121151f47cab7bf821e706d68e8",
            "a39a9569caa24f1997f0c8e73e5dabd3",
            "4d69e029e3574a339efebd46f276bc03",
            "449af451ae2b4bb49d158c99b93f3e37",
            "199428fe5bb14d6ab88530d639d3bb45",
            "e6a1056cba4245ab87b95b448c54b54b",
            "061a9429015349bc8af37345d6d447a8",
            "bccc5992fbb64509b0be1c8a4b4a59c1",
            "5ab1fcfd6d564fac84d10c371595ec19",
            "28696ebb22024987b8884a993003d01c",
            "36bbbe4e382b431eb5a274bf72d81e32"
          ]
        },
        "id": "Jk3tqvzGE0xs",
        "outputId": "95bd9ac0-2c0b-4613-efb5-647c67fe7abf"
      },
      "execution_count": null,
      "outputs": [
        {
          "output_type": "display_data",
          "data": {
            "text/plain": [
              "  0%|          | 0/408369 [00:00<?, ?it/s]"
            ],
            "application/vnd.jupyter.widget-view+json": {
              "version_major": 2,
              "version_minor": 0,
              "model_id": "3fa90121151f47cab7bf821e706d68e8"
            }
          },
          "metadata": {}
        }
      ]
    },
    {
      "cell_type": "code",
      "source": [
        "len(bow), len(duplicated_word), len(rare_word)"
      ],
      "metadata": {
        "colab": {
          "base_uri": "https://localhost:8080/"
        },
        "id": "Zi1_haekOOS1",
        "outputId": "b0c2c6ae-8098-45b4-f265-d17dcd471fe6"
      },
      "execution_count": null,
      "outputs": [
        {
          "output_type": "execute_result",
          "data": {
            "text/plain": [
              "(125444, 63567, 61877)"
            ]
          },
          "metadata": {},
          "execution_count": 288
        }
      ]
    },
    {
      "cell_type": "code",
      "source": [
        "len(duplicated)"
      ],
      "metadata": {
        "colab": {
          "base_uri": "https://localhost:8080/"
        },
        "id": "eX9rBwVEeeks",
        "outputId": "e877509b-9964-4d7a-a9eb-4e1125ff0190"
      },
      "execution_count": null,
      "outputs": [
        {
          "output_type": "execute_result",
          "data": {
            "text/plain": [
              "3895152"
            ]
          },
          "metadata": {},
          "execution_count": 289
        }
      ]
    },
    {
      "cell_type": "code",
      "source": [
        "print(\"데이터의 수집처가 트위터이기 때문에 OKt를 사용하여 tokenize를 하였음\")\n",
        "print(f\"전체 사용된 어휘 량은 {len(bow) + len(duplicated)}개 이지만 실제 중복을 제외 한 어휘 수는 {len(bow)}개 뿐 이었음\")\n",
        "print(f\"주로 {len(duplicated_word)}개의 단어가 반복적으로 사용되었으며 단 1회만 사용된 희소 단어는 {len(rare_word)}개가 있었음\")"
      ],
      "metadata": {
        "colab": {
          "base_uri": "https://localhost:8080/"
        },
        "id": "iPW0QL2DfMF6",
        "outputId": "65665b70-5dd8-41d1-94af-7ee98b155362"
      },
      "execution_count": null,
      "outputs": [
        {
          "output_type": "stream",
          "name": "stdout",
          "text": [
            "데이터의 수집처가 트위터이기 때문에 OKt를 사용하여 tokenize를 하였음\n",
            "전체 사용된 어휘 량은 4020596개 이지만 실제 중복을 제외 한 어휘 수는 125444개 뿐 이었음\n",
            "주로 63567개의 단어가 반복적으로 사용되었으며 단 1회만 사용된 희소 단어는 61877개가 있었음\n"
          ]
        }
      ]
    },
    {
      "cell_type": "code",
      "source": [
        "from sklearn.preprocessing import MultiLabelBinarizer\n",
        "mlb = MultiLabelBinarizer()\n",
        "mlb_types = mlb.fit_transform(df2.types)"
      ],
      "metadata": {
        "id": "hAFeqTnkmvEj"
      },
      "execution_count": null,
      "outputs": []
    },
    {
      "cell_type": "code",
      "source": [
        "label_df = pd.DataFrame(mlb_types, columns=mlb.classes_)"
      ],
      "metadata": {
        "id": "jgfBAVZjyBe0"
      },
      "execution_count": null,
      "outputs": []
    },
    {
      "cell_type": "code",
      "source": [
        "labels = list(label_df.columns)"
      ],
      "metadata": {
        "id": "LH2O9HARzr_0"
      },
      "execution_count": null,
      "outputs": []
    },
    {
      "cell_type": "code",
      "source": [
        "label_score = dict()\n",
        "for label in tqdm(labels):\n",
        "  idx = label_df[label_df[label] == 1].index\n",
        "  score_dict = dict()\n",
        "  for words, score in zip(df2.iloc[idx].okt_text, df2.iloc[idx]['sum']):\n",
        "    for word in words:\n",
        "      if word in score_dict:\n",
        "        score_dict[word] += score\n",
        "      else:\n",
        "        score_dict[word] = score\n",
        "  label_score[label] = score_dict"
      ],
      "metadata": {
        "colab": {
          "base_uri": "https://localhost:8080/",
          "height": 49,
          "referenced_widgets": [
            "4d2d96c70f7c48e181eccbe29b0e5ad5",
            "58566d8645af40fb96538abc3d09f7e8",
            "60aa08886ca644ae82c6b0dc551e2f52",
            "b2e3d7a2306e4e8cbe5654f448933bd1",
            "612cc7c8cc054a39a8b6a3bf72369cbf",
            "10b30d1d91e446b6b2a3ed3cd3c87fe1",
            "49671c4bcff348df93c7cd6857c30bea",
            "39806043964b409da59e8a3be7b970ce",
            "a92ea9a0af2f4cd2a5038db1d6bf0e33",
            "d1e2b41ee13040b8b48623e5ad1315a6",
            "3652c39201dd460b9e30f47d2cd606d4"
          ]
        },
        "id": "NFyd3rb0z37N",
        "outputId": "c59f7ff6-fb5a-4009-d386-078ec04d7ea1"
      },
      "execution_count": null,
      "outputs": [
        {
          "output_type": "display_data",
          "data": {
            "text/plain": [
              "  0%|          | 0/8 [00:00<?, ?it/s]"
            ],
            "application/vnd.jupyter.widget-view+json": {
              "version_major": 2,
              "version_minor": 0,
              "model_id": "4d2d96c70f7c48e181eccbe29b0e5ad5"
            }
          },
          "metadata": {}
        }
      ]
    },
    {
      "cell_type": "code",
      "source": [
        "for label in labels:\n",
        "  num = len(label_score[label].keys())\n",
        "  print(f\"{label}에 포함된 단어 수 = {num}\")"
      ],
      "metadata": {
        "colab": {
          "base_uri": "https://localhost:8080/"
        },
        "id": "0ujtbedi1JC0",
        "outputId": "d94f8942-f396-4a0a-8977-0c94f678d973"
      },
      "execution_count": null,
      "outputs": [
        {
          "output_type": "stream",
          "name": "stdout",
          "text": [
            "ABUSE에 포함된 단어 수 = 26815\n",
            "CENSURE에 포함된 단어 수 = 86331\n",
            "CRIME에 포함된 단어 수 = 13025\n",
            "DISCRIMINATION에 포함된 단어 수 = 32228\n",
            "HATE에 포함된 단어 수 = 45656\n",
            "IMMORAL_NONE에 포함된 단어 수 = 72676\n",
            "SEXUAL에 포함된 단어 수 = 24871\n",
            "VIOLENCE에 포함된 단어 수 = 20440\n"
          ]
        }
      ]
    },
    {
      "cell_type": "code",
      "source": [
        "path = '/content/drive/MyDrive/datasets/labels_word/'\n",
        "\n",
        "for label in labels:\n",
        "  tmp_df = pd.DataFrame({'words':label_score[label].keys(), 'score':label_score[label].values()}).sort_values(by='score', ascending=False)\n",
        "  tmp_df.to_csv(path+f'{label}.csv', index=False)"
      ],
      "metadata": {
        "id": "JgsyrEjrzAJL"
      },
      "execution_count": null,
      "outputs": []
    },
    {
      "cell_type": "code",
      "source": [],
      "metadata": {
        "colab": {
          "base_uri": "https://localhost:8080/",
          "height": 424
        },
        "id": "BbapM8azJaH7",
        "outputId": "d5d8c2d0-77c4-4567-f5f8-cb1973895669"
      },
      "execution_count": null,
      "outputs": [
        {
          "output_type": "execute_result",
          "data": {
            "text/plain": [
              "       words  score\n",
              "24         이  40055\n",
              "33         들  38280\n",
              "38         ?  38081\n",
              "68         가  26244\n",
              "15         .  22046\n",
              "...      ...    ...\n",
              "18834   아니겠니      5\n",
              "18826  돌아오겠노      5\n",
              "18822   물어보고      5\n",
              "18814     그혐      5\n",
              "13407   지워지는      5\n",
              "\n",
              "[26815 rows x 2 columns]"
            ],
            "text/html": [
              "\n",
              "  <div id=\"df-329b0094-e895-4edb-99c3-f6308f063b0f\">\n",
              "    <div class=\"colab-df-container\">\n",
              "      <div>\n",
              "<style scoped>\n",
              "    .dataframe tbody tr th:only-of-type {\n",
              "        vertical-align: middle;\n",
              "    }\n",
              "\n",
              "    .dataframe tbody tr th {\n",
              "        vertical-align: top;\n",
              "    }\n",
              "\n",
              "    .dataframe thead th {\n",
              "        text-align: right;\n",
              "    }\n",
              "</style>\n",
              "<table border=\"1\" class=\"dataframe\">\n",
              "  <thead>\n",
              "    <tr style=\"text-align: right;\">\n",
              "      <th></th>\n",
              "      <th>words</th>\n",
              "      <th>score</th>\n",
              "    </tr>\n",
              "  </thead>\n",
              "  <tbody>\n",
              "    <tr>\n",
              "      <th>24</th>\n",
              "      <td>이</td>\n",
              "      <td>40055</td>\n",
              "    </tr>\n",
              "    <tr>\n",
              "      <th>33</th>\n",
              "      <td>들</td>\n",
              "      <td>38280</td>\n",
              "    </tr>\n",
              "    <tr>\n",
              "      <th>38</th>\n",
              "      <td>?</td>\n",
              "      <td>38081</td>\n",
              "    </tr>\n",
              "    <tr>\n",
              "      <th>68</th>\n",
              "      <td>가</td>\n",
              "      <td>26244</td>\n",
              "    </tr>\n",
              "    <tr>\n",
              "      <th>15</th>\n",
              "      <td>.</td>\n",
              "      <td>22046</td>\n",
              "    </tr>\n",
              "    <tr>\n",
              "      <th>...</th>\n",
              "      <td>...</td>\n",
              "      <td>...</td>\n",
              "    </tr>\n",
              "    <tr>\n",
              "      <th>18834</th>\n",
              "      <td>아니겠니</td>\n",
              "      <td>5</td>\n",
              "    </tr>\n",
              "    <tr>\n",
              "      <th>18826</th>\n",
              "      <td>돌아오겠노</td>\n",
              "      <td>5</td>\n",
              "    </tr>\n",
              "    <tr>\n",
              "      <th>18822</th>\n",
              "      <td>물어보고</td>\n",
              "      <td>5</td>\n",
              "    </tr>\n",
              "    <tr>\n",
              "      <th>18814</th>\n",
              "      <td>그혐</td>\n",
              "      <td>5</td>\n",
              "    </tr>\n",
              "    <tr>\n",
              "      <th>13407</th>\n",
              "      <td>지워지는</td>\n",
              "      <td>5</td>\n",
              "    </tr>\n",
              "  </tbody>\n",
              "</table>\n",
              "<p>26815 rows × 2 columns</p>\n",
              "</div>\n",
              "      <button class=\"colab-df-convert\" onclick=\"convertToInteractive('df-329b0094-e895-4edb-99c3-f6308f063b0f')\"\n",
              "              title=\"Convert this dataframe to an interactive table.\"\n",
              "              style=\"display:none;\">\n",
              "        \n",
              "  <svg xmlns=\"http://www.w3.org/2000/svg\" height=\"24px\"viewBox=\"0 0 24 24\"\n",
              "       width=\"24px\">\n",
              "    <path d=\"M0 0h24v24H0V0z\" fill=\"none\"/>\n",
              "    <path d=\"M18.56 5.44l.94 2.06.94-2.06 2.06-.94-2.06-.94-.94-2.06-.94 2.06-2.06.94zm-11 1L8.5 8.5l.94-2.06 2.06-.94-2.06-.94L8.5 2.5l-.94 2.06-2.06.94zm10 10l.94 2.06.94-2.06 2.06-.94-2.06-.94-.94-2.06-.94 2.06-2.06.94z\"/><path d=\"M17.41 7.96l-1.37-1.37c-.4-.4-.92-.59-1.43-.59-.52 0-1.04.2-1.43.59L10.3 9.45l-7.72 7.72c-.78.78-.78 2.05 0 2.83L4 21.41c.39.39.9.59 1.41.59.51 0 1.02-.2 1.41-.59l7.78-7.78 2.81-2.81c.8-.78.8-2.07 0-2.86zM5.41 20L4 18.59l7.72-7.72 1.47 1.35L5.41 20z\"/>\n",
              "  </svg>\n",
              "      </button>\n",
              "      \n",
              "  <style>\n",
              "    .colab-df-container {\n",
              "      display:flex;\n",
              "      flex-wrap:wrap;\n",
              "      gap: 12px;\n",
              "    }\n",
              "\n",
              "    .colab-df-convert {\n",
              "      background-color: #E8F0FE;\n",
              "      border: none;\n",
              "      border-radius: 50%;\n",
              "      cursor: pointer;\n",
              "      display: none;\n",
              "      fill: #1967D2;\n",
              "      height: 32px;\n",
              "      padding: 0 0 0 0;\n",
              "      width: 32px;\n",
              "    }\n",
              "\n",
              "    .colab-df-convert:hover {\n",
              "      background-color: #E2EBFA;\n",
              "      box-shadow: 0px 1px 2px rgba(60, 64, 67, 0.3), 0px 1px 3px 1px rgba(60, 64, 67, 0.15);\n",
              "      fill: #174EA6;\n",
              "    }\n",
              "\n",
              "    [theme=dark] .colab-df-convert {\n",
              "      background-color: #3B4455;\n",
              "      fill: #D2E3FC;\n",
              "    }\n",
              "\n",
              "    [theme=dark] .colab-df-convert:hover {\n",
              "      background-color: #434B5C;\n",
              "      box-shadow: 0px 1px 3px 1px rgba(0, 0, 0, 0.15);\n",
              "      filter: drop-shadow(0px 1px 2px rgba(0, 0, 0, 0.3));\n",
              "      fill: #FFFFFF;\n",
              "    }\n",
              "  </style>\n",
              "\n",
              "      <script>\n",
              "        const buttonEl =\n",
              "          document.querySelector('#df-329b0094-e895-4edb-99c3-f6308f063b0f button.colab-df-convert');\n",
              "        buttonEl.style.display =\n",
              "          google.colab.kernel.accessAllowed ? 'block' : 'none';\n",
              "\n",
              "        async function convertToInteractive(key) {\n",
              "          const element = document.querySelector('#df-329b0094-e895-4edb-99c3-f6308f063b0f');\n",
              "          const dataTable =\n",
              "            await google.colab.kernel.invokeFunction('convertToInteractive',\n",
              "                                                     [key], {});\n",
              "          if (!dataTable) return;\n",
              "\n",
              "          const docLinkHtml = 'Like what you see? Visit the ' +\n",
              "            '<a target=\"_blank\" href=https://colab.research.google.com/notebooks/data_table.ipynb>data table notebook</a>'\n",
              "            + ' to learn more about interactive tables.';\n",
              "          element.innerHTML = '';\n",
              "          dataTable['output_type'] = 'display_data';\n",
              "          await google.colab.output.renderOutput(dataTable, element);\n",
              "          const docLink = document.createElement('div');\n",
              "          docLink.innerHTML = docLinkHtml;\n",
              "          element.appendChild(docLink);\n",
              "        }\n",
              "      </script>\n",
              "    </div>\n",
              "  </div>\n",
              "  "
            ]
          },
          "metadata": {},
          "execution_count": 327
        }
      ]
    },
    {
      "cell_type": "code",
      "source": [
        "df3 = pd.concat([df2, label_df], axis=1)"
      ],
      "metadata": {
        "id": "GrGto46OJdpJ"
      },
      "execution_count": null,
      "outputs": []
    },
    {
      "cell_type": "code",
      "source": [
        "df3.to_csv('/content/drive/MyDrive/datasets/aihub_multi_label.csv')"
      ],
      "metadata": {
        "id": "dvjW6Sg7N2YT"
      },
      "execution_count": null,
      "outputs": []
    },
    {
      "cell_type": "code",
      "source": [],
      "metadata": {
        "id": "mU6T_EAbONFJ"
      },
      "execution_count": null,
      "outputs": []
    }
  ]
}